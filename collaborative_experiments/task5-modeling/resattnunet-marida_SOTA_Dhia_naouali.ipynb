{
 "cells": [
  {
   "cell_type": "code",
   "execution_count": 1,
   "metadata": {
    "execution": {
     "iopub.execute_input": "2025-05-12T10:39:48.372411Z",
     "iopub.status.busy": "2025-05-12T10:39:48.372110Z",
     "iopub.status.idle": "2025-05-12T10:39:56.077429Z",
     "shell.execute_reply": "2025-05-12T10:39:56.076753Z",
     "shell.execute_reply.started": "2025-05-12T10:39:48.372386Z"
    },
    "trusted": true
   },
   "outputs": [],
   "source": [
    "import gdown\n",
    "import os\n",
    "import random\n",
    "import numpy as np\n",
    "import pandas as pd\n",
    "from tqdm import tqdm\n",
    "from osgeo import gdal\n",
    "\n",
    "import torch\n",
    "from torch import nn, optim\n",
    "import torch.nn.functional as F\n",
    "from torch.utils.data import Dataset, DataLoader\n",
    "\n",
    "from torchvision import transforms\n",
    "import torchvision.transforms.functional as vF\n",
    "\n",
    "from sklearn.metrics import f1_score, precision_score, recall_score, accuracy_score, jaccard_score, hamming_loss, label_ranking_loss, coverage_error, classification_report\n",
    "import sklearn.metrics as metr\n",
    "\n",
    "device = torch.device(\"cuda:0\" if torch.cuda.is_available() else \"cpu\")\n",
    "batch_size=32"
   ]
  },
  {
   "cell_type": "code",
   "execution_count": 2,
   "metadata": {
    "execution": {
     "iopub.execute_input": "2025-05-12T10:39:56.079117Z",
     "iopub.status.busy": "2025-05-12T10:39:56.078559Z",
     "iopub.status.idle": "2025-05-12T10:59:21.651297Z",
     "shell.execute_reply": "2025-05-12T10:59:21.650338Z",
     "shell.execute_reply.started": "2025-05-12T10:39:56.079085Z"
    },
    "trusted": true
   },
   "outputs": [
    {
     "name": "stderr",
     "output_type": "stream",
     "text": [
      "Downloading...\n",
      "From: https://zenodo.org/records/5151941/files/MARIDA.zip?download=1\n",
      "To: /kaggle/working/marida.zip\n",
      "100%|██████████| 1.16G/1.16G [18:49<00:00, 1.03MB/s]\n"
     ]
    }
   ],
   "source": [
    "data_url = \"https://zenodo.org/records/5151941/files/MARIDA.zip?download=1\"\n",
    "data_zip = \"marida.zip\"\n",
    "marida_scenes_path = \"patches\"\n",
    "gdown.download(data_url, data_zip)\n",
    "!unzip -q marida.zip"
   ]
  },
  {
   "cell_type": "code",
   "execution_count": 3,
   "metadata": {
    "execution": {
     "iopub.execute_input": "2025-05-12T11:02:15.888356Z",
     "iopub.status.busy": "2025-05-12T11:02:15.887993Z",
     "iopub.status.idle": "2025-05-12T11:02:15.900077Z",
     "shell.execute_reply": "2025-05-12T11:02:15.899142Z",
     "shell.execute_reply.started": "2025-05-12T11:02:15.888323Z"
    },
    "trusted": true
   },
   "outputs": [],
   "source": [
    "class MARIDA(Dataset):\n",
    "    def __init__(self, mode = 'train', transform=None, standardization=None, path =\"\", agg_to_water= True):\n",
    "        if mode in [\"train\", \"test\", \"val\"]:\n",
    "            self.patches = np.genfromtxt(os.path.join(path, \"splits\", f\"{mode}_X.txt\"), dtype=\"str\")\n",
    "        else:\n",
    "            raise Exception(f\"invali split mode: {mode}\")\n",
    "\n",
    "        self._images = []\n",
    "        self._masks = []\n",
    "\n",
    "        for patch in tqdm(self.patches, desc = f\"Loading {mode} samples\"):\n",
    "            \n",
    "            patch_folder = '_'.join(['S2'] + patch.split('_')[:-1])\n",
    "            patch_name = '_'.join(['S2'] + patch.split('_'))\n",
    "            image_file = os.path.join(path, 'patches', patch_folder, f\"{patch_name}.tif\")\n",
    "            mask_file = os.path.join(path, 'patches', patch_folder,f\"{patch_name}_cl.tif\")\n",
    "            \n",
    "            ds = gdal.Open(mask_file)\n",
    "            temp = np.copy(ds.ReadAsArray().astype(np.int64))\n",
    "\n",
    "            \n",
    "            if agg_to_water:\n",
    "                temp[temp==15]=7          # Mixed Water to Marine Water Class\n",
    "                temp[temp==14]=7          # Wakes to Marine Water Class\n",
    "                temp[temp==13]=7          # Cloud Shadows to Marine Water Class\n",
    "                temp[temp==12]=7          # Waves to Marine Water Class\n",
    "\n",
    "            # setting non-labeled pixels to -1 in the mask\n",
    "            temp = np.copy(temp - 1)\n",
    "            ds=None\n",
    "            \n",
    "            self._masks.append(temp)\n",
    "            \n",
    "            ds = gdal.Open(image_file)\n",
    "            temp = np.copy(ds.ReadAsArray())\n",
    "            ds=None\n",
    "            self._images.append(temp)          \n",
    "\n",
    "        self.impute_nan = np.tile(bands_mean, (temp.shape[1],temp.shape[2],1))\n",
    "        self.mode = mode\n",
    "        self.transform = transform\n",
    "        self.standardization = standardization\n",
    "        self.path = path\n",
    "        self.agg_to_water = agg_to_water\n",
    "        \n",
    "    def __len__(self):\n",
    "        return len(self._images)\n",
    "    \n",
    "    def getnames(self):\n",
    "        return self.patches\n",
    "    \n",
    "    def __getitem__(self, idx):       \n",
    "        image = self._images[idx]\n",
    "        mask = self._masks[idx]\n",
    "\n",
    "        image = np.moveaxis(image, [0, 1, 2], [2, 0, 1]).astype(np.float32)\n",
    "        \n",
    "        nan_mask = np.isnan(image)\n",
    "        image[nan_mask] = self.impute_nan[nan_mask]\n",
    "        \n",
    "        if self.transform is not None:\n",
    "            mask = mask[:,:,np.newaxis]\n",
    "            # applying the same rotation on the image-mask pair\n",
    "            stack = np.concatenate([image, mask], axis=-1).astype(np.float32) \n",
    "\n",
    "            stack = self.transform(stack) # h, w, c => c, h, w\n",
    "\n",
    "            image = stack[:-1,:,:]\n",
    "            mask = stack[-1,:,:].long()\n",
    "\n",
    "\n",
    "        # print(image)\n",
    "        \n",
    "        # if not isinstance(image, torch.Tensor):\n",
    "        #     image = torch.from_numpy(image)\n",
    "\n",
    "        \n",
    "        if self.standardization is not None:\n",
    "            image = self.standardization(image)\n",
    "\n",
    "        return image, mask\n",
    "    \n",
    "class RandomRotationTransform:\n",
    "    \"\"\"Rotate by one of the given angles.\"\"\"\n",
    "\n",
    "    def __init__(self, angles):\n",
    "        self.angles = angles\n",
    "\n",
    "    def __call__(self, x):\n",
    "        angle = random.choice(self.angles)\n",
    "        return vF.rotate(x, angle)\n",
    "    \n",
    "def gen_weights(class_distribution, c = 1.02):\n",
    "    return 1/torch.log(c + class_distribution)"
   ]
  },
  {
   "cell_type": "code",
   "execution_count": 4,
   "metadata": {
    "execution": {
     "iopub.execute_input": "2025-05-12T11:02:16.140434Z",
     "iopub.status.busy": "2025-05-12T11:02:16.140151Z",
     "iopub.status.idle": "2025-05-12T11:02:23.940986Z",
     "shell.execute_reply": "2025-05-12T11:02:23.940293Z",
     "shell.execute_reply.started": "2025-05-12T11:02:16.140414Z"
    },
    "trusted": true
   },
   "outputs": [
    {
     "name": "stderr",
     "output_type": "stream",
     "text": [
      "Loading train samples: 100%|██████████| 694/694 [00:05<00:00, 135.97it/s]\n",
      "Loading val samples: 100%|██████████| 328/328 [00:02<00:00, 140.03it/s]\n"
     ]
    }
   ],
   "source": [
    "class_distr = torch.tensor([0.00452, 0.00203, 0.00254, 0.00168, 0.00766, 0.15206, 0.20232,\n",
    " 0.35941, 0.00109, 0.20218, 0.03226, 0.00693, 0.01322, 0.01158, 0.00052], device=device)\n",
    "\n",
    "bands_mean = np.array([0.05197577, 0.04783991, 0.04056812, 0.03163572, 0.02972606, 0.03457443,\n",
    " 0.03875053, 0.03436435, 0.0392113,  0.02358126, 0.01588816]).astype(np.float32)\n",
    "\n",
    "bands_std = np.array([0.04725893, 0.04743808, 0.04699043, 0.04967381, 0.04946782, 0.06458357,\n",
    " 0.07594915, 0.07120246, 0.08251058, 0.05111466, 0.03524419]).astype(np.float32)\n",
    "\n",
    "transformTrain = transforms.Compose([transforms.ToTensor(),\n",
    "                                    RandomRotationTransform([-90, 0, 90, 180]),\n",
    "                                    transforms.RandomHorizontalFlip()])\n",
    "    \n",
    "transformTest = transforms.Compose([transforms.ToTensor()])\n",
    "    \n",
    "standardization = transforms.Normalize(bands_mean, bands_std)\n",
    "\n",
    "datasetTrain = MARIDA('train', transform=transformTrain, standardization = standardization)\n",
    "datasetTest = MARIDA('val', transform=transformTest, standardization = standardization)\n",
    "\n",
    "trainLoader = DataLoader(datasetTrain,\n",
    "                        batch_size=batch_size, \n",
    "                        shuffle=True\n",
    "                        )\n",
    "\n",
    "\n",
    "testLoader = DataLoader(datasetTest, \n",
    "                        batch_size=batch_size, \n",
    "                        shuffle=False,\n",
    "                        )\n",
    "\n",
    "\n",
    "agg_distr = sum(class_distr[-4:])\n",
    "class_distr[6] += agg_distr\n",
    "class_distr = class_distr[:-4]\n",
    "\n",
    "weight = gen_weights(class_distr, c = 1.03).to(device)"
   ]
  },
  {
   "cell_type": "code",
   "execution_count": 5,
   "metadata": {
    "execution": {
     "iopub.execute_input": "2025-05-12T11:02:24.249494Z",
     "iopub.status.busy": "2025-05-12T11:02:24.249201Z",
     "iopub.status.idle": "2025-05-12T11:02:24.255843Z",
     "shell.execute_reply": "2025-05-12T11:02:24.255146Z",
     "shell.execute_reply.started": "2025-05-12T11:02:24.249474Z"
    },
    "trusted": true
   },
   "outputs": [
    {
     "data": {
      "text/plain": [
       "(torch.Size([11]), torch.Size([11]))"
      ]
     },
     "execution_count": 5,
     "metadata": {},
     "output_type": "execute_result"
    }
   ],
   "source": [
    "weight.size(), class_distr.size()"
   ]
  },
  {
   "cell_type": "code",
   "execution_count": 6,
   "metadata": {
    "execution": {
     "iopub.execute_input": "2025-05-12T11:02:26.482189Z",
     "iopub.status.busy": "2025-05-12T11:02:26.481903Z",
     "iopub.status.idle": "2025-05-12T11:02:26.500212Z",
     "shell.execute_reply": "2025-05-12T11:02:26.499376Z",
     "shell.execute_reply.started": "2025-05-12T11:02:26.482167Z"
    },
    "trusted": true
   },
   "outputs": [],
   "source": [
    "def conv3x3(in_channels, out_channels, stride=1):\n",
    "    \"3x3 convolution with padding\"\n",
    "    return nn.Conv2d(in_channels, out_channels, kernel_size=3, stride=stride,\n",
    "                     padding=1, bias=False)\n",
    "\n",
    "class ChannelAttention(nn.Module):\n",
    "    def __init__(self, channels, ratio=16):\n",
    "        super().__init__()\n",
    "        self.avg_pool = nn.AdaptiveAvgPool2d(1)\n",
    "        self.max_pool = nn.AdaptiveMaxPool2d(1)\n",
    "\n",
    "        self.mlp = nn.Sequential(nn.Conv2d(channels, channels // 16, 1, bias=False),\n",
    "                               nn.ReLU(),\n",
    "                               nn.Conv2d(channels // 16, channels, 1, bias=False))\n",
    "        self.sigmoid = nn.Sigmoid()\n",
    "\n",
    "    def forward(self, x):\n",
    "        avg_out = self.mlp(self.avg_pool(x))\n",
    "        max_out = self.mlp(self.max_pool(x))\n",
    "        out = avg_out + max_out\n",
    "        return self.sigmoid(out)\n",
    "\n",
    "class SpatialAttention(nn.Module):\n",
    "    def __init__(self, kernel_size=7):\n",
    "        super().__init__()\n",
    "\n",
    "        self.conv1 = nn.Conv2d(2, 1, kernel_size, padding=kernel_size//2, bias=False)\n",
    "        self.sigmoid = nn.Sigmoid()\n",
    "\n",
    "    def forward(self, x):\n",
    "        avg_out = torch.mean(x, dim=1, keepdim=True)\n",
    "        max_out, _ = torch.max(x, dim=1, keepdim=True)\n",
    "        x = torch.cat([avg_out, max_out], dim=1)\n",
    "        x = self.conv1(x)\n",
    "        return self.sigmoid(x)\n",
    "\n",
    "class ResidualBlock(nn.Module):\n",
    "    def __init__(self, inputChannel, outputChannel, stride=1, downsample=None):\n",
    "        super(ResidualBlock, self).__init__()\n",
    "        self.conv1 = conv3x3(inputChannel, outputChannel, stride)\n",
    "        self.bn1 = nn.BatchNorm2d(outputChannel)\n",
    "        self.relu = nn.ReLU(inplace=True)\n",
    "        self.conv2 = conv3x3(outputChannel, outputChannel)\n",
    "        self.bn2 = nn.BatchNorm2d(outputChannel)\n",
    "        self.downsample = downsample\n",
    "        self.ca = ChannelAttention(outputChannel)\n",
    "        self.sa = SpatialAttention()\n",
    "        \n",
    "    # def forward(self, x):\n",
    "    #     residual = x\n",
    "    #     out = self.conv1(x)\n",
    "    #     out = self.bn1(out)\n",
    "    #     out = self.relu(out)\n",
    "    #     out = self.conv2(out)\n",
    "    #     out = self.bn2(out)\n",
    "    #     if self.downsample:\n",
    "    #         residual = self.downsample(x)\n",
    "    #     out += residual\n",
    "    #     out = self.relu(out)\n",
    "    #     caOutput = self.ca(out)\n",
    "    #     out = caOutput * out\n",
    "    #     saOutput = self.sa(out)\n",
    "    #     out = saOutput * out\n",
    "    #     return out, saOutput\n",
    "\n",
    "    def forward(self, x):\n",
    "        residual = x\n",
    "        out = self.conv1(x)\n",
    "        out = self.bn1(out)\n",
    "        out = self.relu(out)\n",
    "        out = self.conv2(out)\n",
    "        if self.downsample:\n",
    "            residual = self.downsample(x)\n",
    "        out += residual\n",
    "        out = self.bn2(out)\n",
    "        out = self.relu(out)\n",
    "        caOutput = self.ca(out)\n",
    "        out = caOutput * out\n",
    "        saOutput = self.sa(out)\n",
    "        out = saOutput * out\n",
    "        return out, saOutput\n",
    "\n",
    "\n",
    "class DownSampleWithAttention(nn.Module):\n",
    "    def __init__(self, inputChannel, outputChannel):\n",
    "        super().__init__()\n",
    "        self.convolution = nn.Sequential(\n",
    "            nn.Conv2d(inputChannel, outputChannel, kernel_size=3, padding=1),\n",
    "            nn.BatchNorm2d(outputChannel),\n",
    "            nn.LeakyReLU(0.2),\n",
    "            nn.Conv2d(outputChannel, outputChannel, kernel_size=3, padding=1),\n",
    "            nn.BatchNorm2d(outputChannel),\n",
    "            nn.LeakyReLU(0.2),\n",
    "            nn.AvgPool2d(2)\n",
    "        )\n",
    "        self.ca = ChannelAttention(outputChannel)\n",
    "        self.sa = SpatialAttention()\n",
    "    \n",
    "    def forward(self,x):\n",
    "        x = self.convolution(x)\n",
    "        caOutput = self.ca(x)\n",
    "        x = caOutput * x\n",
    "        saOutput = self.sa(x)\n",
    "        x = saOutput * x\n",
    "        return x, saOutput\n",
    "\n",
    "    \n",
    "class UpSampleWithAttention(nn.Module):\n",
    "    def __init__(self, inputChannel, outputChannel):\n",
    "        super().__init__()\n",
    "        self.convolution = nn.Sequential(\n",
    "            nn.Conv2d(inputChannel, outputChannel, kernel_size=3, padding=1),\n",
    "            nn.BatchNorm2d(outputChannel),\n",
    "            nn.LeakyReLU(0.2),\n",
    "            nn.Conv2d(outputChannel, outputChannel, kernel_size=3, padding=1),\n",
    "            nn.BatchNorm2d(outputChannel),\n",
    "            nn.LeakyReLU(0.2)\n",
    "        )\n",
    "        self.upsample = nn.Upsample(scale_factor=2, mode='bilinear', align_corners=True)\n",
    "        self.ca = ChannelAttention(outputChannel)\n",
    "        self.sa = SpatialAttention()\n",
    "    \n",
    "    def forward(self, x):\n",
    "        x = self.upsample(x)\n",
    "        x = self.convolution(x)\n",
    "        caOutput = self.ca(x)\n",
    "        x = caOutput * x\n",
    "        saOutput = self.sa(x)\n",
    "        x = saOutput * x\n",
    "        return x, saOutput\n",
    "\n",
    "class ResidualAttentionUNet(nn.Module):\n",
    "  def __init__(self, inputChannel, outputChannel):\n",
    "    super().__init__()\n",
    "    self.downsample1 = DownSampleWithAttention(inputChannel, 32)\n",
    "    self.downsample2 = DownSampleWithAttention(32, 64)\n",
    "    self.downsample3 = DownSampleWithAttention(64, 128)\n",
    "    self.downsample4 = DownSampleWithAttention(128, 256)\n",
    "    self.downsample5 = DownSampleWithAttention(256, 512)\n",
    "\n",
    "    self.residualBlock1 = ResidualBlock(512, 512)\n",
    "    self.residualBlock2 = ResidualBlock(512, 512)\n",
    "    self.residualBlock3 = ResidualBlock(512, 512)\n",
    "\n",
    "    self.upsample1 = UpSampleWithAttention(512, 256)\n",
    "    self.upsample2 = UpSampleWithAttention(512, 128)\n",
    "    self.upsample3 = UpSampleWithAttention(256, 64)\n",
    "    self.upsample4 = UpSampleWithAttention(128, 32)\n",
    "    self.upsample5 = UpSampleWithAttention(64, 32)\n",
    "    self.classification = nn.Sequential(\n",
    "            nn.Conv2d(32, outputChannel, kernel_size=1),\n",
    "        )\n",
    "\n",
    "  def forward(self, x):\n",
    "    scale128, sa128down = self.downsample1(x)\n",
    "    scale64, sa64down = self.downsample2(scale128)\n",
    "    scale32, sa32down = self.downsample3(scale64)\n",
    "    scale16, sa64down = self.downsample4(scale32)\n",
    "    scale8, sa8down = self.downsample5(scale16)\n",
    "    scale8, sa8down = self.residualBlock1(scale8)\n",
    "    scale8, sa8down = self.residualBlock2(scale8)\n",
    "    scale8, sa8down = self.residualBlock3(scale8)\n",
    "    upscale16, sa16up = self.upsample1(scale8)\n",
    "    upscale16 = torch.cat([upscale16, scale16], dim=1)\n",
    "    upscale32, sa32up = self.upsample2(upscale16)\n",
    "    upscale32 = torch.cat([upscale32, scale32], dim=1)\n",
    "    upscale64, sa64up = self.upsample3(upscale32)\n",
    "    upscale64 = torch.cat([upscale64, scale64], dim=1)\n",
    "    upscale128, sa128up = self.upsample4(upscale64)\n",
    "    upscale128 = torch.cat([upscale128, scale128], dim=1)\n",
    "    upscale256, sa256up = self.upsample5(upscale128)\n",
    "    finaloutput = self.classification(upscale256)\n",
    "    return finaloutput"
   ]
  },
  {
   "cell_type": "code",
   "execution_count": 7,
   "metadata": {
    "execution": {
     "iopub.execute_input": "2025-05-12T11:02:30.184894Z",
     "iopub.status.busy": "2025-05-12T11:02:30.184528Z",
     "iopub.status.idle": "2025-05-12T11:02:30.431232Z",
     "shell.execute_reply": "2025-05-12T11:02:30.430300Z",
     "shell.execute_reply.started": "2025-05-12T11:02:30.184865Z"
    },
    "trusted": true
   },
   "outputs": [],
   "source": [
    "model = ResidualAttentionUNet(11, 11).to(device)"
   ]
  },
  {
   "cell_type": "code",
   "execution_count": 8,
   "metadata": {
    "execution": {
     "iopub.execute_input": "2025-05-12T11:02:30.432664Z",
     "iopub.status.busy": "2025-05-12T11:02:30.432348Z",
     "iopub.status.idle": "2025-05-12T11:02:30.437348Z",
     "shell.execute_reply": "2025-05-12T11:02:30.436721Z",
     "shell.execute_reply.started": "2025-05-12T11:02:30.432610Z"
    },
    "trusted": true
   },
   "outputs": [
    {
     "data": {
      "text/plain": [
       "torch.Size([11, 32, 1, 1])"
      ]
     },
     "execution_count": 8,
     "metadata": {},
     "output_type": "execute_result"
    }
   ],
   "source": [
    "# class_distr = torch.tensor([0.0001, *class_distr]).to(device)\n",
    "model.classification[0].weight.size()"
   ]
  },
  {
   "cell_type": "code",
   "execution_count": 9,
   "metadata": {
    "execution": {
     "iopub.execute_input": "2025-05-12T11:02:33.064730Z",
     "iopub.status.busy": "2025-05-12T11:02:33.064412Z",
     "iopub.status.idle": "2025-05-12T11:02:33.069809Z",
     "shell.execute_reply": "2025-05-12T11:02:33.069116Z",
     "shell.execute_reply.started": "2025-05-12T11:02:33.064704Z"
    },
    "trusted": true
   },
   "outputs": [],
   "source": [
    "criterion = torch.nn.CrossEntropyLoss(ignore_index=-1, reduction='mean', weight=weight)\n",
    "optimizer = torch.optim.Adam(model.parameters(), lr=8e-4, weight_decay=1e-2)\n",
    "\n",
    "# assuming about 40 reductions => .9 ** 40 = 1e-2, starting from 8e-4 ending with 8e-6\n",
    "scheduler = torch.optim.lr_scheduler.ReduceLROnPlateau(optimizer, mode='min', factor=0.9, patience=5)"
   ]
  },
  {
   "cell_type": "code",
   "execution_count": 10,
   "metadata": {
    "execution": {
     "iopub.execute_input": "2025-05-12T11:02:38.602762Z",
     "iopub.status.busy": "2025-05-12T11:02:38.602419Z",
     "iopub.status.idle": "2025-05-12T11:02:38.608326Z",
     "shell.execute_reply": "2025-05-12T11:02:38.607261Z",
     "shell.execute_reply.started": "2025-05-12T11:02:38.602731Z"
    },
    "trusted": true
   },
   "outputs": [],
   "source": [
    "def Evaluation(y_predicted, y_true):\n",
    "\n",
    "    micro_prec = precision_score(y_true, y_predicted, average='micro')\n",
    "    macro_prec = precision_score(y_true, y_predicted, average='macro')\n",
    "    weight_prec = precision_score(y_true, y_predicted, average='weighted')\n",
    "    \n",
    "    micro_rec = recall_score(y_true, y_predicted, average='micro')\n",
    "    macro_rec = recall_score(y_true, y_predicted, average='macro')\n",
    "    weight_rec = recall_score(y_true, y_predicted, average='weighted')\n",
    "        \n",
    "    macro_f1 = f1_score(y_true, y_predicted, average=\"macro\")\n",
    "    micro_f1 = f1_score(y_true, y_predicted, average=\"micro\")\n",
    "    weight_f1 = f1_score(y_true, y_predicted, average=\"weighted\")\n",
    "        \n",
    "    subset_acc = accuracy_score(y_true, y_predicted)\n",
    "    \n",
    "    iou_acc = jaccard_score(y_true, y_predicted, average='macro')\n",
    "\n",
    "    info = {\n",
    "            \"macroPrec\" : macro_prec,\n",
    "            \"microPrec\" : micro_prec,\n",
    "            \"weightPrec\" : weight_prec,\n",
    "            \"macroRec\" : macro_rec,\n",
    "            \"microRec\" : micro_rec,\n",
    "            \"weightRec\" : weight_rec,\n",
    "            \"macroF1\" : macro_f1,\n",
    "            \"microF1\" : micro_f1,\n",
    "            \"weightF1\" : weight_f1,\n",
    "            \"subsetAcc\" : subset_acc,\n",
    "            \"IoU\": iou_acc\n",
    "            }\n",
    "    \n",
    "    return info"
   ]
  },
  {
   "cell_type": "code",
   "execution_count": 11,
   "metadata": {
    "execution": {
     "iopub.execute_input": "2025-05-12T11:02:44.362881Z",
     "iopub.status.busy": "2025-05-12T11:02:44.362443Z",
     "iopub.status.idle": "2025-05-12T11:02:44.367090Z",
     "shell.execute_reply": "2025-05-12T11:02:44.366133Z",
     "shell.execute_reply.started": "2025-05-12T11:02:44.362834Z"
    },
    "trusted": true
   },
   "outputs": [],
   "source": [
    "# logits.size(), target.size(), class_distr.size(), weight.size()"
   ]
  },
  {
   "cell_type": "code",
   "execution_count": 13,
   "metadata": {
    "execution": {
     "iopub.execute_input": "2025-05-12T11:03:37.903408Z",
     "iopub.status.busy": "2025-05-12T11:03:37.903118Z",
     "iopub.status.idle": "2025-05-12T12:16:04.306041Z",
     "shell.execute_reply": "2025-05-12T12:16:04.305042Z",
     "shell.execute_reply.started": "2025-05-12T11:03:37.903386Z"
    },
    "trusted": true
   },
   "outputs": [
    {
     "name": "stderr",
     "output_type": "stream",
     "text": [
      "epoch 1/160: 100%|██████████| 22/22 [00:20<00:00,  1.05it/s, loss=2.14]\n",
      "/usr/local/lib/python3.10/dist-packages/sklearn/metrics/_classification.py:1344: UndefinedMetricWarning: Precision is ill-defined and being set to 0.0 in labels with no predicted samples. Use `zero_division` parameter to control this behavior.\n",
      "  _warn_prf(average, modifier, msg_start, len(result))\n",
      "/usr/local/lib/python3.10/dist-packages/sklearn/metrics/_classification.py:1344: UndefinedMetricWarning: Precision is ill-defined and being set to 0.0 in labels with no predicted samples. Use `zero_division` parameter to control this behavior.\n",
      "  _warn_prf(average, modifier, msg_start, len(result))\n"
     ]
    },
    {
     "name": "stdout",
     "output_type": "stream",
     "text": [
      "{'macroPrec': 0.4267384511353999, 'microPrec': 0.9347120158421789, 'weightPrec': 0.9477184183697129, 'macroRec': 0.44987994177704427, 'microRec': 0.9347120158421789, 'weightRec': 0.9347120158421789, 'macroF1': 0.40161881912989283, 'microF1': 0.9347120158421789, 'weightF1': 0.9355559099533824, 'subsetAcc': 0.9347120158421789, 'IoU': 0.34647244520972104}\n"
     ]
    },
    {
     "name": "stderr",
     "output_type": "stream",
     "text": [
      "epoch 2/160: 100%|██████████| 22/22 [00:21<00:00,  1.05it/s, loss=2.02]\n",
      "/usr/local/lib/python3.10/dist-packages/sklearn/metrics/_classification.py:1344: UndefinedMetricWarning: Precision is ill-defined and being set to 0.0 in labels with no predicted samples. Use `zero_division` parameter to control this behavior.\n",
      "  _warn_prf(average, modifier, msg_start, len(result))\n",
      "/usr/local/lib/python3.10/dist-packages/sklearn/metrics/_classification.py:1344: UndefinedMetricWarning: Precision is ill-defined and being set to 0.0 in labels with no predicted samples. Use `zero_division` parameter to control this behavior.\n",
      "  _warn_prf(average, modifier, msg_start, len(result))\n"
     ]
    },
    {
     "name": "stdout",
     "output_type": "stream",
     "text": [
      "{'macroPrec': 0.45352425264758867, 'microPrec': 0.9476870231156911, 'weightPrec': 0.9454809140069043, 'macroRec': 0.4809397433030689, 'microRec': 0.9476870231156911, 'weightRec': 0.9476870231156911, 'macroF1': 0.4510131572804308, 'microF1': 0.947687023115691, 'weightF1': 0.9447634607297276, 'subsetAcc': 0.9476870231156911, 'IoU': 0.4042439744911324}\n"
     ]
    },
    {
     "name": "stderr",
     "output_type": "stream",
     "text": [
      "epoch 3/160: 100%|██████████| 22/22 [00:21<00:00,  1.04it/s, loss=1.58] \n",
      "/usr/local/lib/python3.10/dist-packages/sklearn/metrics/_classification.py:1344: UndefinedMetricWarning: Precision is ill-defined and being set to 0.0 in labels with no predicted samples. Use `zero_division` parameter to control this behavior.\n",
      "  _warn_prf(average, modifier, msg_start, len(result))\n",
      "/usr/local/lib/python3.10/dist-packages/sklearn/metrics/_classification.py:1344: UndefinedMetricWarning: Precision is ill-defined and being set to 0.0 in labels with no predicted samples. Use `zero_division` parameter to control this behavior.\n",
      "  _warn_prf(average, modifier, msg_start, len(result))\n"
     ]
    },
    {
     "name": "stdout",
     "output_type": "stream",
     "text": [
      "{'macroPrec': 0.385380183306747, 'microPrec': 0.9377340428527184, 'weightPrec': 0.9286223548183716, 'macroRec': 0.40441717079789025, 'microRec': 0.9377340428527184, 'weightRec': 0.9377340428527184, 'macroF1': 0.37648950636672396, 'microF1': 0.9377340428527184, 'weightF1': 0.9306596793065083, 'subsetAcc': 0.9377340428527184, 'IoU': 0.3343519932777137}\n"
     ]
    },
    {
     "name": "stderr",
     "output_type": "stream",
     "text": [
      "epoch 4/160: 100%|██████████| 22/22 [00:21<00:00,  1.02it/s, loss=1.04] \n",
      "/usr/local/lib/python3.10/dist-packages/sklearn/metrics/_classification.py:1344: UndefinedMetricWarning: Precision is ill-defined and being set to 0.0 in labels with no predicted samples. Use `zero_division` parameter to control this behavior.\n",
      "  _warn_prf(average, modifier, msg_start, len(result))\n",
      "/usr/local/lib/python3.10/dist-packages/sklearn/metrics/_classification.py:1344: UndefinedMetricWarning: Precision is ill-defined and being set to 0.0 in labels with no predicted samples. Use `zero_division` parameter to control this behavior.\n",
      "  _warn_prf(average, modifier, msg_start, len(result))\n"
     ]
    },
    {
     "name": "stdout",
     "output_type": "stream",
     "text": [
      "{'macroPrec': 0.4614161840322927, 'microPrec': 0.9528441779054162, 'weightPrec': 0.9466996516012581, 'macroRec': 0.5045217420898822, 'microRec': 0.9528441779054162, 'weightRec': 0.9528441779054162, 'macroF1': 0.4731883399309175, 'microF1': 0.9528441779054162, 'weightF1': 0.9483657475813478, 'subsetAcc': 0.9528441779054162, 'IoU': 0.4336083715767422}\n"
     ]
    },
    {
     "name": "stderr",
     "output_type": "stream",
     "text": [
      "epoch 5/160: 100%|██████████| 22/22 [00:22<00:00,  1.00s/it, loss=1.83]\n",
      "/usr/local/lib/python3.10/dist-packages/sklearn/metrics/_classification.py:1344: UndefinedMetricWarning: Precision is ill-defined and being set to 0.0 in labels with no predicted samples. Use `zero_division` parameter to control this behavior.\n",
      "  _warn_prf(average, modifier, msg_start, len(result))\n",
      "/usr/local/lib/python3.10/dist-packages/sklearn/metrics/_classification.py:1344: UndefinedMetricWarning: Precision is ill-defined and being set to 0.0 in labels with no predicted samples. Use `zero_division` parameter to control this behavior.\n",
      "  _warn_prf(average, modifier, msg_start, len(result))\n"
     ]
    },
    {
     "name": "stdout",
     "output_type": "stream",
     "text": [
      "{'macroPrec': 0.4397121907738955, 'microPrec': 0.9293577723343751, 'weightPrec': 0.9364793610612728, 'macroRec': 0.4803563653761323, 'microRec': 0.9293577723343751, 'weightRec': 0.9293577723343751, 'macroF1': 0.4381551372727847, 'microF1': 0.929357772334375, 'weightF1': 0.9279002400456001, 'subsetAcc': 0.9293577723343751, 'IoU': 0.393224590074505}\n"
     ]
    },
    {
     "name": "stderr",
     "output_type": "stream",
     "text": [
      "epoch 6/160: 100%|██████████| 22/22 [00:22<00:00,  1.01s/it, loss=1.29] \n",
      "/usr/local/lib/python3.10/dist-packages/sklearn/metrics/_classification.py:1344: UndefinedMetricWarning: Precision is ill-defined and being set to 0.0 in labels with no predicted samples. Use `zero_division` parameter to control this behavior.\n",
      "  _warn_prf(average, modifier, msg_start, len(result))\n",
      "/usr/local/lib/python3.10/dist-packages/sklearn/metrics/_classification.py:1344: UndefinedMetricWarning: Precision is ill-defined and being set to 0.0 in labels with no predicted samples. Use `zero_division` parameter to control this behavior.\n",
      "  _warn_prf(average, modifier, msg_start, len(result))\n"
     ]
    },
    {
     "name": "stdout",
     "output_type": "stream",
     "text": [
      "{'macroPrec': 0.45460845529610056, 'microPrec': 0.9500004692588526, 'weightPrec': 0.9496768844974406, 'macroRec': 0.4896233485370608, 'microRec': 0.9500004692588526, 'weightRec': 0.9500004692588526, 'macroF1': 0.4583247821286452, 'microF1': 0.9500004692588526, 'weightF1': 0.9482622536606836, 'subsetAcc': 0.9500004692588526, 'IoU': 0.4130980313754044}\n"
     ]
    },
    {
     "name": "stderr",
     "output_type": "stream",
     "text": [
      "epoch 7/160: 100%|██████████| 22/22 [00:21<00:00,  1.01it/s, loss=1.14] \n",
      "/usr/local/lib/python3.10/dist-packages/sklearn/metrics/_classification.py:1344: UndefinedMetricWarning: Precision is ill-defined and being set to 0.0 in labels with no predicted samples. Use `zero_division` parameter to control this behavior.\n",
      "  _warn_prf(average, modifier, msg_start, len(result))\n",
      "/usr/local/lib/python3.10/dist-packages/sklearn/metrics/_classification.py:1344: UndefinedMetricWarning: Precision is ill-defined and being set to 0.0 in labels with no predicted samples. Use `zero_division` parameter to control this behavior.\n",
      "  _warn_prf(average, modifier, msg_start, len(result))\n"
     ]
    },
    {
     "name": "stdout",
     "output_type": "stream",
     "text": [
      "{'macroPrec': 0.5450668198187328, 'microPrec': 0.9499723137276985, 'weightPrec': 0.9527453769432807, 'macroRec': 0.5013691244543493, 'microRec': 0.9499723137276985, 'weightRec': 0.9499723137276985, 'macroF1': 0.46378944474097666, 'microF1': 0.9499723137276985, 'weightF1': 0.9471572637112653, 'subsetAcc': 0.9499723137276985, 'IoU': 0.4211320567714882}\n"
     ]
    },
    {
     "name": "stderr",
     "output_type": "stream",
     "text": [
      "epoch 8/160: 100%|██████████| 22/22 [00:21<00:00,  1.00it/s, loss=1.9]  \n",
      "/usr/local/lib/python3.10/dist-packages/sklearn/metrics/_classification.py:1344: UndefinedMetricWarning: Precision is ill-defined and being set to 0.0 in labels with no predicted samples. Use `zero_division` parameter to control this behavior.\n",
      "  _warn_prf(average, modifier, msg_start, len(result))\n",
      "/usr/local/lib/python3.10/dist-packages/sklearn/metrics/_classification.py:1344: UndefinedMetricWarning: Precision is ill-defined and being set to 0.0 in labels with no predicted samples. Use `zero_division` parameter to control this behavior.\n",
      "  _warn_prf(average, modifier, msg_start, len(result))\n"
     ]
    },
    {
     "name": "stdout",
     "output_type": "stream",
     "text": [
      "{'macroPrec': 0.47686201783352794, 'microPrec': 0.9484800705765314, 'weightPrec': 0.9454980483623716, 'macroRec': 0.5356976568601697, 'microRec': 0.9484800705765314, 'weightRec': 0.9484800705765314, 'macroF1': 0.49655634130582965, 'microF1': 0.9484800705765315, 'weightF1': 0.94525887688248, 'subsetAcc': 0.9484800705765314, 'IoU': 0.44154434183931457}\n"
     ]
    },
    {
     "name": "stderr",
     "output_type": "stream",
     "text": [
      "epoch 9/160: 100%|██████████| 22/22 [00:21<00:00,  1.00it/s, loss=1.36] \n",
      "/usr/local/lib/python3.10/dist-packages/sklearn/metrics/_classification.py:1344: UndefinedMetricWarning: Precision is ill-defined and being set to 0.0 in labels with no predicted samples. Use `zero_division` parameter to control this behavior.\n",
      "  _warn_prf(average, modifier, msg_start, len(result))\n",
      "/usr/local/lib/python3.10/dist-packages/sklearn/metrics/_classification.py:1344: UndefinedMetricWarning: Precision is ill-defined and being set to 0.0 in labels with no predicted samples. Use `zero_division` parameter to control this behavior.\n",
      "  _warn_prf(average, modifier, msg_start, len(result))\n"
     ]
    },
    {
     "name": "stdout",
     "output_type": "stream",
     "text": [
      "{'macroPrec': 0.5092434671209611, 'microPrec': 0.9045199012679375, 'weightPrec': 0.9083422042312419, 'macroRec': 0.5130877988919799, 'microRec': 0.9045199012679375, 'weightRec': 0.9045199012679375, 'macroF1': 0.4684898440316046, 'microF1': 0.9045199012679375, 'weightF1': 0.8934544531667515, 'subsetAcc': 0.9045199012679375, 'IoU': 0.39880626555793997}\n"
     ]
    },
    {
     "name": "stderr",
     "output_type": "stream",
     "text": [
      "epoch 10/160: 100%|██████████| 22/22 [00:21<00:00,  1.00it/s, loss=0.901]\n",
      "/usr/local/lib/python3.10/dist-packages/sklearn/metrics/_classification.py:1344: UndefinedMetricWarning: Precision is ill-defined and being set to 0.0 in labels with no predicted samples. Use `zero_division` parameter to control this behavior.\n",
      "  _warn_prf(average, modifier, msg_start, len(result))\n",
      "/usr/local/lib/python3.10/dist-packages/sklearn/metrics/_classification.py:1344: UndefinedMetricWarning: Precision is ill-defined and being set to 0.0 in labels with no predicted samples. Use `zero_division` parameter to control this behavior.\n",
      "  _warn_prf(average, modifier, msg_start, len(result))\n"
     ]
    },
    {
     "name": "stdout",
     "output_type": "stream",
     "text": [
      "{'macroPrec': 0.47093418403650916, 'microPrec': 0.8662636349240357, 'weightPrec': 0.8789217441903547, 'macroRec': 0.5384321055724807, 'microRec': 0.8662636349240357, 'weightRec': 0.8662636349240357, 'macroF1': 0.47527366456116693, 'microF1': 0.8662636349240356, 'weightF1': 0.8665453847199908, 'subsetAcc': 0.8662636349240357, 'IoU': 0.38675732021516757}\n"
     ]
    },
    {
     "name": "stderr",
     "output_type": "stream",
     "text": [
      "/usr/local/lib/python3.10/dist-packages/sklearn/metrics/_classification.py:1344: UndefinedMetricWarning: Precision is ill-defined and being set to 0.0 in labels with no predicted samples. Use `zero_division` parameter to control this behavior.\n",
      "  _warn_prf(average, modifier, msg_start, len(result))\n",
      "/usr/local/lib/python3.10/dist-packages/sklearn/metrics/_classification.py:1344: UndefinedMetricWarning: Precision is ill-defined and being set to 0.0 in labels with no predicted samples. Use `zero_division` parameter to control this behavior.\n",
      "  _warn_prf(average, modifier, msg_start, len(result))\n"
     ]
    },
    {
     "name": "stdout",
     "output_type": "stream",
     "text": [
      "{'macroPrec': 0.6314313210662365, 'microPrec': 0.9120984317369147, 'weightPrec': 0.9227202628359488, 'macroRec': 0.5402094221464402, 'microRec': 0.9120984317369147, 'weightRec': 0.9120984317369147, 'macroF1': 0.5092447458312985, 'microF1': 0.9120984317369147, 'weightF1': 0.9063916159661398, 'subsetAcc': 0.9120984317369147, 'IoU': 0.4296527603169604}\n"
     ]
    },
    {
     "name": "stderr",
     "output_type": "stream",
     "text": [
      "epoch 11/160: 100%|██████████| 22/22 [00:21<00:00,  1.00it/s, loss=0.785]\n",
      "/usr/local/lib/python3.10/dist-packages/sklearn/metrics/_classification.py:1344: UndefinedMetricWarning: Precision is ill-defined and being set to 0.0 in labels with no predicted samples. Use `zero_division` parameter to control this behavior.\n",
      "  _warn_prf(average, modifier, msg_start, len(result))\n",
      "/usr/local/lib/python3.10/dist-packages/sklearn/metrics/_classification.py:1344: UndefinedMetricWarning: Precision is ill-defined and being set to 0.0 in labels with no predicted samples. Use `zero_division` parameter to control this behavior.\n",
      "  _warn_prf(average, modifier, msg_start, len(result))\n"
     ]
    },
    {
     "name": "stdout",
     "output_type": "stream",
     "text": [
      "{'macroPrec': 0.5831302877538613, 'microPrec': 0.9384426237200965, 'weightPrec': 0.9566449990030209, 'macroRec': 0.5732819619371134, 'microRec': 0.9384426237200965, 'weightRec': 0.9384426237200965, 'macroF1': 0.5105945241023294, 'microF1': 0.9384426237200965, 'weightF1': 0.9442865367084666, 'subsetAcc': 0.9384426237200965, 'IoU': 0.44894013357121754}\n"
     ]
    },
    {
     "name": "stderr",
     "output_type": "stream",
     "text": [
      "epoch 12/160: 100%|██████████| 22/22 [00:22<00:00,  1.00s/it, loss=1.53] \n",
      "/usr/local/lib/python3.10/dist-packages/sklearn/metrics/_classification.py:1344: UndefinedMetricWarning: Precision is ill-defined and being set to 0.0 in labels with no predicted samples. Use `zero_division` parameter to control this behavior.\n",
      "  _warn_prf(average, modifier, msg_start, len(result))\n",
      "/usr/local/lib/python3.10/dist-packages/sklearn/metrics/_classification.py:1344: UndefinedMetricWarning: Precision is ill-defined and being set to 0.0 in labels with no predicted samples. Use `zero_division` parameter to control this behavior.\n",
      "  _warn_prf(average, modifier, msg_start, len(result))\n"
     ]
    },
    {
     "name": "stdout",
     "output_type": "stream",
     "text": [
      "{'macroPrec': 0.60284308127303, 'microPrec': 0.8766506180139089, 'weightPrec': 0.8923695019222666, 'macroRec': 0.5336346467496772, 'microRec': 0.8766506180139089, 'weightRec': 0.8766506180139089, 'macroF1': 0.4712796257112332, 'microF1': 0.8766506180139089, 'weightF1': 0.8507627785435029, 'subsetAcc': 0.8766506180139089, 'IoU': 0.3794885698740163}\n"
     ]
    },
    {
     "name": "stderr",
     "output_type": "stream",
     "text": [
      "epoch 13/160: 100%|██████████| 22/22 [00:22<00:00,  1.00s/it, loss=1.05] \n"
     ]
    },
    {
     "name": "stdout",
     "output_type": "stream",
     "text": [
      "{'macroPrec': 0.6653773828314363, 'microPrec': 0.9342052162814052, 'weightPrec': 0.9391151595096647, 'macroRec': 0.5597405735545635, 'microRec': 0.9342052162814052, 'weightRec': 0.9342052162814052, 'macroF1': 0.5285467593063462, 'microF1': 0.9342052162814052, 'weightF1': 0.9312032634451741, 'subsetAcc': 0.9342052162814052, 'IoU': 0.4538766646954135}\n"
     ]
    },
    {
     "name": "stderr",
     "output_type": "stream",
     "text": [
      "epoch 14/160: 100%|██████████| 22/22 [00:22<00:00,  1.00s/it, loss=0.334]\n"
     ]
    },
    {
     "name": "stdout",
     "output_type": "stream",
     "text": [
      "{'macroPrec': 0.6906755014274709, 'microPrec': 0.952313915402014, 'weightPrec': 0.9577428146736006, 'macroRec': 0.6012162423256711, 'microRec': 0.952313915402014, 'weightRec': 0.952313915402014, 'macroF1': 0.5781256175508896, 'microF1': 0.952313915402014, 'weightF1': 0.9529577537130608, 'subsetAcc': 0.952313915402014, 'IoU': 0.49469916267383596}\n"
     ]
    },
    {
     "name": "stderr",
     "output_type": "stream",
     "text": [
      "epoch 15/160: 100%|██████████| 22/22 [00:22<00:00,  1.01s/it, loss=0.581]\n"
     ]
    },
    {
     "name": "stdout",
     "output_type": "stream",
     "text": [
      "{'macroPrec': 0.6730999685612725, 'microPrec': 0.9316242925922797, 'weightPrec': 0.9645572601802241, 'macroRec': 0.583299104884653, 'microRec': 0.9316242925922797, 'weightRec': 0.9316242925922797, 'macroF1': 0.5218089888256634, 'microF1': 0.9316242925922797, 'weightF1': 0.9435064778825085, 'subsetAcc': 0.9316242925922797, 'IoU': 0.4571451570728039}\n"
     ]
    },
    {
     "name": "stderr",
     "output_type": "stream",
     "text": [
      "epoch 16/160: 100%|██████████| 22/22 [00:22<00:00,  1.00s/it, loss=0.919]\n",
      "/usr/local/lib/python3.10/dist-packages/sklearn/metrics/_classification.py:1344: UndefinedMetricWarning: Precision is ill-defined and being set to 0.0 in labels with no predicted samples. Use `zero_division` parameter to control this behavior.\n",
      "  _warn_prf(average, modifier, msg_start, len(result))\n",
      "/usr/local/lib/python3.10/dist-packages/sklearn/metrics/_classification.py:1344: UndefinedMetricWarning: Precision is ill-defined and being set to 0.0 in labels with no predicted samples. Use `zero_division` parameter to control this behavior.\n",
      "  _warn_prf(average, modifier, msg_start, len(result))\n"
     ]
    },
    {
     "name": "stdout",
     "output_type": "stream",
     "text": [
      "{'macroPrec': 0.714615500790358, 'microPrec': 0.9460962356054847, 'weightPrec': 0.9612249968059527, 'macroRec': 0.6407898049243594, 'microRec': 0.9460962356054847, 'weightRec': 0.9460962356054847, 'macroF1': 0.609994628932485, 'microF1': 0.9460962356054847, 'weightF1': 0.951403354507235, 'subsetAcc': 0.9460962356054847, 'IoU': 0.5189880448004144}\n"
     ]
    },
    {
     "name": "stderr",
     "output_type": "stream",
     "text": [
      "epoch 17/160: 100%|██████████| 22/22 [00:22<00:00,  1.00s/it, loss=0.354]\n",
      "/usr/local/lib/python3.10/dist-packages/sklearn/metrics/_classification.py:1344: UndefinedMetricWarning: Precision is ill-defined and being set to 0.0 in labels with no predicted samples. Use `zero_division` parameter to control this behavior.\n",
      "  _warn_prf(average, modifier, msg_start, len(result))\n",
      "/usr/local/lib/python3.10/dist-packages/sklearn/metrics/_classification.py:1344: UndefinedMetricWarning: Precision is ill-defined and being set to 0.0 in labels with no predicted samples. Use `zero_division` parameter to control this behavior.\n",
      "  _warn_prf(average, modifier, msg_start, len(result))\n"
     ]
    },
    {
     "name": "stdout",
     "output_type": "stream",
     "text": [
      "{'macroPrec': 0.7057513856951915, 'microPrec': 0.9434543082655255, 'weightPrec': 0.9632345029605716, 'macroRec': 0.6325455118876672, 'microRec': 0.9434543082655255, 'weightRec': 0.9434543082655255, 'macroF1': 0.5928660342434042, 'microF1': 0.9434543082655255, 'weightF1': 0.95014656000731, 'subsetAcc': 0.9434543082655255, 'IoU': 0.5088099886163517}\n"
     ]
    },
    {
     "name": "stderr",
     "output_type": "stream",
     "text": [
      "epoch 18/160: 100%|██████████| 22/22 [00:21<00:00,  1.00it/s, loss=0.453]\n",
      "/usr/local/lib/python3.10/dist-packages/sklearn/metrics/_classification.py:1344: UndefinedMetricWarning: Precision is ill-defined and being set to 0.0 in labels with no predicted samples. Use `zero_division` parameter to control this behavior.\n",
      "  _warn_prf(average, modifier, msg_start, len(result))\n",
      "/usr/local/lib/python3.10/dist-packages/sklearn/metrics/_classification.py:1344: UndefinedMetricWarning: Precision is ill-defined and being set to 0.0 in labels with no predicted samples. Use `zero_division` parameter to control this behavior.\n",
      "  _warn_prf(average, modifier, msg_start, len(result))\n"
     ]
    },
    {
     "name": "stdout",
     "output_type": "stream",
     "text": [
      "{'macroPrec': 0.6441639780369421, 'microPrec': 0.944406903736239, 'weightPrec': 0.959748023403076, 'macroRec': 0.6320383351961114, 'microRec': 0.944406903736239, 'weightRec': 0.944406903736239, 'macroF1': 0.5950836819425676, 'microF1': 0.944406903736239, 'weightF1': 0.949734131546516, 'subsetAcc': 0.944406903736239, 'IoU': 0.5076495088489158}\n"
     ]
    },
    {
     "name": "stderr",
     "output_type": "stream",
     "text": [
      "epoch 19/160: 100%|██████████| 22/22 [00:22<00:00,  1.00s/it, loss=0.307]\n",
      "/usr/local/lib/python3.10/dist-packages/sklearn/metrics/_classification.py:1344: UndefinedMetricWarning: Precision is ill-defined and being set to 0.0 in labels with no predicted samples. Use `zero_division` parameter to control this behavior.\n",
      "  _warn_prf(average, modifier, msg_start, len(result))\n",
      "/usr/local/lib/python3.10/dist-packages/sklearn/metrics/_classification.py:1344: UndefinedMetricWarning: Precision is ill-defined and being set to 0.0 in labels with no predicted samples. Use `zero_division` parameter to control this behavior.\n",
      "  _warn_prf(average, modifier, msg_start, len(result))\n"
     ]
    },
    {
     "name": "stdout",
     "output_type": "stream",
     "text": [
      "{'macroPrec': 0.6682938251048752, 'microPrec': 0.9407279143321039, 'weightPrec': 0.9606956469058733, 'macroRec': 0.6781073362699869, 'microRec': 0.9407279143321039, 'weightRec': 0.9407279143321039, 'macroF1': 0.6226909083530671, 'microF1': 0.9407279143321039, 'weightF1': 0.9480330821663701, 'subsetAcc': 0.9407279143321039, 'IoU': 0.5243174471738445}\n"
     ]
    },
    {
     "name": "stderr",
     "output_type": "stream",
     "text": [
      "epoch 20/160: 100%|██████████| 22/22 [00:22<00:00,  1.01s/it, loss=0.631]\n"
     ]
    },
    {
     "name": "stdout",
     "output_type": "stream",
     "text": [
      "{'macroPrec': 0.727903862091273, 'microPrec': 0.8808766406155394, 'weightPrec': 0.8876581031476576, 'macroRec': 0.6309404136166941, 'microRec': 0.8808766406155394, 'weightRec': 0.8808766406155394, 'macroF1': 0.6098434506918712, 'microF1': 0.8808766406155394, 'weightF1': 0.8811654285882212, 'subsetAcc': 0.8808766406155394, 'IoU': 0.4982672735459907}\n"
     ]
    },
    {
     "name": "stderr",
     "output_type": "stream",
     "text": [
      "/usr/local/lib/python3.10/dist-packages/sklearn/metrics/_classification.py:1344: UndefinedMetricWarning: Precision is ill-defined and being set to 0.0 in labels with no predicted samples. Use `zero_division` parameter to control this behavior.\n",
      "  _warn_prf(average, modifier, msg_start, len(result))\n",
      "/usr/local/lib/python3.10/dist-packages/sklearn/metrics/_classification.py:1344: UndefinedMetricWarning: Precision is ill-defined and being set to 0.0 in labels with no predicted samples. Use `zero_division` parameter to control this behavior.\n",
      "  _warn_prf(average, modifier, msg_start, len(result))\n"
     ]
    },
    {
     "name": "stdout",
     "output_type": "stream",
     "text": [
      "{'macroPrec': 0.7001095468935211, 'microPrec': 0.9475884787566518, 'weightPrec': 0.9629271204703952, 'macroRec': 0.6260359536732139, 'microRec': 0.9475884787566518, 'weightRec': 0.9475884787566518, 'macroF1': 0.5913270076837883, 'microF1': 0.9475884787566518, 'weightF1': 0.9521433084722051, 'subsetAcc': 0.9475884787566518, 'IoU': 0.5087419402392164}\n"
     ]
    },
    {
     "name": "stderr",
     "output_type": "stream",
     "text": [
      "epoch 21/160: 100%|██████████| 22/22 [00:22<00:00,  1.00s/it, loss=1.5]  \n"
     ]
    },
    {
     "name": "stdout",
     "output_type": "stream",
     "text": [
      "{'macroPrec': 0.6811465299911456, 'microPrec': 0.9522341413970774, 'weightPrec': 0.9692927209798257, 'macroRec': 0.7053525375652242, 'microRec': 0.9522341413970774, 'weightRec': 0.9522341413970774, 'macroF1': 0.6553033456713223, 'microF1': 0.9522341413970774, 'weightF1': 0.9585825256722947, 'subsetAcc': 0.9522341413970774, 'IoU': 0.5644501053425154}\n"
     ]
    },
    {
     "name": "stderr",
     "output_type": "stream",
     "text": [
      "epoch 22/160: 100%|██████████| 22/22 [00:22<00:00,  1.00s/it, loss=0.643]\n",
      "/usr/local/lib/python3.10/dist-packages/sklearn/metrics/_classification.py:1344: UndefinedMetricWarning: Precision is ill-defined and being set to 0.0 in labels with no predicted samples. Use `zero_division` parameter to control this behavior.\n",
      "  _warn_prf(average, modifier, msg_start, len(result))\n",
      "/usr/local/lib/python3.10/dist-packages/sklearn/metrics/_classification.py:1344: UndefinedMetricWarning: Precision is ill-defined and being set to 0.0 in labels with no predicted samples. Use `zero_division` parameter to control this behavior.\n",
      "  _warn_prf(average, modifier, msg_start, len(result))\n"
     ]
    },
    {
     "name": "stdout",
     "output_type": "stream",
     "text": [
      "{'macroPrec': 0.6514926553225605, 'microPrec': 0.9203996208388471, 'weightPrec': 0.9369072591652629, 'macroRec': 0.5894905415119612, 'microRec': 0.9203996208388471, 'weightRec': 0.9203996208388471, 'macroF1': 0.5716606625228549, 'microF1': 0.9203996208388471, 'weightF1': 0.9255790429157847, 'subsetAcc': 0.9203996208388471, 'IoU': 0.4752179390298425}\n"
     ]
    },
    {
     "name": "stderr",
     "output_type": "stream",
     "text": [
      "epoch 23/160: 100%|██████████| 22/22 [00:22<00:00,  1.01s/it, loss=0.43] \n"
     ]
    },
    {
     "name": "stdout",
     "output_type": "stream",
     "text": [
      "{'macroPrec': 0.7016608012506077, 'microPrec': 0.9289025912473838, 'weightPrec': 0.9643124262002587, 'macroRec': 0.6482281840488171, 'microRec': 0.9289025912473838, 'weightRec': 0.9289025912473838, 'macroF1': 0.6220606116876394, 'microF1': 0.9289025912473838, 'weightF1': 0.9395041347408842, 'subsetAcc': 0.9289025912473838, 'IoU': 0.5256837743999914}\n"
     ]
    },
    {
     "name": "stderr",
     "output_type": "stream",
     "text": [
      "epoch 24/160: 100%|██████████| 22/22 [00:21<00:00,  1.00it/s, loss=0.887]\n"
     ]
    },
    {
     "name": "stdout",
     "output_type": "stream",
     "text": [
      "{'macroPrec': 0.7038478914276073, 'microPrec': 0.946757890587606, 'weightPrec': 0.9671105007904706, 'macroRec': 0.6905855119760903, 'microRec': 0.946757890587606, 'weightRec': 0.946757890587606, 'macroF1': 0.659685160945031, 'microF1': 0.9467578905876058, 'weightF1': 0.9545007376894556, 'subsetAcc': 0.946757890587606, 'IoU': 0.5682380261118318}\n"
     ]
    },
    {
     "name": "stderr",
     "output_type": "stream",
     "text": [
      "epoch 25/160: 100%|██████████| 22/22 [00:21<00:00,  1.00it/s, loss=0.919]\n",
      "/usr/local/lib/python3.10/dist-packages/sklearn/metrics/_classification.py:1344: UndefinedMetricWarning: Precision is ill-defined and being set to 0.0 in labels with no predicted samples. Use `zero_division` parameter to control this behavior.\n",
      "  _warn_prf(average, modifier, msg_start, len(result))\n",
      "/usr/local/lib/python3.10/dist-packages/sklearn/metrics/_classification.py:1344: UndefinedMetricWarning: Precision is ill-defined and being set to 0.0 in labels with no predicted samples. Use `zero_division` parameter to control this behavior.\n",
      "  _warn_prf(average, modifier, msg_start, len(result))\n"
     ]
    },
    {
     "name": "stdout",
     "output_type": "stream",
     "text": [
      "{'macroPrec': 0.7120296257227646, 'microPrec': 0.9481140486715282, 'weightPrec': 0.9637324531333133, 'macroRec': 0.6690580926460462, 'microRec': 0.9481140486715282, 'weightRec': 0.9481140486715282, 'macroF1': 0.6544834301735797, 'microF1': 0.9481140486715282, 'weightF1': 0.953298660626588, 'subsetAcc': 0.9481140486715282, 'IoU': 0.559831845073671}\n"
     ]
    },
    {
     "name": "stderr",
     "output_type": "stream",
     "text": [
      "epoch 26/160: 100%|██████████| 22/22 [00:21<00:00,  1.00it/s, loss=0.496]\n"
     ]
    },
    {
     "name": "stdout",
     "output_type": "stream",
     "text": [
      "{'macroPrec': 0.681940902402173, 'microPrec': 0.9364623513622584, 'weightPrec': 0.9601161997253888, 'macroRec': 0.6802518243429152, 'microRec': 0.9364623513622584, 'weightRec': 0.9364623513622584, 'macroF1': 0.6456092624634444, 'microF1': 0.9364623513622584, 'weightF1': 0.9416063343645945, 'subsetAcc': 0.9364623513622584, 'IoU': 0.5431294151470423}\n"
     ]
    },
    {
     "name": "stderr",
     "output_type": "stream",
     "text": [
      "epoch 27/160: 100%|██████████| 22/22 [00:21<00:00,  1.00it/s, loss=0.486]\n"
     ]
    },
    {
     "name": "stdout",
     "output_type": "stream",
     "text": [
      "{'macroPrec': 0.73126817237853, 'microPrec': 0.9454205028577864, 'weightPrec': 0.9599233247475945, 'macroRec': 0.6656730500979541, 'microRec': 0.9454205028577864, 'weightRec': 0.9454205028577864, 'macroF1': 0.6609628907614811, 'microF1': 0.9454205028577864, 'weightF1': 0.9493194364513561, 'subsetAcc': 0.9454205028577864, 'IoU': 0.5611836374707558}\n"
     ]
    },
    {
     "name": "stderr",
     "output_type": "stream",
     "text": [
      "epoch 28/160: 100%|██████████| 22/22 [00:22<00:00,  1.01s/it, loss=0.378]\n"
     ]
    },
    {
     "name": "stdout",
     "output_type": "stream",
     "text": [
      "{'macroPrec': 0.6904813933296854, 'microPrec': 0.9489540220176254, 'weightPrec': 0.9600974390711953, 'macroRec': 0.6489177235232494, 'microRec': 0.9489540220176254, 'weightRec': 0.9489540220176254, 'macroF1': 0.6358205993428963, 'microF1': 0.9489540220176254, 'weightF1': 0.9521829485677124, 'subsetAcc': 0.9489540220176254, 'IoU': 0.5400969316840727}\n"
     ]
    },
    {
     "name": "stderr",
     "output_type": "stream",
     "text": [
      "epoch 29/160: 100%|██████████| 22/22 [00:22<00:00,  1.00s/it, loss=0.499]\n"
     ]
    },
    {
     "name": "stdout",
     "output_type": "stream",
     "text": [
      "{'macroPrec': 0.7077031847733791, 'microPrec': 0.9502538690392395, 'weightPrec': 0.9655653515576659, 'macroRec': 0.6829879992136816, 'microRec': 0.9502538690392395, 'weightRec': 0.9502538690392395, 'macroF1': 0.6618129306298686, 'microF1': 0.9502538690392395, 'weightF1': 0.9557488972337765, 'subsetAcc': 0.9502538690392395, 'IoU': 0.5664319532474289}\n"
     ]
    },
    {
     "name": "stderr",
     "output_type": "stream",
     "text": [
      "epoch 30/160: 100%|██████████| 22/22 [00:22<00:00,  1.01s/it, loss=0.962]\n"
     ]
    },
    {
     "name": "stdout",
     "output_type": "stream",
     "text": [
      "{'macroPrec': 0.7674790238542974, 'microPrec': 0.9154029230668914, 'weightPrec': 0.9181841821762833, 'macroRec': 0.7183780347769652, 'microRec': 0.9154029230668914, 'weightRec': 0.9154029230668914, 'macroF1': 0.7313658695705303, 'microF1': 0.9154029230668914, 'weightF1': 0.9157268264390243, 'subsetAcc': 0.9154029230668914, 'IoU': 0.6043555696607421}\n",
      "{'macroPrec': 0.6978044749451308, 'microPrec': 0.948958714606151, 'weightPrec': 0.9691866025548399, 'macroRec': 0.689479272715188, 'microRec': 0.948958714606151, 'weightRec': 0.948958714606151, 'macroF1': 0.6586712890908706, 'microF1': 0.948958714606151, 'weightF1': 0.9559235822673257, 'subsetAcc': 0.948958714606151, 'IoU': 0.5621189384445517}\n"
     ]
    },
    {
     "name": "stderr",
     "output_type": "stream",
     "text": [
      "epoch 31/160: 100%|██████████| 22/22 [00:22<00:00,  1.00s/it, loss=0.447]\n",
      "/usr/local/lib/python3.10/dist-packages/sklearn/metrics/_classification.py:1344: UndefinedMetricWarning: Precision is ill-defined and being set to 0.0 in labels with no predicted samples. Use `zero_division` parameter to control this behavior.\n",
      "  _warn_prf(average, modifier, msg_start, len(result))\n",
      "/usr/local/lib/python3.10/dist-packages/sklearn/metrics/_classification.py:1344: UndefinedMetricWarning: Precision is ill-defined and being set to 0.0 in labels with no predicted samples. Use `zero_division` parameter to control this behavior.\n",
      "  _warn_prf(average, modifier, msg_start, len(result))\n"
     ]
    },
    {
     "name": "stdout",
     "output_type": "stream",
     "text": [
      "{'macroPrec': 0.713150916265214, 'microPrec': 0.9489962553143565, 'weightPrec': 0.9679890629185741, 'macroRec': 0.7187413151132497, 'microRec': 0.9489962553143565, 'weightRec': 0.9489962553143565, 'macroF1': 0.6882214240155847, 'microF1': 0.9489962553143566, 'weightF1': 0.9565190520007653, 'subsetAcc': 0.9489962553143565, 'IoU': 0.5949523030334047}\n"
     ]
    },
    {
     "name": "stderr",
     "output_type": "stream",
     "text": [
      "epoch 32/160: 100%|██████████| 22/22 [00:22<00:00,  1.00s/it, loss=0.474]\n"
     ]
    },
    {
     "name": "stdout",
     "output_type": "stream",
     "text": [
      "{'macroPrec': 0.7316252886639266, 'microPrec': 0.9615583147976087, 'weightPrec': 0.9666885580753845, 'macroRec': 0.7397338359163951, 'microRec': 0.9615583147976087, 'weightRec': 0.9615583147976087, 'macroF1': 0.71154472615904, 'microF1': 0.9615583147976087, 'weightF1': 0.9624003048187251, 'subsetAcc': 0.9615583147976087, 'IoU': 0.603404801464979}\n"
     ]
    },
    {
     "name": "stderr",
     "output_type": "stream",
     "text": [
      "epoch 33/160: 100%|██████████| 22/22 [00:21<00:00,  1.00it/s, loss=0.502]\n"
     ]
    },
    {
     "name": "stdout",
     "output_type": "stream",
     "text": [
      "{'macroPrec': 0.7162396273968271, 'microPrec': 0.9439517226492478, 'weightPrec': 0.9623724480410972, 'macroRec': 0.7115166290391802, 'microRec': 0.9439517226492478, 'weightRec': 0.9439517226492478, 'macroF1': 0.6761064730825003, 'microF1': 0.9439517226492478, 'weightF1': 0.9493803119862194, 'subsetAcc': 0.9439517226492478, 'IoU': 0.5765990138793973}\n"
     ]
    },
    {
     "name": "stderr",
     "output_type": "stream",
     "text": [
      "epoch 34/160: 100%|██████████| 22/22 [00:22<00:00,  1.01s/it, loss=0.482]\n"
     ]
    },
    {
     "name": "stdout",
     "output_type": "stream",
     "text": [
      "{'macroPrec': 0.7238427359972733, 'microPrec': 0.953365055231767, 'weightPrec': 0.9676741417213521, 'macroRec': 0.7668104151569733, 'microRec': 0.953365055231767, 'weightRec': 0.953365055231767, 'macroF1': 0.7248968764700755, 'microF1': 0.953365055231767, 'weightF1': 0.9589371536857343, 'subsetAcc': 0.953365055231767, 'IoU': 0.6365852984939162}\n"
     ]
    },
    {
     "name": "stderr",
     "output_type": "stream",
     "text": [
      "epoch 35/160: 100%|██████████| 22/22 [00:22<00:00,  1.00s/it, loss=0.411]\n",
      "/usr/local/lib/python3.10/dist-packages/sklearn/metrics/_classification.py:1344: UndefinedMetricWarning: Precision is ill-defined and being set to 0.0 in labels with no predicted samples. Use `zero_division` parameter to control this behavior.\n",
      "  _warn_prf(average, modifier, msg_start, len(result))\n",
      "/usr/local/lib/python3.10/dist-packages/sklearn/metrics/_classification.py:1344: UndefinedMetricWarning: Precision is ill-defined and being set to 0.0 in labels with no predicted samples. Use `zero_division` parameter to control this behavior.\n",
      "  _warn_prf(average, modifier, msg_start, len(result))\n"
     ]
    },
    {
     "name": "stdout",
     "output_type": "stream",
     "text": [
      "{'macroPrec': 0.7282871825129296, 'microPrec': 0.9535433735957429, 'weightPrec': 0.9688702122313165, 'macroRec': 0.7152877830597386, 'microRec': 0.9535433735957429, 'weightRec': 0.9535433735957429, 'macroF1': 0.6821935973416798, 'microF1': 0.9535433735957429, 'weightF1': 0.9588676355881537, 'subsetAcc': 0.9535433735957429, 'IoU': 0.588124573605043}\n"
     ]
    },
    {
     "name": "stderr",
     "output_type": "stream",
     "text": [
      "epoch 36/160: 100%|██████████| 22/22 [00:21<00:00,  1.00it/s, loss=0.45] \n"
     ]
    },
    {
     "name": "stdout",
     "output_type": "stream",
     "text": [
      "{'macroPrec': 0.7148409373443069, 'microPrec': 0.9514927124100196, 'weightPrec': 0.9687934864755474, 'macroRec': 0.7090519353580682, 'microRec': 0.9514927124100196, 'weightRec': 0.9514927124100196, 'macroF1': 0.6858300799674637, 'microF1': 0.9514927124100196, 'weightF1': 0.9580000023782232, 'subsetAcc': 0.9514927124100196, 'IoU': 0.5971235935239163}\n"
     ]
    },
    {
     "name": "stderr",
     "output_type": "stream",
     "text": [
      "epoch 37/160: 100%|██████████| 22/22 [00:22<00:00,  1.00s/it, loss=0.576]\n"
     ]
    },
    {
     "name": "stdout",
     "output_type": "stream",
     "text": [
      "{'macroPrec': 0.7401284903427008, 'microPrec': 0.9528817186136217, 'weightPrec': 0.9681116211946494, 'macroRec': 0.7674403176392637, 'microRec': 0.9528817186136217, 'weightRec': 0.9528817186136217, 'macroF1': 0.7314691332863689, 'microF1': 0.9528817186136217, 'weightF1': 0.9573973882385518, 'subsetAcc': 0.9528817186136217, 'IoU': 0.6424585460636517}\n"
     ]
    },
    {
     "name": "stderr",
     "output_type": "stream",
     "text": [
      "epoch 38/160: 100%|██████████| 22/22 [00:21<00:00,  1.00it/s, loss=0.714]\n",
      "/usr/local/lib/python3.10/dist-packages/sklearn/metrics/_classification.py:1344: UndefinedMetricWarning: Precision is ill-defined and being set to 0.0 in labels with no predicted samples. Use `zero_division` parameter to control this behavior.\n",
      "  _warn_prf(average, modifier, msg_start, len(result))\n",
      "/usr/local/lib/python3.10/dist-packages/sklearn/metrics/_classification.py:1344: UndefinedMetricWarning: Precision is ill-defined and being set to 0.0 in labels with no predicted samples. Use `zero_division` parameter to control this behavior.\n",
      "  _warn_prf(average, modifier, msg_start, len(result))\n"
     ]
    },
    {
     "name": "stdout",
     "output_type": "stream",
     "text": [
      "{'macroPrec': 0.6846081861473995, 'microPrec': 0.9417555912192284, 'weightPrec': 0.9601635566483477, 'macroRec': 0.6398150773107381, 'microRec': 0.9417555912192284, 'weightRec': 0.9417555912192284, 'macroF1': 0.5863549699636683, 'microF1': 0.9417555912192284, 'weightF1': 0.9462427055927373, 'subsetAcc': 0.9417555912192284, 'IoU': 0.48707458218295563}\n"
     ]
    },
    {
     "name": "stderr",
     "output_type": "stream",
     "text": [
      "epoch 39/160: 100%|██████████| 22/22 [00:21<00:00,  1.00it/s, loss=0.333]\n"
     ]
    },
    {
     "name": "stdout",
     "output_type": "stream",
     "text": [
      "{'macroPrec': 0.7377479388455896, 'microPrec': 0.9505635798819345, 'weightPrec': 0.9669151824439353, 'macroRec': 0.7703587605435218, 'microRec': 0.9505635798819345, 'weightRec': 0.9505635798819345, 'macroF1': 0.7307387028740968, 'microF1': 0.9505635798819345, 'weightF1': 0.9558096805497914, 'subsetAcc': 0.9505635798819345, 'IoU': 0.6452952614160737}\n"
     ]
    },
    {
     "name": "stderr",
     "output_type": "stream",
     "text": [
      "epoch 40/160: 100%|██████████| 22/22 [00:22<00:00,  1.00s/it, loss=0.499]\n"
     ]
    },
    {
     "name": "stdout",
     "output_type": "stream",
     "text": [
      "{'macroPrec': 0.7759501271480541, 'microPrec': 0.9187563458869338, 'weightPrec': 0.9238455200121375, 'macroRec': 0.7608659869710466, 'microRec': 0.9187563458869338, 'weightRec': 0.9187563458869338, 'macroF1': 0.7384965212959681, 'microF1': 0.9187563458869338, 'weightF1': 0.9196614250767322, 'subsetAcc': 0.9187563458869338, 'IoU': 0.617557009755947}\n",
      "{'macroPrec': 0.7117827596943856, 'microPrec': 0.9456598248725963, 'weightPrec': 0.9598714750072295, 'macroRec': 0.7473482996877717, 'microRec': 0.9456598248725963, 'weightRec': 0.9456598248725963, 'macroF1': 0.7019395962553604, 'microF1': 0.9456598248725963, 'weightF1': 0.9504993586369648, 'subsetAcc': 0.9456598248725963, 'IoU': 0.6011416128750435}\n"
     ]
    },
    {
     "name": "stderr",
     "output_type": "stream",
     "text": [
      "epoch 41/160: 100%|██████████| 22/22 [00:21<00:00,  1.00it/s, loss=0.27] \n"
     ]
    },
    {
     "name": "stdout",
     "output_type": "stream",
     "text": [
      "{'macroPrec': 0.738727738482231, 'microPrec': 0.9571989000572496, 'weightPrec': 0.9693726585260033, 'macroRec': 0.7545914506029895, 'microRec': 0.9571989000572496, 'weightRec': 0.9571989000572496, 'macroF1': 0.7280178145842093, 'microF1': 0.9571989000572496, 'weightF1': 0.9613819663008004, 'subsetAcc': 0.9571989000572496, 'IoU': 0.6431914254889762}\n"
     ]
    },
    {
     "name": "stderr",
     "output_type": "stream",
     "text": [
      "epoch 42/160: 100%|██████████| 22/22 [00:22<00:00,  1.00s/it, loss=0.164]\n",
      "/usr/local/lib/python3.10/dist-packages/sklearn/metrics/_classification.py:1344: UndefinedMetricWarning: Precision is ill-defined and being set to 0.0 in labels with no predicted samples. Use `zero_division` parameter to control this behavior.\n",
      "  _warn_prf(average, modifier, msg_start, len(result))\n",
      "/usr/local/lib/python3.10/dist-packages/sklearn/metrics/_classification.py:1344: UndefinedMetricWarning: Precision is ill-defined and being set to 0.0 in labels with no predicted samples. Use `zero_division` parameter to control this behavior.\n",
      "  _warn_prf(average, modifier, msg_start, len(result))\n"
     ]
    },
    {
     "name": "stdout",
     "output_type": "stream",
     "text": [
      "{'macroPrec': 0.6851169993338186, 'microPrec': 0.9459179172415088, 'weightPrec': 0.9612653032216599, 'macroRec': 0.6687814430432023, 'microRec': 0.9459179172415088, 'weightRec': 0.9459179172415088, 'macroF1': 0.6281774167054527, 'microF1': 0.9459179172415088, 'weightF1': 0.9500989619701888, 'subsetAcc': 0.9459179172415088, 'IoU': 0.5241481500527683}\n"
     ]
    },
    {
     "name": "stderr",
     "output_type": "stream",
     "text": [
      "epoch 43/160: 100%|██████████| 22/22 [00:21<00:00,  1.00it/s, loss=0.346]\n"
     ]
    },
    {
     "name": "stdout",
     "output_type": "stream",
     "text": [
      "{'macroPrec': 0.7559493001963348, 'microPrec': 0.9431023641260993, 'weightPrec': 0.9620561175139852, 'macroRec': 0.7343401409785174, 'microRec': 0.9431023641260993, 'weightRec': 0.9431023641260993, 'macroF1': 0.7152080324524004, 'microF1': 0.9431023641260993, 'weightF1': 0.9477742072388532, 'subsetAcc': 0.9431023641260993, 'IoU': 0.6210990988339143}\n"
     ]
    },
    {
     "name": "stderr",
     "output_type": "stream",
     "text": [
      "epoch 44/160: 100%|██████████| 22/22 [00:22<00:00,  1.01s/it, loss=0.152]\n"
     ]
    },
    {
     "name": "stdout",
     "output_type": "stream",
     "text": [
      "{'macroPrec': 0.7446209454883733, 'microPrec': 0.9677619168285609, 'weightPrec': 0.9688083016913818, 'macroRec': 0.6952508112614917, 'microRec': 0.9677619168285609, 'weightRec': 0.9677619168285609, 'macroF1': 0.710149123699543, 'microF1': 0.9677619168285609, 'weightF1': 0.9677319515665611, 'subsetAcc': 0.9677619168285609, 'IoU': 0.6163147748476159}\n"
     ]
    },
    {
     "name": "stderr",
     "output_type": "stream",
     "text": [
      "epoch 45/160: 100%|██████████| 22/22 [00:22<00:00,  1.01s/it, loss=1.11] \n"
     ]
    },
    {
     "name": "stdout",
     "output_type": "stream",
     "text": [
      "{'macroPrec': 0.6996674623964316, 'microPrec': 0.9516616455969442, 'weightPrec': 0.9642792734133848, 'macroRec': 0.6703809158528992, 'microRec': 0.9516616455969442, 'weightRec': 0.9516616455969442, 'macroF1': 0.6558676271925165, 'microF1': 0.9516616455969442, 'weightF1': 0.9559737632809253, 'subsetAcc': 0.9516616455969442, 'IoU': 0.5553238573877393}\n"
     ]
    },
    {
     "name": "stderr",
     "output_type": "stream",
     "text": [
      "epoch 46/160: 100%|██████████| 22/22 [00:21<00:00,  1.01it/s, loss=0.119]\n"
     ]
    },
    {
     "name": "stdout",
     "output_type": "stream",
     "text": [
      "{'macroPrec': 0.6801001310505876, 'microPrec': 0.9448573922347046, 'weightPrec': 0.9621841758212, 'macroRec': 0.6875118249531633, 'microRec': 0.9448573922347046, 'weightRec': 0.9448573922347046, 'macroF1': 0.6423883237285266, 'microF1': 0.9448573922347046, 'weightF1': 0.9508868813156643, 'subsetAcc': 0.9448573922347046, 'IoU': 0.5542312927444706}\n"
     ]
    },
    {
     "name": "stderr",
     "output_type": "stream",
     "text": [
      "epoch 47/160: 100%|██████████| 22/22 [00:22<00:00,  1.00s/it, loss=0.391]\n"
     ]
    },
    {
     "name": "stdout",
     "output_type": "stream",
     "text": [
      "{'macroPrec': 0.7415566941444179, 'microPrec': 0.960577563795741, 'weightPrec': 0.96486381846082, 'macroRec': 0.6463016752113283, 'microRec': 0.960577563795741, 'weightRec': 0.960577563795741, 'macroF1': 0.640425687204525, 'microF1': 0.960577563795741, 'weightF1': 0.9604926879382519, 'subsetAcc': 0.960577563795741, 'IoU': 0.5494445732580983}\n"
     ]
    },
    {
     "name": "stderr",
     "output_type": "stream",
     "text": [
      "epoch 48/160: 100%|██████████| 22/22 [00:22<00:00,  1.01s/it, loss=0.643]\n",
      "/usr/local/lib/python3.10/dist-packages/sklearn/metrics/_classification.py:1344: UndefinedMetricWarning: Precision is ill-defined and being set to 0.0 in labels with no predicted samples. Use `zero_division` parameter to control this behavior.\n",
      "  _warn_prf(average, modifier, msg_start, len(result))\n",
      "/usr/local/lib/python3.10/dist-packages/sklearn/metrics/_classification.py:1344: UndefinedMetricWarning: Precision is ill-defined and being set to 0.0 in labels with no predicted samples. Use `zero_division` parameter to control this behavior.\n",
      "  _warn_prf(average, modifier, msg_start, len(result))\n"
     ]
    },
    {
     "name": "stdout",
     "output_type": "stream",
     "text": [
      "{'macroPrec': 0.6527908989239166, 'microPrec': 0.9400052556991487, 'weightPrec': 0.9656858991171925, 'macroRec': 0.6251973876030875, 'microRec': 0.9400052556991487, 'weightRec': 0.9400052556991487, 'macroF1': 0.5761836746708363, 'microF1': 0.9400052556991487, 'weightF1': 0.9496263322471784, 'subsetAcc': 0.9400052556991487, 'IoU': 0.4832022001338548}\n"
     ]
    },
    {
     "name": "stderr",
     "output_type": "stream",
     "text": [
      "epoch 49/160: 100%|██████████| 22/22 [00:22<00:00,  1.00s/it, loss=0.961]\n"
     ]
    },
    {
     "name": "stdout",
     "output_type": "stream",
     "text": [
      "{'macroPrec': 0.7341032756246169, 'microPrec': 0.9464387945678595, 'weightPrec': 0.9663445033203872, 'macroRec': 0.7379349569620085, 'microRec': 0.9464387945678595, 'weightRec': 0.9464387945678595, 'macroF1': 0.7017007746955488, 'microF1': 0.9464387945678595, 'weightF1': 0.9530388544767108, 'subsetAcc': 0.9464387945678595, 'IoU': 0.6054075097426076}\n"
     ]
    },
    {
     "name": "stderr",
     "output_type": "stream",
     "text": [
      "epoch 50/160: 100%|██████████| 22/22 [00:22<00:00,  1.01s/it, loss=0.322]\n"
     ]
    },
    {
     "name": "stdout",
     "output_type": "stream",
     "text": [
      "{'macroPrec': 0.7599236374503004, 'microPrec': 0.9184466200292493, 'weightPrec': 0.9208271195258849, 'macroRec': 0.7369722786047294, 'microRec': 0.9184466200292493, 'weightRec': 0.9184466200292493, 'macroF1': 0.7296893482272497, 'microF1': 0.9184466200292493, 'weightF1': 0.9188274265873565, 'subsetAcc': 0.9184466200292493, 'IoU': 0.6014843323041906}\n",
      "{'macroPrec': 0.6772430682256103, 'microPrec': 0.9414130322568536, 'weightPrec': 0.9632170894630507, 'macroRec': 0.677795029270873, 'microRec': 0.9414130322568536, 'weightRec': 0.9414130322568536, 'macroF1': 0.6428279513982956, 'microF1': 0.9414130322568536, 'weightF1': 0.94942410347591, 'subsetAcc': 0.9414130322568536, 'IoU': 0.5424997028171193}\n"
     ]
    },
    {
     "name": "stderr",
     "output_type": "stream",
     "text": [
      "epoch 51/160: 100%|██████████| 22/22 [00:21<00:00,  1.00it/s, loss=0.417]\n"
     ]
    },
    {
     "name": "stdout",
     "output_type": "stream",
     "text": [
      "{'macroPrec': 0.7104256682151401, 'microPrec': 0.9512064645099529, 'weightPrec': 0.9592478379511246, 'macroRec': 0.6167888514954363, 'microRec': 0.9512064645099529, 'weightRec': 0.9512064645099529, 'macroF1': 0.6083478060177888, 'microF1': 0.9512064645099529, 'weightF1': 0.9504368575418771, 'subsetAcc': 0.9512064645099529, 'IoU': 0.5185477891964511}\n"
     ]
    },
    {
     "name": "stderr",
     "output_type": "stream",
     "text": [
      "epoch 52/160: 100%|██████████| 22/22 [00:22<00:00,  1.01s/it, loss=0.213]\n"
     ]
    },
    {
     "name": "stdout",
     "output_type": "stream",
     "text": [
      "{'macroPrec': 0.7336708672018826, 'microPrec': 0.9112725361563946, 'weightPrec': 0.917258258591999, 'macroRec': 0.7110634257169125, 'microRec': 0.9112725361563946, 'weightRec': 0.9112725361563946, 'macroF1': 0.6974458287141666, 'microF1': 0.9112725361563946, 'weightF1': 0.9068488197724046, 'subsetAcc': 0.9112725361563946, 'IoU': 0.5753481161972632}\n"
     ]
    },
    {
     "name": "stderr",
     "output_type": "stream",
     "text": [
      "epoch 53/160: 100%|██████████| 22/22 [00:21<00:00,  1.01it/s, loss=0.161]\n"
     ]
    },
    {
     "name": "stdout",
     "output_type": "stream",
     "text": [
      "{'macroPrec': 0.7358368847737166, 'microPrec': 0.9612908372516448, 'weightPrec': 0.9646181814206044, 'macroRec': 0.7169789820943131, 'microRec': 0.9612908372516448, 'weightRec': 0.9612908372516448, 'macroF1': 0.7172792186397916, 'microF1': 0.9612908372516448, 'weightF1': 0.9620208135750118, 'subsetAcc': 0.9612908372516448, 'IoU': 0.6234648463631888}\n"
     ]
    },
    {
     "name": "stderr",
     "output_type": "stream",
     "text": [
      "epoch 54/160: 100%|██████████| 22/22 [00:22<00:00,  1.00s/it, loss=0.448]\n"
     ]
    },
    {
     "name": "stdout",
     "output_type": "stream",
     "text": [
      "{'macroPrec': 0.7373906337713657, 'microPrec': 0.93898227140055, 'weightPrec': 0.9633475310096201, 'macroRec': 0.7322093924515489, 'microRec': 0.93898227140055, 'weightRec': 0.93898227140055, 'macroF1': 0.7028566759815517, 'microF1': 0.93898227140055, 'weightF1': 0.9482536333156261, 'subsetAcc': 0.93898227140055, 'IoU': 0.6034394342434046}\n"
     ]
    },
    {
     "name": "stderr",
     "output_type": "stream",
     "text": [
      "epoch 55/160: 100%|██████████| 22/22 [00:22<00:00,  1.00s/it, loss=0.196]\n"
     ]
    },
    {
     "name": "stdout",
     "output_type": "stream",
     "text": [
      "{'macroPrec': 0.7349198445991552, 'microPrec': 0.9589398504002778, 'weightPrec': 0.9649458065805293, 'macroRec': 0.7391120134800431, 'microRec': 0.9589398504002778, 'weightRec': 0.9589398504002778, 'macroF1': 0.7188114718717749, 'microF1': 0.9589398504002778, 'weightF1': 0.9601253619514704, 'subsetAcc': 0.9589398504002778, 'IoU': 0.6178548260956069}\n"
     ]
    },
    {
     "name": "stderr",
     "output_type": "stream",
     "text": [
      "epoch 56/160: 100%|██████████| 22/22 [00:22<00:00,  1.00s/it, loss=0.193]\n"
     ]
    },
    {
     "name": "stdout",
     "output_type": "stream",
     "text": [
      "{'macroPrec': 0.7112695469668268, 'microPrec': 0.9457255211119557, 'weightPrec': 0.9637660227028585, 'macroRec': 0.7154491783443663, 'microRec': 0.9457255211119557, 'weightRec': 0.9457255211119557, 'macroF1': 0.6815405634640292, 'microF1': 0.9457255211119557, 'weightF1': 0.9527348504205813, 'subsetAcc': 0.9457255211119557, 'IoU': 0.5816620726166265}\n"
     ]
    },
    {
     "name": "stderr",
     "output_type": "stream",
     "text": [
      "epoch 57/160: 100%|██████████| 22/22 [00:22<00:00,  1.00s/it, loss=0.745]\n"
     ]
    },
    {
     "name": "stdout",
     "output_type": "stream",
     "text": [
      "{'macroPrec': 0.8004918771956451, 'microPrec': 0.9659271147150191, 'weightPrec': 0.9680789237007854, 'macroRec': 0.7877235825444852, 'microRec': 0.9659271147150191, 'weightRec': 0.9659271147150191, 'macroF1': 0.7898849835769804, 'microF1': 0.9659271147150191, 'weightF1': 0.9662956477146135, 'subsetAcc': 0.9659271147150191, 'IoU': 0.6931204843846935}\n"
     ]
    },
    {
     "name": "stderr",
     "output_type": "stream",
     "text": [
      "epoch 58/160: 100%|██████████| 22/22 [00:22<00:00,  1.00s/it, loss=0.652]\n"
     ]
    },
    {
     "name": "stdout",
     "output_type": "stream",
     "text": [
      "{'macroPrec': 0.7258672986227943, 'microPrec': 0.9507841315426415, 'weightPrec': 0.9653750487955102, 'macroRec': 0.7623013554772231, 'microRec': 0.9507841315426415, 'weightRec': 0.9507841315426415, 'macroF1': 0.7211711400868545, 'microF1': 0.9507841315426415, 'weightF1': 0.955902264397625, 'subsetAcc': 0.9507841315426415, 'IoU': 0.6301010148556012}\n"
     ]
    },
    {
     "name": "stderr",
     "output_type": "stream",
     "text": [
      "epoch 59/160: 100%|██████████| 22/22 [00:22<00:00,  1.00s/it, loss=0.714]\n"
     ]
    },
    {
     "name": "stdout",
     "output_type": "stream",
     "text": [
      "{'macroPrec': 0.729943933472865, 'microPrec': 0.9517695751330348, 'weightPrec': 0.9673313491259662, 'macroRec': 0.7658691214605551, 'microRec': 0.9517695751330348, 'weightRec': 0.9517695751330348, 'macroF1': 0.7239130259309582, 'microF1': 0.9517695751330348, 'weightF1': 0.9571816271616308, 'subsetAcc': 0.9517695751330348, 'IoU': 0.6333213590920861}\n"
     ]
    },
    {
     "name": "stderr",
     "output_type": "stream",
     "text": [
      "epoch 60/160: 100%|██████████| 22/22 [00:22<00:00,  1.01s/it, loss=0.281]\n"
     ]
    },
    {
     "name": "stdout",
     "output_type": "stream",
     "text": [
      "{'macroPrec': 0.7989496833454798, 'microPrec': 0.927219080975846, 'weightPrec': 0.9281381714419703, 'macroRec': 0.7666082215778947, 'microRec': 0.927219080975846, 'weightRec': 0.927219080975846, 'macroF1': 0.7658196998038349, 'microF1': 0.927219080975846, 'weightF1': 0.9271454626619511, 'subsetAcc': 0.927219080975846, 'IoU': 0.6494738605219149}\n",
      "{'macroPrec': 0.6992987086421328, 'microPrec': 0.945870991356252, 'weightPrec': 0.9620117177152451, 'macroRec': 0.7155028525172753, 'microRec': 0.945870991356252, 'weightRec': 0.945870991356252, 'macroF1': 0.6802100115583978, 'microF1': 0.945870991356252, 'weightF1': 0.9514344090728426, 'subsetAcc': 0.945870991356252, 'IoU': 0.5803135036678388}\n"
     ]
    },
    {
     "name": "stderr",
     "output_type": "stream",
     "text": [
      "epoch 61/160: 100%|██████████| 22/22 [00:22<00:00,  1.00s/it, loss=0.0791]\n"
     ]
    },
    {
     "name": "stdout",
     "output_type": "stream",
     "text": [
      "{'macroPrec': 0.7513830720794066, 'microPrec': 0.9457583692316356, 'weightPrec': 0.9607540775839015, 'macroRec': 0.7319277644538207, 'microRec': 0.9457583692316356, 'weightRec': 0.9457583692316356, 'macroF1': 0.7143665025415946, 'microF1': 0.9457583692316356, 'weightF1': 0.9502262112172408, 'subsetAcc': 0.9457583692316356, 'IoU': 0.6186607338516308}\n"
     ]
    },
    {
     "name": "stderr",
     "output_type": "stream",
     "text": [
      "epoch 62/160: 100%|██████████| 22/22 [00:22<00:00,  1.00s/it, loss=0.217]\n"
     ]
    },
    {
     "name": "stdout",
     "output_type": "stream",
     "text": [
      "{'macroPrec': 0.7436771089135917, 'microPrec': 0.956706178262053, 'weightPrec': 0.9626408349736717, 'macroRec': 0.7541710928939793, 'microRec': 0.956706178262053, 'weightRec': 0.956706178262053, 'macroF1': 0.7418275181153026, 'microF1': 0.956706178262053, 'weightF1': 0.9565419719839352, 'subsetAcc': 0.956706178262053, 'IoU': 0.6448972475770399}\n"
     ]
    },
    {
     "name": "stderr",
     "output_type": "stream",
     "text": [
      "epoch 63/160: 100%|██████████| 22/22 [00:21<00:00,  1.00it/s, loss=0.316]\n"
     ]
    },
    {
     "name": "stdout",
     "output_type": "stream",
     "text": [
      "{'macroPrec': 0.7745948975949013, 'microPrec': 0.9708543326669857, 'weightPrec': 0.9731881354150492, 'macroRec': 0.7643483724002795, 'microRec': 0.9708543326669857, 'weightRec': 0.9708543326669857, 'macroF1': 0.7624400882935618, 'microF1': 0.9708543326669857, 'weightF1': 0.9711526003249261, 'subsetAcc': 0.9708543326669857, 'IoU': 0.6716919869887789}\n"
     ]
    },
    {
     "name": "stderr",
     "output_type": "stream",
     "text": [
      "epoch 64/160: 100%|██████████| 22/22 [00:22<00:00,  1.01s/it, loss=0.228]\n"
     ]
    },
    {
     "name": "stdout",
     "output_type": "stream",
     "text": [
      "{'macroPrec': 0.7230759674191943, 'microPrec': 0.9546508244878039, 'weightPrec': 0.9689151215910395, 'macroRec': 0.7449543835074007, 'microRec': 0.9546508244878039, 'weightRec': 0.9546508244878039, 'macroF1': 0.7093217772361124, 'microF1': 0.9546508244878039, 'weightF1': 0.9594536867242189, 'subsetAcc': 0.9546508244878039, 'IoU': 0.6160802501904775}\n"
     ]
    },
    {
     "name": "stderr",
     "output_type": "stream",
     "text": [
      "epoch 65/160: 100%|██████████| 22/22 [00:22<00:00,  1.00s/it, loss=0.655]\n"
     ]
    },
    {
     "name": "stdout",
     "output_type": "stream",
     "text": [
      "{'macroPrec': 0.7421316568005228, 'microPrec': 0.9451060994265656, 'weightPrec': 0.9632647214456299, 'macroRec': 0.777475391214741, 'microRec': 0.9451060994265656, 'weightRec': 0.9451060994265656, 'macroF1': 0.735567154425717, 'microF1': 0.9451060994265656, 'weightF1': 0.9515791018139831, 'subsetAcc': 0.9451060994265656, 'IoU': 0.6516645123617701}\n"
     ]
    },
    {
     "name": "stderr",
     "output_type": "stream",
     "text": [
      "epoch 66/160: 100%|██████████| 22/22 [00:22<00:00,  1.00s/it, loss=0.268]\n"
     ]
    },
    {
     "name": "stdout",
     "output_type": "stream",
     "text": [
      "{'macroPrec': 0.7451983181380459, 'microPrec': 0.9601223827087498, 'weightPrec': 0.9725253995419629, 'macroRec': 0.7986054659067198, 'microRec': 0.9601223827087498, 'weightRec': 0.9601223827087498, 'macroF1': 0.7521602003367225, 'microF1': 0.9601223827087498, 'weightF1': 0.9647830578978772, 'subsetAcc': 0.9601223827087498, 'IoU': 0.6723895687174716}\n"
     ]
    },
    {
     "name": "stderr",
     "output_type": "stream",
     "text": [
      "epoch 67/160: 100%|██████████| 22/22 [00:21<00:00,  1.00it/s, loss=0.389]\n"
     ]
    },
    {
     "name": "stdout",
     "output_type": "stream",
     "text": [
      "{'macroPrec': 0.7797938873289596, 'microPrec': 0.9627783878142862, 'weightPrec': 0.9655095408416396, 'macroRec': 0.7486337252613763, 'microRec': 0.9627783878142862, 'weightRec': 0.9627783878142862, 'macroF1': 0.7564053418814694, 'microF1': 0.9627783878142862, 'weightF1': 0.9630094330963381, 'subsetAcc': 0.9627783878142862, 'IoU': 0.6608305857880228}\n"
     ]
    },
    {
     "name": "stderr",
     "output_type": "stream",
     "text": [
      "epoch 68/160: 100%|██████████| 22/22 [00:22<00:00,  1.00s/it, loss=0.624]\n",
      "/usr/local/lib/python3.10/dist-packages/sklearn/metrics/_classification.py:1344: UndefinedMetricWarning: Precision is ill-defined and being set to 0.0 in labels with no predicted samples. Use `zero_division` parameter to control this behavior.\n",
      "  _warn_prf(average, modifier, msg_start, len(result))\n",
      "/usr/local/lib/python3.10/dist-packages/sklearn/metrics/_classification.py:1344: UndefinedMetricWarning: Precision is ill-defined and being set to 0.0 in labels with no predicted samples. Use `zero_division` parameter to control this behavior.\n",
      "  _warn_prf(average, modifier, msg_start, len(result))\n"
     ]
    },
    {
     "name": "stdout",
     "output_type": "stream",
     "text": [
      "{'macroPrec': 0.6988784557796226, 'microPrec': 0.9507794389541159, 'weightPrec': 0.9718493107116516, 'macroRec': 0.7425552237796015, 'microRec': 0.9507794389541159, 'weightRec': 0.9507794389541159, 'macroF1': 0.6730368445880552, 'microF1': 0.9507794389541159, 'weightF1': 0.958164921272126, 'subsetAcc': 0.9507794389541159, 'IoU': 0.582046765633532}\n"
     ]
    },
    {
     "name": "stderr",
     "output_type": "stream",
     "text": [
      "epoch 69/160: 100%|██████████| 22/22 [00:21<00:00,  1.00it/s, loss=0.307]\n"
     ]
    },
    {
     "name": "stdout",
     "output_type": "stream",
     "text": [
      "{'macroPrec': 0.7799663302285875, 'microPrec': 0.9683391052172199, 'weightPrec': 0.9697265257577753, 'macroRec': 0.7549064910515683, 'microRec': 0.9683391052172199, 'weightRec': 0.9683391052172199, 'macroF1': 0.7488703020765318, 'microF1': 0.96833910521722, 'weightF1': 0.968327679032956, 'subsetAcc': 0.9683391052172199, 'IoU': 0.639705621868184}\n"
     ]
    },
    {
     "name": "stderr",
     "output_type": "stream",
     "text": [
      "epoch 70/160: 100%|██████████| 22/22 [00:22<00:00,  1.00s/it, loss=0.686]\n"
     ]
    },
    {
     "name": "stdout",
     "output_type": "stream",
     "text": [
      "{'macroPrec': 0.794738386970926, 'microPrec': 0.9043692304826134, 'weightPrec': 0.908550848864735, 'macroRec': 0.8031511362446434, 'microRec': 0.9043692304826134, 'weightRec': 0.9043692304826134, 'macroF1': 0.7962368656009464, 'microF1': 0.9043692304826134, 'weightF1': 0.9054108888841199, 'subsetAcc': 0.9043692304826134, 'IoU': 0.6723457282615032}\n",
      "{'macroPrec': 0.7473196686389578, 'microPrec': 0.9021501440624677, 'weightPrec': 0.9103123033070388, 'macroRec': 0.7221499093053327, 'microRec': 0.9021501440624677, 'weightRec': 0.9021501440624677, 'macroF1': 0.7186771384160218, 'microF1': 0.9021501440624677, 'weightF1': 0.8967398349873641, 'subsetAcc': 0.9021501440624677, 'IoU': 0.6156352305762446}\n"
     ]
    },
    {
     "name": "stderr",
     "output_type": "stream",
     "text": [
      "epoch 71/160: 100%|██████████| 22/22 [00:22<00:00,  1.00s/it, loss=0.869]\n"
     ]
    },
    {
     "name": "stdout",
     "output_type": "stream",
     "text": [
      "{'macroPrec': 0.7507748030102033, 'microPrec': 0.958494054490338, 'weightPrec': 0.9708829456283563, 'macroRec': 0.7834755902385168, 'microRec': 0.958494054490338, 'weightRec': 0.958494054490338, 'macroF1': 0.7467317282990968, 'microF1': 0.958494054490338, 'weightF1': 0.9629102844475314, 'subsetAcc': 0.958494054490338, 'IoU': 0.6590278064330267}\n"
     ]
    },
    {
     "name": "stderr",
     "output_type": "stream",
     "text": [
      "epoch 72/160: 100%|██████████| 22/22 [00:21<00:00,  1.00it/s, loss=0.236]\n"
     ]
    },
    {
     "name": "stdout",
     "output_type": "stream",
     "text": [
      "{'macroPrec': 0.7384928090230413, 'microPrec': 0.9491323403816013, 'weightPrec': 0.9635930782222346, 'macroRec': 0.7507641787989038, 'microRec': 0.9491323403816013, 'weightRec': 0.9491323403816013, 'macroF1': 0.7205815896128887, 'microF1': 0.9491323403816013, 'weightF1': 0.9537851295802395, 'subsetAcc': 0.9491323403816013, 'IoU': 0.6161461527217489}\n"
     ]
    },
    {
     "name": "stderr",
     "output_type": "stream",
     "text": [
      "epoch 73/160: 100%|██████████| 22/22 [00:22<00:00,  1.00s/it, loss=0.182]\n"
     ]
    },
    {
     "name": "stdout",
     "output_type": "stream",
     "text": [
      "{'macroPrec': 0.7420305875225974, 'microPrec': 0.9590243169937401, 'weightPrec': 0.972889534478101, 'macroRec': 0.782350184624514, 'microRec': 0.9590243169937401, 'weightRec': 0.9590243169937401, 'macroF1': 0.7417653926518647, 'microF1': 0.9590243169937401, 'weightF1': 0.9640263495328918, 'subsetAcc': 0.9590243169937401, 'IoU': 0.6601722718101052}\n"
     ]
    },
    {
     "name": "stderr",
     "output_type": "stream",
     "text": [
      "epoch 74/160: 100%|██████████| 22/22 [00:22<00:00,  1.00s/it, loss=0.283] \n"
     ]
    },
    {
     "name": "stdout",
     "output_type": "stream",
     "text": [
      "{'macroPrec': 0.7622026694179099, 'microPrec': 0.9635667426866008, 'weightPrec': 0.9675283413133948, 'macroRec': 0.7364475637272896, 'microRec': 0.9635667426866008, 'weightRec': 0.9635667426866008, 'macroF1': 0.7313434855238728, 'microF1': 0.9635667426866008, 'weightF1': 0.9640252726421448, 'subsetAcc': 0.9635667426866008, 'IoU': 0.6209642908077871}\n"
     ]
    },
    {
     "name": "stderr",
     "output_type": "stream",
     "text": [
      "epoch 75/160: 100%|██████████| 22/22 [00:22<00:00,  1.00s/it, loss=0.169]\n"
     ]
    },
    {
     "name": "stdout",
     "output_type": "stream",
     "text": [
      "{'macroPrec': 0.7868694562431638, 'microPrec': 0.967363046803878, 'weightPrec': 0.9699156553390375, 'macroRec': 0.7727267432377755, 'microRec': 0.967363046803878, 'weightRec': 0.967363046803878, 'macroF1': 0.772349500776657, 'microF1': 0.967363046803878, 'weightF1': 0.9676788153484602, 'subsetAcc': 0.967363046803878, 'IoU': 0.668100028345958}\n"
     ]
    },
    {
     "name": "stderr",
     "output_type": "stream",
     "text": [
      "epoch 76/160: 100%|██████████| 22/22 [00:21<00:00,  1.00it/s, loss=0.291]\n"
     ]
    },
    {
     "name": "stdout",
     "output_type": "stream",
     "text": [
      "{'macroPrec': 0.743083340494877, 'microPrec': 0.9451436401347711, 'weightPrec': 0.9666577699600516, 'macroRec': 0.7452450286908252, 'microRec': 0.9451436401347711, 'weightRec': 0.9451436401347711, 'macroF1': 0.7113817429780938, 'microF1': 0.9451436401347711, 'weightF1': 0.952811210912688, 'subsetAcc': 0.9451436401347711, 'IoU': 0.6010065221712527}\n"
     ]
    },
    {
     "name": "stderr",
     "output_type": "stream",
     "text": [
      "epoch 77/160: 100%|██████████| 22/22 [00:21<00:00,  1.00it/s, loss=0.098] \n"
     ]
    },
    {
     "name": "stdout",
     "output_type": "stream",
     "text": [
      "{'macroPrec': 0.8128078634219835, 'microPrec': 0.9714596765867988, 'weightPrec': 0.9727342622495279, 'macroRec': 0.7952886278273749, 'microRec': 0.9714596765867988, 'weightRec': 0.9714596765867988, 'macroF1': 0.8028553263616157, 'microF1': 0.9714596765867988, 'weightF1': 0.9715471973842146, 'subsetAcc': 0.9714596765867988, 'IoU': 0.710439208197048}\n"
     ]
    },
    {
     "name": "stderr",
     "output_type": "stream",
     "text": [
      "epoch 78/160: 100%|██████████| 22/22 [00:21<00:00,  1.00it/s, loss=0.519] \n"
     ]
    },
    {
     "name": "stdout",
     "output_type": "stream",
     "text": [
      "{'macroPrec': 0.7364363235112072, 'microPrec': 0.9571097408752616, 'weightPrec': 0.9708961737286158, 'macroRec': 0.7745971978655709, 'microRec': 0.9571097408752616, 'weightRec': 0.9571097408752616, 'macroF1': 0.735400039704939, 'microF1': 0.9571097408752616, 'weightF1': 0.9620529081205432, 'subsetAcc': 0.9571097408752616, 'IoU': 0.6501434745863873}\n"
     ]
    },
    {
     "name": "stderr",
     "output_type": "stream",
     "text": [
      "epoch 79/160: 100%|██████████| 22/22 [00:22<00:00,  1.00s/it, loss=0.322] \n"
     ]
    },
    {
     "name": "stdout",
     "output_type": "stream",
     "text": [
      "{'macroPrec': 0.772364364251499, 'microPrec': 0.9527315557807998, 'weightPrec': 0.9673279225420148, 'macroRec': 0.8019275484180195, 'microRec': 0.9527315557807998, 'weightRec': 0.9527315557807998, 'macroF1': 0.7633144349544018, 'microF1': 0.9527315557807998, 'weightF1': 0.9582075329052243, 'subsetAcc': 0.9527315557807998, 'IoU': 0.6656424821432423}\n"
     ]
    },
    {
     "name": "stderr",
     "output_type": "stream",
     "text": [
      "epoch 80/160: 100%|██████████| 22/22 [00:22<00:00,  1.00s/it, loss=0.865]\n"
     ]
    },
    {
     "name": "stdout",
     "output_type": "stream",
     "text": [
      "{'macroPrec': 0.8322170055682027, 'microPrec': 0.9313503115888704, 'weightPrec': 0.9320384409622745, 'macroRec': 0.8295424282916493, 'microRec': 0.9313503115888704, 'weightRec': 0.9313503115888704, 'macroF1': 0.828827865781469, 'microF1': 0.9313503115888705, 'weightF1': 0.9315546511668867, 'subsetAcc': 0.9313503115888704, 'IoU': 0.7233137385412396}\n",
      "{'macroPrec': 0.741005153470475, 'microPrec': 0.9532477405186249, 'weightPrec': 0.9704610828252928, 'macroRec': 0.7653595189336797, 'microRec': 0.9532477405186249, 'weightRec': 0.9532477405186249, 'macroF1': 0.7194249827436497, 'microF1': 0.9532477405186249, 'weightF1': 0.9591478198886165, 'subsetAcc': 0.9532477405186249, 'IoU': 0.6124042932238037}\n"
     ]
    },
    {
     "name": "stderr",
     "output_type": "stream",
     "text": [
      "epoch 81/160: 100%|██████████| 22/22 [00:22<00:00,  1.01s/it, loss=0.831]\n"
     ]
    },
    {
     "name": "stdout",
     "output_type": "stream",
     "text": [
      "{'macroPrec': 0.7718067585710696, 'microPrec': 0.9480295820780659, 'weightPrec': 0.969294862181423, 'macroRec': 0.7344272540854244, 'microRec': 0.9480295820780659, 'weightRec': 0.9480295820780659, 'macroF1': 0.6839371048675686, 'microF1': 0.9480295820780659, 'weightF1': 0.9556348949723638, 'subsetAcc': 0.9480295820780659, 'IoU': 0.5946674410973842}\n"
     ]
    },
    {
     "name": "stderr",
     "output_type": "stream",
     "text": [
      "epoch 82/160: 100%|██████████| 22/22 [00:22<00:00,  1.00s/it, loss=0.501]\n"
     ]
    },
    {
     "name": "stdout",
     "output_type": "stream",
     "text": [
      "{'macroPrec': 0.707751870557447, 'microPrec': 0.9501647098572514, 'weightPrec': 0.9663485733031315, 'macroRec': 0.688792704882524, 'microRec': 0.9501647098572514, 'weightRec': 0.9501647098572514, 'macroF1': 0.6580235840409611, 'microF1': 0.9501647098572514, 'weightF1': 0.9552106915853901, 'subsetAcc': 0.9501647098572514, 'IoU': 0.5556824909596674}\n"
     ]
    },
    {
     "name": "stderr",
     "output_type": "stream",
     "text": [
      "epoch 83/160: 100%|██████████| 22/22 [00:22<00:00,  1.00s/it, loss=0.314]\n"
     ]
    },
    {
     "name": "stdout",
     "output_type": "stream",
     "text": [
      "{'macroPrec': 0.7465792884006206, 'microPrec': 0.9537451549023472, 'weightPrec': 0.965901238490909, 'macroRec': 0.7746675668097246, 'microRec': 0.9537451549023472, 'weightRec': 0.9537451549023472, 'macroF1': 0.7374738153809809, 'microF1': 0.9537451549023472, 'weightF1': 0.9581898580766425, 'subsetAcc': 0.9537451549023472, 'IoU': 0.6359020863254546}\n"
     ]
    },
    {
     "name": "stderr",
     "output_type": "stream",
     "text": [
      "epoch 84/160: 100%|██████████| 22/22 [00:22<00:00,  1.00s/it, loss=0.3]  \n"
     ]
    },
    {
     "name": "stdout",
     "output_type": "stream",
     "text": [
      "{'macroPrec': 0.8031998278161311, 'microPrec': 0.967555442933431, 'weightPrec': 0.9698585717608423, 'macroRec': 0.7712666237032649, 'microRec': 0.967555442933431, 'weightRec': 0.967555442933431, 'macroF1': 0.7815141489149802, 'microF1': 0.967555442933431, 'weightF1': 0.967571568079803, 'subsetAcc': 0.967555442933431, 'IoU': 0.6918569633552463}\n"
     ]
    },
    {
     "name": "stderr",
     "output_type": "stream",
     "text": [
      "epoch 85/160: 100%|██████████| 22/22 [00:22<00:00,  1.00s/it, loss=0.333]\n"
     ]
    },
    {
     "name": "stdout",
     "output_type": "stream",
     "text": [
      "{'macroPrec': 0.7401663640868343, 'microPrec': 0.9550215389813329, 'weightPrec': 0.968875797343586, 'macroRec': 0.7612679128409062, 'microRec': 0.9550215389813329, 'weightRec': 0.9550215389813329, 'macroF1': 0.7305060620109688, 'microF1': 0.9550215389813329, 'weightF1': 0.959806004190816, 'subsetAcc': 0.9550215389813329, 'IoU': 0.6461623188888174}\n"
     ]
    },
    {
     "name": "stderr",
     "output_type": "stream",
     "text": [
      "epoch 86/160: 100%|██████████| 22/22 [00:22<00:00,  1.01s/it, loss=0.254] \n"
     ]
    },
    {
     "name": "stdout",
     "output_type": "stream",
     "text": [
      "{'macroPrec': 0.7713616221424483, 'microPrec': 0.95967658679881, 'weightPrec': 0.9729036880314591, 'macroRec': 0.7929072735245654, 'microRec': 0.95967658679881, 'weightRec': 0.95967658679881, 'macroF1': 0.7598417427510186, 'microF1': 0.95967658679881, 'weightF1': 0.9646359144882718, 'subsetAcc': 0.95967658679881, 'IoU': 0.6626316990369732}\n"
     ]
    },
    {
     "name": "stderr",
     "output_type": "stream",
     "text": [
      "epoch 87/160: 100%|██████████| 22/22 [00:21<00:00,  1.00it/s, loss=0.637]\n"
     ]
    },
    {
     "name": "stdout",
     "output_type": "stream",
     "text": [
      "{'macroPrec': 0.7266066381182994, 'microPrec': 0.9536278401892052, 'weightPrec': 0.9689935602233565, 'macroRec': 0.7775260805545102, 'microRec': 0.9536278401892052, 'weightRec': 0.9536278401892052, 'macroF1': 0.7273171202776954, 'microF1': 0.9536278401892052, 'weightF1': 0.9588169434473055, 'subsetAcc': 0.9536278401892052, 'IoU': 0.6381888507941125}\n"
     ]
    },
    {
     "name": "stderr",
     "output_type": "stream",
     "text": [
      "epoch 88/160: 100%|██████████| 22/22 [00:22<00:00,  1.00s/it, loss=0.0589]\n"
     ]
    },
    {
     "name": "stdout",
     "output_type": "stream",
     "text": [
      "{'macroPrec': 0.7610191489924165, 'microPrec': 0.9522716821052829, 'weightPrec': 0.9701702785786187, 'macroRec': 0.7750483080769821, 'microRec': 0.9522716821052829, 'weightRec': 0.9522716821052829, 'macroF1': 0.740314474133999, 'microF1': 0.9522716821052829, 'weightF1': 0.9588652659742626, 'subsetAcc': 0.9522716821052829, 'IoU': 0.637444371393176}\n"
     ]
    },
    {
     "name": "stderr",
     "output_type": "stream",
     "text": [
      "epoch 89/160: 100%|██████████| 22/22 [00:21<00:00,  1.00it/s, loss=0.231]\n"
     ]
    },
    {
     "name": "stdout",
     "output_type": "stream",
     "text": [
      "{'macroPrec': 0.7745760341384078, 'microPrec': 0.9707557883079464, 'weightPrec': 0.972146077797357, 'macroRec': 0.7858200414246603, 'microRec': 0.9707557883079464, 'weightRec': 0.9707557883079464, 'macroF1': 0.7750983739484932, 'microF1': 0.9707557883079464, 'weightF1': 0.971100333393655, 'subsetAcc': 0.9707557883079464, 'IoU': 0.6890065049031506}\n"
     ]
    },
    {
     "name": "stderr",
     "output_type": "stream",
     "text": [
      "epoch 90/160: 100%|██████████| 22/22 [00:22<00:00,  1.00s/it, loss=0.297]\n"
     ]
    },
    {
     "name": "stdout",
     "output_type": "stream",
     "text": [
      "{'macroPrec': 0.8322421925836863, 'microPrec': 0.9425144150605945, 'weightPrec': 0.9436377299494508, 'macroRec': 0.8625540257268177, 'microRec': 0.9425144150605945, 'weightRec': 0.9425144150605945, 'macroF1': 0.8437941664582707, 'microF1': 0.9425144150605945, 'weightF1': 0.9428348825996856, 'subsetAcc': 0.9425144150605945, 'IoU': 0.7477285405126917}\n",
      "{'macroPrec': 0.7654118299049092, 'microPrec': 0.9567108708505786, 'weightPrec': 0.9745536015643551, 'macroRec': 0.7985483740220946, 'microRec': 0.9567108708505786, 'weightRec': 0.9567108708505786, 'macroF1': 0.7556524585895513, 'microF1': 0.9567108708505786, 'weightF1': 0.9635126573390462, 'subsetAcc': 0.9567108708505786, 'IoU': 0.6633153127441858}\n"
     ]
    },
    {
     "name": "stderr",
     "output_type": "stream",
     "text": [
      "epoch 91/160: 100%|██████████| 22/22 [00:22<00:00,  1.01s/it, loss=0.202] \n"
     ]
    },
    {
     "name": "stdout",
     "output_type": "stream",
     "text": [
      "{'macroPrec': 0.7671766180213269, 'microPrec': 0.9585128248444407, 'weightPrec': 0.9711682009438464, 'macroRec': 0.7912888326794825, 'microRec': 0.9585128248444407, 'weightRec': 0.9585128248444407, 'macroF1': 0.7589616310324399, 'microF1': 0.9585128248444407, 'weightF1': 0.9632229940593997, 'subsetAcc': 0.9585128248444407, 'IoU': 0.6678142646360721}\n"
     ]
    },
    {
     "name": "stderr",
     "output_type": "stream",
     "text": [
      "epoch 92/160: 100%|██████████| 22/22 [00:22<00:00,  1.00s/it, loss=0.19] \n"
     ]
    },
    {
     "name": "stdout",
     "output_type": "stream",
     "text": [
      "{'macroPrec': 0.7685476076871651, 'microPrec': 0.9569971187506452, 'weightPrec': 0.9682428445587069, 'macroRec': 0.8034218398731842, 'microRec': 0.9569971187506452, 'weightRec': 0.9569971187506452, 'macroF1': 0.7693279237847475, 'microF1': 0.9569971187506452, 'weightF1': 0.9601689245967754, 'subsetAcc': 0.9569971187506452, 'IoU': 0.6879673421268948}\n"
     ]
    },
    {
     "name": "stderr",
     "output_type": "stream",
     "text": [
      "epoch 93/160: 100%|██████████| 22/22 [00:21<00:00,  1.00it/s, loss=0.392] \n"
     ]
    },
    {
     "name": "stdout",
     "output_type": "stream",
     "text": [
      "{'macroPrec': 0.7203466245892854, 'microPrec': 0.95544856453717, 'weightPrec': 0.9694234520474724, 'macroRec': 0.7458189566281593, 'microRec': 0.95544856453717, 'weightRec': 0.95544856453717, 'macroF1': 0.7093541861515203, 'microF1': 0.95544856453717, 'weightF1': 0.9604448949319373, 'subsetAcc': 0.95544856453717, 'IoU': 0.6227447876464329}\n"
     ]
    },
    {
     "name": "stderr",
     "output_type": "stream",
     "text": [
      "epoch 94/160: 100%|██████████| 22/22 [00:22<00:00,  1.01s/it, loss=0.182]\n"
     ]
    },
    {
     "name": "stdout",
     "output_type": "stream",
     "text": [
      "{'macroPrec': 0.7895684532857207, 'microPrec': 0.9641251607211571, 'weightPrec': 0.970353193604876, 'macroRec': 0.8122768821251408, 'microRec': 0.9641251607211571, 'weightRec': 0.9641251607211571, 'macroF1': 0.783144710964073, 'microF1': 0.9641251607211571, 'weightF1': 0.9663099934341913, 'subsetAcc': 0.9641251607211571, 'IoU': 0.6855560340939086}\n"
     ]
    },
    {
     "name": "stderr",
     "output_type": "stream",
     "text": [
      "epoch 95/160: 100%|██████████| 22/22 [00:22<00:00,  1.00s/it, loss=0.343] \n"
     ]
    },
    {
     "name": "stdout",
     "output_type": "stream",
     "text": [
      "{'macroPrec': 0.7794508928360095, 'microPrec': 0.9600332235267618, 'weightPrec': 0.974065094461222, 'macroRec': 0.8249254428329116, 'microRec': 0.9600332235267618, 'weightRec': 0.9600332235267618, 'macroF1': 0.7805788071527776, 'microF1': 0.9600332235267618, 'weightF1': 0.9651253776098873, 'subsetAcc': 0.9600332235267618, 'IoU': 0.6980648465848408}\n"
     ]
    },
    {
     "name": "stderr",
     "output_type": "stream",
     "text": [
      "epoch 96/160: 100%|██████████| 22/22 [00:22<00:00,  1.00s/it, loss=0.321]\n"
     ]
    },
    {
     "name": "stdout",
     "output_type": "stream",
     "text": [
      "{'macroPrec': 0.8143340818334895, 'microPrec': 0.9567671819128868, 'weightPrec': 0.963305917739305, 'macroRec': 0.8183000603346199, 'microRec': 0.9567671819128868, 'weightRec': 0.9567671819128868, 'macroF1': 0.812132079338168, 'microF1': 0.9567671819128868, 'weightF1': 0.9579555109672593, 'subsetAcc': 0.9567671819128868, 'IoU': 0.7160730310605746}\n"
     ]
    },
    {
     "name": "stderr",
     "output_type": "stream",
     "text": [
      "epoch 97/160: 100%|██████████| 22/22 [00:22<00:00,  1.00s/it, loss=0.149] \n"
     ]
    },
    {
     "name": "stdout",
     "output_type": "stream",
     "text": [
      "{'macroPrec': 0.7921524405799988, 'microPrec': 0.9663776032134846, 'weightPrec': 0.969222258793444, 'macroRec': 0.8054645891970619, 'microRec': 0.9663776032134846, 'weightRec': 0.9663776032134846, 'macroF1': 0.7914714245566917, 'microF1': 0.9663776032134846, 'weightF1': 0.9673187098709198, 'subsetAcc': 0.9663776032134846, 'IoU': 0.6936959746848577}\n"
     ]
    },
    {
     "name": "stderr",
     "output_type": "stream",
     "text": [
      "epoch 98/160: 100%|██████████| 22/22 [00:21<00:00,  1.00it/s, loss=0.244]\n"
     ]
    },
    {
     "name": "stdout",
     "output_type": "stream",
     "text": [
      "{'macroPrec': 0.7478556835269089, 'microPrec': 0.953571529126897, 'weightPrec': 0.9705630895248999, 'macroRec': 0.7783302456015018, 'microRec': 0.953571529126897, 'weightRec': 0.953571529126897, 'macroF1': 0.7382649426727965, 'microF1': 0.9535715291268969, 'weightF1': 0.959593922032743, 'subsetAcc': 0.953571529126897, 'IoU': 0.6437063182439765}\n"
     ]
    },
    {
     "name": "stderr",
     "output_type": "stream",
     "text": [
      "epoch 99/160: 100%|██████████| 22/22 [00:22<00:00,  1.00s/it, loss=0.199] \n"
     ]
    },
    {
     "name": "stdout",
     "output_type": "stream",
     "text": [
      "{'macroPrec': 0.7671576252693298, 'microPrec': 0.9578183217426397, 'weightPrec': 0.9729987198245338, 'macroRec': 0.8239645728660144, 'microRec': 0.9578183217426397, 'weightRec': 0.9578183217426397, 'macroF1': 0.7716814426422656, 'microF1': 0.9578183217426397, 'weightF1': 0.963534385360398, 'subsetAcc': 0.9578183217426397, 'IoU': 0.6855303177382449}\n"
     ]
    },
    {
     "name": "stderr",
     "output_type": "stream",
     "text": [
      "epoch 100/160: 100%|██████████| 22/22 [00:21<00:00,  1.00it/s, loss=0.369]\n"
     ]
    },
    {
     "name": "stdout",
     "output_type": "stream",
     "text": [
      "{'macroPrec': 0.8118715942635114, 'microPrec': 0.953229066723799, 'weightPrec': 0.955210180541604, 'macroRec': 0.8726050296539125, 'microRec': 0.953229066723799, 'weightRec': 0.953229066723799, 'macroF1': 0.8334742675128856, 'microF1': 0.953229066723799, 'weightF1': 0.9538135560050297, 'subsetAcc': 0.953229066723799, 'IoU': 0.7383379922138673}\n",
      "{'macroPrec': 0.782986837071224, 'microPrec': 0.9522763746938085, 'weightPrec': 0.9684703748489452, 'macroRec': 0.7969127281493283, 'microRec': 0.9522763746938085, 'weightRec': 0.9522763746938085, 'macroF1': 0.766721830487395, 'microF1': 0.9522763746938085, 'weightF1': 0.9575254453501226, 'subsetAcc': 0.9522763746938085, 'IoU': 0.6694339727619796}\n"
     ]
    },
    {
     "name": "stderr",
     "output_type": "stream",
     "text": [
      "epoch 101/160: 100%|██████████| 22/22 [00:22<00:00,  1.01s/it, loss=0.397]\n"
     ]
    },
    {
     "name": "stdout",
     "output_type": "stream",
     "text": [
      "{'macroPrec': 0.8232925483394413, 'microPrec': 0.9648618971196892, 'weightPrec': 0.9656779727019263, 'macroRec': 0.7711717211339181, 'microRec': 0.9648618971196892, 'weightRec': 0.9648618971196892, 'macroF1': 0.7885555990923202, 'microF1': 0.9648618971196892, 'weightF1': 0.9644589447310665, 'subsetAcc': 0.9648618971196892, 'IoU': 0.6889360905491348}\n"
     ]
    },
    {
     "name": "stderr",
     "output_type": "stream",
     "text": [
      "epoch 102/160: 100%|██████████| 22/22 [00:22<00:00,  1.01s/it, loss=0.657] \n"
     ]
    },
    {
     "name": "stdout",
     "output_type": "stream",
     "text": [
      "{'macroPrec': 0.7939655566708292, 'microPrec': 0.9600426087038132, 'weightPrec': 0.9745681868894333, 'macroRec': 0.8374032638747457, 'microRec': 0.9600426087038132, 'weightRec': 0.9600426087038132, 'macroF1': 0.7928650647888532, 'microF1': 0.9600426087038132, 'weightF1': 0.9655694304802458, 'subsetAcc': 0.9600426087038132, 'IoU': 0.7029423399260929}\n"
     ]
    },
    {
     "name": "stderr",
     "output_type": "stream",
     "text": [
      "epoch 103/160: 100%|██████████| 22/22 [00:21<00:00,  1.00it/s, loss=0.0564]\n"
     ]
    },
    {
     "name": "stdout",
     "output_type": "stream",
     "text": [
      "{'macroPrec': 0.8153029497987128, 'microPrec': 0.956114912107817, 'weightPrec': 0.9632854805286674, 'macroRec': 0.8269357049895313, 'microRec': 0.956114912107817, 'weightRec': 0.956114912107817, 'macroF1': 0.8157391537730667, 'microF1': 0.956114912107817, 'weightF1': 0.9573522221846762, 'subsetAcc': 0.956114912107817, 'IoU': 0.7183820973857098}\n"
     ]
    },
    {
     "name": "stderr",
     "output_type": "stream",
     "text": [
      "epoch 104/160: 100%|██████████| 22/22 [00:22<00:00,  1.01s/it, loss=0.222]\n"
     ]
    },
    {
     "name": "stdout",
     "output_type": "stream",
     "text": [
      "{'macroPrec': 0.7746452248210947, 'microPrec': 0.9583955101312986, 'weightPrec': 0.9725769347764147, 'macroRec': 0.8027730971020955, 'microRec': 0.9583955101312986, 'weightRec': 0.9583955101312986, 'macroF1': 0.757411726160864, 'microF1': 0.9583955101312986, 'weightF1': 0.9635911769341332, 'subsetAcc': 0.9583955101312986, 'IoU': 0.6605088742853136}\n"
     ]
    },
    {
     "name": "stderr",
     "output_type": "stream",
     "text": [
      "epoch 105/160: 100%|██████████| 22/22 [00:22<00:00,  1.00s/it, loss=0.165] \n"
     ]
    },
    {
     "name": "stdout",
     "output_type": "stream",
     "text": [
      "{'macroPrec': 0.8075245217205645, 'microPrec': 0.9610468226483092, 'weightPrec': 0.9649000714835511, 'macroRec': 0.8213979820511721, 'microRec': 0.9610468226483092, 'weightRec': 0.9610468226483092, 'macroF1': 0.8087763589144622, 'microF1': 0.9610468226483092, 'weightF1': 0.9619069022308726, 'subsetAcc': 0.9610468226483092, 'IoU': 0.7157974715921762}\n"
     ]
    },
    {
     "name": "stderr",
     "output_type": "stream",
     "text": [
      "epoch 106/160: 100%|██████████| 22/22 [00:21<00:00,  1.01it/s, loss=0.236]\n"
     ]
    },
    {
     "name": "stdout",
     "output_type": "stream",
     "text": [
      "{'macroPrec': 0.7908302324875723, 'microPrec': 0.9597469756266952, 'weightPrec': 0.9736840612520323, 'macroRec': 0.8422218102564074, 'microRec': 0.9597469756266952, 'weightRec': 0.9597469756266952, 'macroF1': 0.795732837182705, 'microF1': 0.9597469756266952, 'weightF1': 0.9650713886092185, 'subsetAcc': 0.9597469756266952, 'IoU': 0.7138109655058517}\n"
     ]
    },
    {
     "name": "stderr",
     "output_type": "stream",
     "text": [
      "epoch 107/160: 100%|██████████| 22/22 [00:22<00:00,  1.00s/it, loss=0.496]\n"
     ]
    },
    {
     "name": "stdout",
     "output_type": "stream",
     "text": [
      "{'macroPrec': 0.7679774012607109, 'microPrec': 0.9472271494401742, 'weightPrec': 0.9589263154858436, 'macroRec': 0.8002500511727967, 'microRec': 0.9472271494401742, 'weightRec': 0.9472271494401742, 'macroF1': 0.7658284602885908, 'microF1': 0.9472271494401742, 'weightF1': 0.9495230797924423, 'subsetAcc': 0.9472271494401742, 'IoU': 0.6565456236778121}\n"
     ]
    },
    {
     "name": "stderr",
     "output_type": "stream",
     "text": [
      "epoch 108/160: 100%|██████████| 22/22 [00:21<00:00,  1.00it/s, loss=0.351]\n"
     ]
    },
    {
     "name": "stdout",
     "output_type": "stream",
     "text": [
      "{'macroPrec': 0.776198107001102, 'microPrec': 0.9721682574541769, 'weightPrec': 0.9740327611531882, 'macroRec': 0.806215290377808, 'microRec': 0.9721682574541769, 'weightRec': 0.9721682574541769, 'macroF1': 0.7857816697306009, 'microF1': 0.9721682574541769, 'weightF1': 0.9725016338432301, 'subsetAcc': 0.9721682574541769, 'IoU': 0.7049068062161377}\n"
     ]
    },
    {
     "name": "stderr",
     "output_type": "stream",
     "text": [
      "epoch 109/160: 100%|██████████| 22/22 [00:22<00:00,  1.00s/it, loss=0.42] \n"
     ]
    },
    {
     "name": "stdout",
     "output_type": "stream",
     "text": [
      "{'macroPrec': 0.7895055019614667, 'microPrec': 0.9605306379104842, 'weightPrec': 0.9732776291965046, 'macroRec': 0.8306301022443869, 'microRec': 0.9605306379104842, 'weightRec': 0.9605306379104842, 'macroF1': 0.7913393088971566, 'microF1': 0.9605306379104842, 'weightF1': 0.9650855163370049, 'subsetAcc': 0.9605306379104842, 'IoU': 0.7078245057370701}\n"
     ]
    },
    {
     "name": "stderr",
     "output_type": "stream",
     "text": [
      "epoch 110/160: 100%|██████████| 22/22 [00:22<00:00,  1.01s/it, loss=0.108]\n"
     ]
    },
    {
     "name": "stdout",
     "output_type": "stream",
     "text": [
      "{'macroPrec': 0.8665639195126946, 'microPrec': 0.9462101664601827, 'weightPrec': 0.9469738817325868, 'macroRec': 0.8694514259910658, 'microRec': 0.9462101664601827, 'weightRec': 0.9462101664601827, 'macroF1': 0.8662363360569999, 'microF1': 0.9462101664601827, 'weightF1': 0.9464026127171313, 'subsetAcc': 0.9462101664601827, 'IoU': 0.771714412394094}\n",
      "{'macroPrec': 0.8210158398008344, 'microPrec': 0.9616474739795966, 'weightPrec': 0.9667922783828052, 'macroRec': 0.8076093976954714, 'microRec': 0.9616474739795966, 'weightRec': 0.9616474739795966, 'macroF1': 0.8124533449928939, 'microF1': 0.9616474739795966, 'weightF1': 0.9625659613728959, 'subsetAcc': 0.9616474739795966, 'IoU': 0.7211633469859868}\n"
     ]
    },
    {
     "name": "stderr",
     "output_type": "stream",
     "text": [
      "epoch 111/160: 100%|██████████| 22/22 [00:21<00:00,  1.00it/s, loss=0.275] \n"
     ]
    },
    {
     "name": "stdout",
     "output_type": "stream",
     "text": [
      "{'macroPrec': 0.8098064691072216, 'microPrec': 0.964509952980263, 'weightPrec': 0.9700122724115015, 'macroRec': 0.8301363870540978, 'microRec': 0.964509952980263, 'weightRec': 0.964509952980263, 'macroF1': 0.8104044138542263, 'microF1': 0.964509952980263, 'weightF1': 0.9660547327136947, 'subsetAcc': 0.964509952980263, 'IoU': 0.7175585745401292}\n"
     ]
    },
    {
     "name": "stderr",
     "output_type": "stream",
     "text": [
      "epoch 112/160: 100%|██████████| 22/22 [00:22<00:00,  1.00s/it, loss=0.25]  \n"
     ]
    },
    {
     "name": "stdout",
     "output_type": "stream",
     "text": [
      "{'macroPrec': 0.8268930456439846, 'microPrec': 0.9759082505091459, 'weightPrec': 0.9767602118448856, 'macroRec': 0.8139407997405385, 'microRec': 0.9759082505091459, 'weightRec': 0.9759082505091459, 'macroF1': 0.817445664063634, 'microF1': 0.9759082505091459, 'weightF1': 0.9760760250187747, 'subsetAcc': 0.9759082505091459, 'IoU': 0.7263659410234752}\n"
     ]
    },
    {
     "name": "stderr",
     "output_type": "stream",
     "text": [
      "epoch 113/160: 100%|██████████| 22/22 [00:22<00:00,  1.01s/it, loss=0.218]\n"
     ]
    },
    {
     "name": "stdout",
     "output_type": "stream",
     "text": [
      "{'macroPrec': 0.7474326091546797, 'microPrec': 0.9464153316252311, 'weightPrec': 0.965315944766735, 'macroRec': 0.8187379406514094, 'microRec': 0.9464153316252311, 'weightRec': 0.9464153316252311, 'macroF1': 0.7586493912982187, 'microF1': 0.9464153316252311, 'weightF1': 0.9538415958574269, 'subsetAcc': 0.9464153316252311, 'IoU': 0.6607359491519932}\n"
     ]
    },
    {
     "name": "stderr",
     "output_type": "stream",
     "text": [
      "epoch 114/160: 100%|██████████| 22/22 [00:21<00:00,  1.00it/s, loss=0.376] \n"
     ]
    },
    {
     "name": "stdout",
     "output_type": "stream",
     "text": [
      "{'macroPrec': 0.8100967076558176, 'microPrec': 0.9606667229777289, 'weightPrec': 0.966221682356343, 'macroRec': 0.8361308747518282, 'microRec': 0.9606667229777289, 'weightRec': 0.9606667229777289, 'macroF1': 0.8191367143749271, 'microF1': 0.9606667229777289, 'weightF1': 0.9617407224000155, 'subsetAcc': 0.9606667229777289, 'IoU': 0.7288028367018552}\n"
     ]
    },
    {
     "name": "stderr",
     "output_type": "stream",
     "text": [
      "epoch 115/160: 100%|██████████| 22/22 [00:22<00:00,  1.00s/it, loss=0.3]   \n"
     ]
    },
    {
     "name": "stdout",
     "output_type": "stream",
     "text": [
      "{'macroPrec': 0.8143356340255038, 'microPrec': 0.9692729303338308, 'weightPrec': 0.9718739351104798, 'macroRec': 0.8118310157880547, 'microRec': 0.9692729303338308, 'weightRec': 0.9692729303338308, 'macroF1': 0.8096919394309978, 'microF1': 0.9692729303338308, 'weightF1': 0.9695155419380269, 'subsetAcc': 0.9692729303338308, 'IoU': 0.7143085221135813}\n"
     ]
    },
    {
     "name": "stderr",
     "output_type": "stream",
     "text": [
      "epoch 116/160: 100%|██████████| 22/22 [00:21<00:00,  1.00it/s, loss=0.0721]\n"
     ]
    },
    {
     "name": "stdout",
     "output_type": "stream",
     "text": [
      "{'macroPrec': 0.7388476025123093, 'microPrec': 0.9445148332723297, 'weightPrec': 0.9648449439282673, 'macroRec': 0.8181381588308626, 'microRec': 0.9445148332723297, 'weightRec': 0.9445148332723297, 'macroF1': 0.7349835738256686, 'microF1': 0.9445148332723297, 'weightF1': 0.9522122646489596, 'subsetAcc': 0.9445148332723297, 'IoU': 0.6333896229658897}\n"
     ]
    },
    {
     "name": "stderr",
     "output_type": "stream",
     "text": [
      "epoch 117/160: 100%|██████████| 22/22 [00:22<00:00,  1.00s/it, loss=0.303] \n"
     ]
    },
    {
     "name": "stdout",
     "output_type": "stream",
     "text": [
      "{'macroPrec': 0.7422885220337537, 'microPrec': 0.9606291822695235, 'weightPrec': 0.9694801136250198, 'macroRec': 0.7670984610767704, 'microRec': 0.9606291822695235, 'weightRec': 0.9606291822695235, 'macroF1': 0.7388688386378699, 'microF1': 0.9606291822695235, 'weightF1': 0.9631070175196635, 'subsetAcc': 0.9606291822695235, 'IoU': 0.6511368646473077}\n"
     ]
    },
    {
     "name": "stderr",
     "output_type": "stream",
     "text": [
      "epoch 118/160: 100%|██████████| 22/22 [00:22<00:00,  1.00s/it, loss=0.85]  \n"
     ]
    },
    {
     "name": "stdout",
     "output_type": "stream",
     "text": [
      "{'macroPrec': 0.7994850874479571, 'microPrec': 0.9608028080449738, 'weightPrec': 0.9657126699798344, 'macroRec': 0.8154986396489778, 'microRec': 0.9608028080449738, 'weightRec': 0.9608028080449738, 'macroF1': 0.8048357542555906, 'microF1': 0.9608028080449738, 'weightF1': 0.9616918506995881, 'subsetAcc': 0.9608028080449738, 'IoU': 0.7235204307129707}\n"
     ]
    },
    {
     "name": "stderr",
     "output_type": "stream",
     "text": [
      "epoch 119/160: 100%|██████████| 22/22 [00:21<00:00,  1.00it/s, loss=0.374]\n"
     ]
    },
    {
     "name": "stdout",
     "output_type": "stream",
     "text": [
      "{'macroPrec': 0.774799822379953, 'microPrec': 0.9582406547099511, 'weightPrec': 0.9729746122835718, 'macroRec': 0.8321504649674162, 'microRec': 0.9582406547099511, 'weightRec': 0.9582406547099511, 'macroF1': 0.7817345495925171, 'microF1': 0.9582406547099511, 'weightF1': 0.9637000240189896, 'subsetAcc': 0.9582406547099511, 'IoU': 0.6926382164918164}\n"
     ]
    },
    {
     "name": "stderr",
     "output_type": "stream",
     "text": [
      "epoch 120/160: 100%|██████████| 22/22 [00:22<00:00,  1.01s/it, loss=0.685] \n"
     ]
    },
    {
     "name": "stdout",
     "output_type": "stream",
     "text": [
      "{'macroPrec': 0.8475123875910306, 'microPrec': 0.9550198876603355, 'weightPrec': 0.9567442278386487, 'macroRec': 0.8597740201053725, 'microRec': 0.9550198876603355, 'weightRec': 0.9550198876603355, 'macroF1': 0.8466649063338675, 'microF1': 0.9550198876603356, 'weightF1': 0.9554546589682118, 'subsetAcc': 0.9550198876603355, 'IoU': 0.749683176868421}\n",
      "{'macroPrec': 0.767248792873249, 'microPrec': 0.9512580829837355, 'weightPrec': 0.9669855442235896, 'macroRec': 0.8174716482582142, 'microRec': 0.9512580829837355, 'weightRec': 0.9512580829837355, 'macroF1': 0.7682647806512075, 'microF1': 0.9512580829837355, 'weightF1': 0.9571227595746081, 'subsetAcc': 0.9512580829837355, 'IoU': 0.6725837826772546}\n"
     ]
    },
    {
     "name": "stderr",
     "output_type": "stream",
     "text": [
      "epoch 121/160: 100%|██████████| 22/22 [00:21<00:00,  1.00it/s, loss=0.808] \n"
     ]
    },
    {
     "name": "stdout",
     "output_type": "stream",
     "text": [
      "{'macroPrec': 0.8245624548099285, 'microPrec': 0.9605681786186896, 'weightPrec': 0.9659276647265044, 'macroRec': 0.8048809380779893, 'microRec': 0.9605681786186896, 'weightRec': 0.9605681786186896, 'macroF1': 0.809042864048768, 'microF1': 0.9605681786186896, 'weightF1': 0.9615069987431769, 'subsetAcc': 0.9605681786186896, 'IoU': 0.7091121537330989}\n"
     ]
    },
    {
     "name": "stderr",
     "output_type": "stream",
     "text": [
      "epoch 122/160: 100%|██████████| 22/22 [00:22<00:00,  1.01s/it, loss=0.465] \n"
     ]
    },
    {
     "name": "stdout",
     "output_type": "stream",
     "text": [
      "{'macroPrec': 0.7696856990186732, 'microPrec': 0.9573912961868025, 'weightPrec': 0.9725695271208781, 'macroRec': 0.7969709955497769, 'microRec': 0.9573912961868025, 'weightRec': 0.9573912961868025, 'macroF1': 0.757765528274198, 'microF1': 0.9573912961868025, 'weightF1': 0.9628053422110983, 'subsetAcc': 0.9573912961868025, 'IoU': 0.6651953065416022}\n"
     ]
    },
    {
     "name": "stderr",
     "output_type": "stream",
     "text": [
      "epoch 123/160: 100%|██████████| 22/22 [00:22<00:00,  1.00s/it, loss=0.0892]\n"
     ]
    },
    {
     "name": "stdout",
     "output_type": "stream",
     "text": [
      "{'macroPrec': 0.7499647492839835, 'microPrec': 0.9566545597882704, 'weightPrec': 0.9696569927287878, 'macroRec': 0.7927773418308409, 'microRec': 0.9566545597882704, 'weightRec': 0.9566545597882704, 'macroF1': 0.751097755389453, 'microF1': 0.9566545597882704, 'weightF1': 0.9615749102208493, 'subsetAcc': 0.9566545597882704, 'IoU': 0.6560592591873203}\n"
     ]
    },
    {
     "name": "stderr",
     "output_type": "stream",
     "text": [
      "epoch 124/160: 100%|██████████| 22/22 [00:21<00:00,  1.00it/s, loss=0.255]\n"
     ]
    },
    {
     "name": "stdout",
     "output_type": "stream",
     "text": [
      "{'macroPrec': 0.7816192863291079, 'microPrec': 0.9581186474082833, 'weightPrec': 0.9701514760604433, 'macroRec': 0.8424068380729653, 'microRec': 0.9581186474082833, 'weightRec': 0.9581186474082833, 'macroF1': 0.7932724868271811, 'microF1': 0.9581186474082833, 'weightF1': 0.9625732752775236, 'subsetAcc': 0.9581186474082833, 'IoU': 0.70449104204644}\n"
     ]
    },
    {
     "name": "stderr",
     "output_type": "stream",
     "text": [
      "epoch 125/160: 100%|██████████| 22/22 [00:22<00:00,  1.00s/it, loss=0.268] \n"
     ]
    },
    {
     "name": "stdout",
     "output_type": "stream",
     "text": [
      "{'macroPrec': 0.7647786937684526, 'microPrec': 0.957902788336102, 'weightPrec': 0.9680793606922977, 'macroRec': 0.7937178479021082, 'microRec': 0.957902788336102, 'weightRec': 0.957902788336102, 'macroF1': 0.7609019950805362, 'microF1': 0.957902788336102, 'weightF1': 0.9607211580550431, 'subsetAcc': 0.957902788336102, 'IoU': 0.6611111699236714}\n"
     ]
    },
    {
     "name": "stderr",
     "output_type": "stream",
     "text": [
      "epoch 126/160: 100%|██████████| 22/22 [00:21<00:00,  1.00it/s, loss=0.132] \n"
     ]
    },
    {
     "name": "stdout",
     "output_type": "stream",
     "text": [
      "{'macroPrec': 0.774429397552403, 'microPrec': 0.9605494082645869, 'weightPrec': 0.9722774612290852, 'macroRec': 0.774580196501245, 'microRec': 0.9605494082645869, 'weightRec': 0.9605494082645869, 'macroF1': 0.7289146046818651, 'microF1': 0.9605494082645869, 'weightF1': 0.9643923419406925, 'subsetAcc': 0.9605494082645869, 'IoU': 0.6351780080107056}\n"
     ]
    },
    {
     "name": "stderr",
     "output_type": "stream",
     "text": [
      "epoch 127/160: 100%|██████████| 22/22 [00:21<00:00,  1.00it/s, loss=0.246] \n"
     ]
    },
    {
     "name": "stdout",
     "output_type": "stream",
     "text": [
      "{'macroPrec': 0.7964308671898926, 'microPrec': 0.961051515236835, 'weightPrec': 0.9748709714149885, 'macroRec': 0.8494034288849026, 'microRec': 0.961051515236835, 'weightRec': 0.961051515236835, 'macroF1': 0.7993374275905603, 'microF1': 0.961051515236835, 'weightF1': 0.9664952363683358, 'subsetAcc': 0.961051515236835, 'IoU': 0.7152238172150062}\n"
     ]
    },
    {
     "name": "stderr",
     "output_type": "stream",
     "text": [
      "epoch 128/160: 100%|██████████| 22/22 [00:21<00:00,  1.00it/s, loss=0.0664]\n"
     ]
    },
    {
     "name": "stdout",
     "output_type": "stream",
     "text": [
      "{'macroPrec': 0.788152940728639, 'microPrec': 0.954280109994275, 'weightPrec': 0.9688842765271066, 'macroRec': 0.8406746596845828, 'microRec': 0.954280109994275, 'weightRec': 0.954280109994275, 'macroF1': 0.7916406324278262, 'microF1': 0.954280109994275, 'weightF1': 0.9599923600146729, 'subsetAcc': 0.954280109994275, 'IoU': 0.7021505323911512}\n"
     ]
    },
    {
     "name": "stderr",
     "output_type": "stream",
     "text": [
      "epoch 129/160: 100%|██████████| 22/22 [00:22<00:00,  1.00s/it, loss=0.172] \n"
     ]
    },
    {
     "name": "stdout",
     "output_type": "stream",
     "text": [
      "{'macroPrec': 0.780225319174939, 'microPrec': 0.9586019840264287, 'weightPrec': 0.9740285810984526, 'macroRec': 0.8275086512889529, 'microRec': 0.9586019840264287, 'weightRec': 0.9586019840264287, 'macroF1': 0.7808900599473553, 'microF1': 0.9586019840264287, 'weightF1': 0.9645988182981846, 'subsetAcc': 0.9586019840264287, 'IoU': 0.6931067794277641}\n"
     ]
    },
    {
     "name": "stderr",
     "output_type": "stream",
     "text": [
      "epoch 130/160: 100%|██████████| 22/22 [00:22<00:00,  1.00s/it, loss=0.344] \n"
     ]
    },
    {
     "name": "stdout",
     "output_type": "stream",
     "text": [
      "{'macroPrec': 0.8639530571716624, 'microPrec': 0.9529566011196706, 'weightPrec': 0.9541072590779154, 'macroRec': 0.8826568570249531, 'microRec': 0.9529566011196706, 'weightRec': 0.9529566011196706, 'macroF1': 0.8721184110424504, 'microF1': 0.9529566011196706, 'weightF1': 0.9531637892198678, 'subsetAcc': 0.9529566011196706, 'IoU': 0.7837168625012214}\n",
      "{'macroPrec': 0.7847127282632744, 'microPrec': 0.958686450619891, 'weightPrec': 0.9723189881238812, 'macroRec': 0.845240113197073, 'microRec': 0.958686450619891, 'weightRec': 0.958686450619891, 'macroF1': 0.7939948899495011, 'microF1': 0.958686450619891, 'weightF1': 0.963744963886939, 'subsetAcc': 0.958686450619891, 'IoU': 0.707529179606404}\n"
     ]
    },
    {
     "name": "stderr",
     "output_type": "stream",
     "text": [
      "epoch 131/160: 100%|██████████| 22/22 [00:22<00:00,  1.00s/it, loss=0.0944]\n"
     ]
    },
    {
     "name": "stdout",
     "output_type": "stream",
     "text": [
      "{'macroPrec': 0.7755208920252664, 'microPrec': 0.9573209073589173, 'weightPrec': 0.9622206583701636, 'macroRec': 0.8200109628324636, 'microRec': 0.9573209073589173, 'weightRec': 0.9573209073589173, 'macroF1': 0.788868419786568, 'microF1': 0.9573209073589174, 'weightF1': 0.9588076417101645, 'subsetAcc': 0.9573209073589173, 'IoU': 0.6895237005918597}\n"
     ]
    },
    {
     "name": "stderr",
     "output_type": "stream",
     "text": [
      "epoch 132/160: 100%|██████████| 22/22 [00:21<00:00,  1.00it/s, loss=0.288] \n"
     ]
    },
    {
     "name": "stdout",
     "output_type": "stream",
     "text": [
      "{'macroPrec': 0.7651269799672626, 'microPrec': 0.9559412863323666, 'weightPrec': 0.9704341166920081, 'macroRec': 0.8108738399670744, 'microRec': 0.9559412863323666, 'weightRec': 0.9559412863323666, 'macroF1': 0.7661180087558228, 'microF1': 0.9559412863323666, 'weightF1': 0.9613231051193138, 'subsetAcc': 0.9559412863323666, 'IoU': 0.6753989555784973}\n"
     ]
    },
    {
     "name": "stderr",
     "output_type": "stream",
     "text": [
      "epoch 133/160: 100%|██████████| 22/22 [00:22<00:00,  1.00s/it, loss=0.306]\n"
     ]
    },
    {
     "name": "stdout",
     "output_type": "stream",
     "text": [
      "{'macroPrec': 0.7945489626037858, 'microPrec': 0.9591087835872024, 'weightPrec': 0.9733307805812991, 'macroRec': 0.844229170009963, 'microRec': 0.9591087835872024, 'weightRec': 0.9591087835872024, 'macroF1': 0.7959916823957252, 'microF1': 0.9591087835872024, 'weightF1': 0.9645961551851523, 'subsetAcc': 0.9591087835872024, 'IoU': 0.7086842460223138}\n"
     ]
    },
    {
     "name": "stderr",
     "output_type": "stream",
     "text": [
      "epoch 134/160: 100%|██████████| 22/22 [00:22<00:00,  1.01s/it, loss=0.346]\n"
     ]
    },
    {
     "name": "stdout",
     "output_type": "stream",
     "text": [
      "{'macroPrec': 0.7910422381539655, 'microPrec': 0.9587380690936734, 'weightPrec': 0.9641389489706212, 'macroRec': 0.8203062434274172, 'microRec': 0.9587380690936734, 'weightRec': 0.9587380690936734, 'macroF1': 0.7931199422587943, 'microF1': 0.9587380690936734, 'weightF1': 0.9598811621542176, 'subsetAcc': 0.9587380690936734, 'IoU': 0.6912928144548005}\n"
     ]
    },
    {
     "name": "stderr",
     "output_type": "stream",
     "text": [
      "epoch 135/160: 100%|██████████| 22/22 [00:22<00:00,  1.00s/it, loss=0.127] \n"
     ]
    },
    {
     "name": "stdout",
     "output_type": "stream",
     "text": [
      "{'macroPrec': 0.8303485176996716, 'microPrec': 0.9600848420005443, 'weightPrec': 0.9657215460886839, 'macroRec': 0.8508039157598408, 'microRec': 0.9600848420005443, 'weightRec': 0.9600848420005443, 'macroF1': 0.8373975980823366, 'microF1': 0.9600848420005443, 'weightF1': 0.96116432670818, 'subsetAcc': 0.9600848420005443, 'IoU': 0.7492505639198733}\n"
     ]
    },
    {
     "name": "stderr",
     "output_type": "stream",
     "text": [
      "epoch 136/160: 100%|██████████| 22/22 [00:21<00:00,  1.00it/s, loss=0.205] \n"
     ]
    },
    {
     "name": "stdout",
     "output_type": "stream",
     "text": [
      "{'macroPrec': 0.786551926669054, 'microPrec': 0.9612298336008109, 'weightPrec': 0.9733904395117053, 'macroRec': 0.8476996720875085, 'microRec': 0.9612298336008109, 'weightRec': 0.9612298336008109, 'macroF1': 0.7972296473153887, 'microF1': 0.9612298336008109, 'weightF1': 0.965901296133464, 'subsetAcc': 0.9612298336008109, 'IoU': 0.711734967098739}\n"
     ]
    },
    {
     "name": "stderr",
     "output_type": "stream",
     "text": [
      "epoch 137/160: 100%|██████████| 22/22 [00:21<00:00,  1.00it/s, loss=0.064]\n"
     ]
    },
    {
     "name": "stdout",
     "output_type": "stream",
     "text": [
      "{'macroPrec': 0.7850468290638747, 'microPrec': 0.9622762808420381, 'weightPrec': 0.9742364343496824, 'macroRec': 0.8397476398248866, 'microRec': 0.9622762808420381, 'weightRec': 0.9622762808420381, 'macroF1': 0.7940085332058271, 'microF1': 0.9622762808420381, 'weightF1': 0.9668635943801113, 'subsetAcc': 0.9622762808420381, 'IoU': 0.7107466323261952}\n"
     ]
    },
    {
     "name": "stderr",
     "output_type": "stream",
     "text": [
      "epoch 138/160: 100%|██████████| 22/22 [00:21<00:00,  1.00it/s, loss=0.183] \n"
     ]
    },
    {
     "name": "stdout",
     "output_type": "stream",
     "text": [
      "{'macroPrec': 0.779519139173341, 'microPrec': 0.9585409803755948, 'weightPrec': 0.9730057361035116, 'macroRec': 0.8443712472096435, 'microRec': 0.9585409803755948, 'weightRec': 0.9585409803755948, 'macroF1': 0.789089352291927, 'microF1': 0.9585409803755948, 'weightF1': 0.9639512822563265, 'subsetAcc': 0.9585409803755948, 'IoU': 0.7005686909504949}\n"
     ]
    },
    {
     "name": "stderr",
     "output_type": "stream",
     "text": [
      "epoch 139/160: 100%|██████████| 22/22 [00:21<00:00,  1.01it/s, loss=0.0749]\n"
     ]
    },
    {
     "name": "stdout",
     "output_type": "stream",
     "text": [
      "{'macroPrec': 0.779925663587968, 'microPrec': 0.9570768927555818, 'weightPrec': 0.9723345450722435, 'macroRec': 0.8503010518219862, 'microRec': 0.9570768927555818, 'weightRec': 0.9570768927555818, 'macroF1': 0.7926272791891862, 'microF1': 0.9570768927555818, 'weightF1': 0.9628990925281202, 'subsetAcc': 0.9570768927555818, 'IoU': 0.7053588666439068}\n"
     ]
    },
    {
     "name": "stderr",
     "output_type": "stream",
     "text": [
      "epoch 140/160: 100%|██████████| 22/22 [00:22<00:00,  1.00s/it, loss=0.115] \n"
     ]
    },
    {
     "name": "stdout",
     "output_type": "stream",
     "text": [
      "{'macroPrec': 0.8553443710450175, 'microPrec': 0.9578889271841495, 'weightPrec': 0.9592783280297962, 'macroRec': 0.9006506201233112, 'microRec': 0.9578889271841495, 'weightRec': 0.9578889271841495, 'macroF1': 0.8738304798138785, 'microF1': 0.9578889271841495, 'weightF1': 0.9582655377338909, 'subsetAcc': 0.9578889271841495, 'IoU': 0.790968795773719}\n",
      "{'macroPrec': 0.796069307157066, 'microPrec': 0.9594560351381028, 'weightPrec': 0.9632265766410787, 'macroRec': 0.8249214258004975, 'microRec': 0.9594560351381028, 'weightRec': 0.9594560351381028, 'macroF1': 0.8066190605343618, 'microF1': 0.9594560351381028, 'weightF1': 0.9602726729174069, 'subsetAcc': 0.9594560351381028, 'IoU': 0.7091631955248918}\n"
     ]
    },
    {
     "name": "stderr",
     "output_type": "stream",
     "text": [
      "epoch 141/160: 100%|██████████| 22/22 [00:21<00:00,  1.00it/s, loss=0.25] \n"
     ]
    },
    {
     "name": "stdout",
     "output_type": "stream",
     "text": [
      "{'macroPrec': 0.7841586627627067, 'microPrec': 0.9578042439770627, 'weightPrec': 0.9731863081970453, 'macroRec': 0.8310946490993256, 'microRec': 0.9578042439770627, 'weightRec': 0.9578042439770627, 'macroF1': 0.7858025936257147, 'microF1': 0.9578042439770627, 'weightF1': 0.9634328792572348, 'subsetAcc': 0.9578042439770627, 'IoU': 0.6986675624045021}\n"
     ]
    },
    {
     "name": "stderr",
     "output_type": "stream",
     "text": [
      "epoch 142/160: 100%|██████████| 22/22 [00:22<00:00,  1.00s/it, loss=0.37] \n"
     ]
    },
    {
     "name": "stdout",
     "output_type": "stream",
     "text": [
      "{'macroPrec': 0.7329369369699613, 'microPrec': 0.955833356796276, 'weightPrec': 0.9696230867270291, 'macroRec': 0.812361873528005, 'microRec': 0.955833356796276, 'weightRec': 0.955833356796276, 'macroF1': 0.7451154092988905, 'microF1': 0.955833356796276, 'weightF1': 0.9607964113083354, 'subsetAcc': 0.955833356796276, 'IoU': 0.6390317236010625}\n"
     ]
    },
    {
     "name": "stderr",
     "output_type": "stream",
     "text": [
      "epoch 143/160: 100%|██████████| 22/22 [00:21<00:00,  1.01it/s, loss=0.174] \n"
     ]
    },
    {
     "name": "stdout",
     "output_type": "stream",
     "text": [
      "{'macroPrec': 0.7839418017861852, 'microPrec': 0.9613893816106841, 'weightPrec': 0.9729145125177967, 'macroRec': 0.8307803450136231, 'microRec': 0.9613893816106841, 'weightRec': 0.9613893816106841, 'macroF1': 0.7890280242632197, 'microF1': 0.9613893816106841, 'weightF1': 0.9657141815539215, 'subsetAcc': 0.9613893816106841, 'IoU': 0.7036315101728523}\n"
     ]
    },
    {
     "name": "stderr",
     "output_type": "stream",
     "text": [
      "epoch 144/160: 100%|██████████| 22/22 [00:22<00:00,  1.00s/it, loss=0.0599]\n"
     ]
    },
    {
     "name": "stdout",
     "output_type": "stream",
     "text": [
      "{'macroPrec': 0.7504106803661412, 'microPrec': 0.958803765333033, 'weightPrec': 0.969112905856082, 'macroRec': 0.7961291015124548, 'microRec': 0.958803765333033, 'weightRec': 0.958803765333033, 'macroF1': 0.7542971993982929, 'microF1': 0.958803765333033, 'weightF1': 0.9622353671785001, 'subsetAcc': 0.958803765333033, 'IoU': 0.6539536068147999}\n"
     ]
    },
    {
     "name": "stderr",
     "output_type": "stream",
     "text": [
      "epoch 145/160: 100%|██████████| 22/22 [00:21<00:00,  1.00it/s, loss=0.107] \n"
     ]
    },
    {
     "name": "stdout",
     "output_type": "stream",
     "text": [
      "{'macroPrec': 0.8018212961994933, 'microPrec': 0.9594466499610516, 'weightPrec': 0.9642013534339502, 'macroRec': 0.8559971990867677, 'microRec': 0.9594466499610516, 'weightRec': 0.9594466499610516, 'macroF1': 0.8239897314428615, 'microF1': 0.9594466499610516, 'weightF1': 0.9605510229661027, 'subsetAcc': 0.9594466499610516, 'IoU': 0.7340704173462193}\n"
     ]
    },
    {
     "name": "stderr",
     "output_type": "stream",
     "text": [
      "epoch 146/160: 100%|██████████| 22/22 [00:21<00:00,  1.00it/s, loss=0.49]  \n"
     ]
    },
    {
     "name": "stdout",
     "output_type": "stream",
     "text": [
      "{'macroPrec': 0.8410291472757495, 'microPrec': 0.9545335097746619, 'weightPrec': 0.9612154668914101, 'macroRec': 0.8233193876932098, 'microRec': 0.9545335097746619, 'weightRec': 0.9545335097746619, 'macroF1': 0.8156834698207152, 'microF1': 0.9545335097746619, 'weightF1': 0.9557333050967575, 'subsetAcc': 0.9545335097746619, 'IoU': 0.7131725564614263}\n"
     ]
    },
    {
     "name": "stderr",
     "output_type": "stream",
     "text": [
      "epoch 147/160: 100%|██████████| 22/22 [00:21<00:00,  1.00it/s, loss=0.197]\n"
     ]
    },
    {
     "name": "stdout",
     "output_type": "stream",
     "text": [
      "{'macroPrec': 0.7783697587834012, 'microPrec': 0.9675179022252255, 'weightPrec': 0.9738854172123793, 'macroRec': 0.8296870874116608, 'microRec': 0.9675179022252255, 'weightRec': 0.9675179022252255, 'macroF1': 0.7910365174206014, 'microF1': 0.9675179022252255, 'weightF1': 0.9699083786474386, 'subsetAcc': 0.9675179022252255, 'IoU': 0.704641166152947}\n"
     ]
    },
    {
     "name": "stderr",
     "output_type": "stream",
     "text": [
      "epoch 148/160: 100%|██████████| 22/22 [00:21<00:00,  1.00it/s, loss=0.174] \n"
     ]
    },
    {
     "name": "stdout",
     "output_type": "stream",
     "text": [
      "{'macroPrec': 0.797094001310681, 'microPrec': 0.9593058723052811, 'weightPrec': 0.9732972335035258, 'macroRec': 0.842920989578516, 'microRec': 0.9593058723052811, 'weightRec': 0.9593058723052811, 'macroF1': 0.7968548601061418, 'microF1': 0.9593058723052811, 'weightF1': 0.9645800832770866, 'subsetAcc': 0.9593058723052811, 'IoU': 0.7093032041048425}\n"
     ]
    },
    {
     "name": "stderr",
     "output_type": "stream",
     "text": [
      "epoch 149/160: 100%|██████████| 22/22 [00:21<00:00,  1.00it/s, loss=0.255]\n"
     ]
    },
    {
     "name": "stdout",
     "output_type": "stream",
     "text": [
      "{'macroPrec': 0.7992133435111776, 'microPrec': 0.9608638116958076, 'weightPrec': 0.96602698213868, 'macroRec': 0.8352799373165527, 'microRec': 0.9608638116958076, 'weightRec': 0.9608638116958076, 'macroF1': 0.8070758970561189, 'microF1': 0.9608638116958076, 'weightF1': 0.962223838921849, 'subsetAcc': 0.9608638116958076, 'IoU': 0.7106361189362995}\n"
     ]
    },
    {
     "name": "stderr",
     "output_type": "stream",
     "text": [
      "epoch 150/160: 100%|██████████| 22/22 [00:21<00:00,  1.00it/s, loss=0.0876]\n"
     ]
    },
    {
     "name": "stdout",
     "output_type": "stream",
     "text": [
      "{'macroPrec': 0.8875984782193904, 'microPrec': 0.9564008458077558, 'weightPrec': 0.9566532967118655, 'macroRec': 0.8972913989353465, 'microRec': 0.9564008458077558, 'weightRec': 0.9564008458077558, 'macroF1': 0.8917827248748577, 'microF1': 0.9564008458077558, 'weightF1': 0.95645274401779, 'subsetAcc': 0.9564008458077558, 'IoU': 0.8113202496034023}\n",
      "{'macroPrec': 0.8063430700816112, 'microPrec': 0.9670345656070802, 'weightPrec': 0.9700850404772201, 'macroRec': 0.8345723915388931, 'microRec': 0.9670345656070802, 'weightRec': 0.9670345656070802, 'macroF1': 0.8146380101819943, 'microF1': 0.9670345656070802, 'weightF1': 0.9678066795717398, 'subsetAcc': 0.9670345656070802, 'IoU': 0.7209580868774158}\n"
     ]
    },
    {
     "name": "stderr",
     "output_type": "stream",
     "text": [
      "epoch 151/160: 100%|██████████| 22/22 [00:22<00:00,  1.00s/it, loss=0.159] \n"
     ]
    },
    {
     "name": "stdout",
     "output_type": "stream",
     "text": [
      "{'macroPrec': 0.786265122800155, 'microPrec': 0.9587380690936734, 'weightPrec': 0.9665688134225294, 'macroRec': 0.8176365216789327, 'microRec': 0.9587380690936734, 'weightRec': 0.9587380690936734, 'macroF1': 0.7912107092623127, 'microF1': 0.9587380690936734, 'weightF1': 0.9605236026481918, 'subsetAcc': 0.9587380690936734, 'IoU': 0.6956382091547961}\n"
     ]
    },
    {
     "name": "stderr",
     "output_type": "stream",
     "text": [
      "epoch 152/160: 100%|██████████| 22/22 [00:21<00:00,  1.00it/s, loss=0.17]  \n"
     ]
    },
    {
     "name": "stdout",
     "output_type": "stream",
     "text": [
      "{'macroPrec': 0.7768814717031987, 'microPrec': 0.9611547521843999, 'weightPrec': 0.9740769675830345, 'macroRec': 0.836497758264257, 'microRec': 0.9611547521843999, 'weightRec': 0.9611547521843999, 'macroF1': 0.7854154860267095, 'microF1': 0.9611547521843999, 'weightF1': 0.9661478456162051, 'subsetAcc': 0.9611547521843999, 'IoU': 0.6967956523821225}\n"
     ]
    },
    {
     "name": "stderr",
     "output_type": "stream",
     "text": [
      "epoch 153/160: 100%|██████████| 22/22 [00:21<00:00,  1.01it/s, loss=0.212] \n"
     ]
    },
    {
     "name": "stdout",
     "output_type": "stream",
     "text": [
      "{'macroPrec': 0.7774360426081274, 'microPrec': 0.9620932698895365, 'weightPrec': 0.9695112045252949, 'macroRec': 0.8303602008182537, 'microRec': 0.9620932698895365, 'weightRec': 0.9620932698895365, 'macroF1': 0.7901401558124703, 'microF1': 0.9620932698895365, 'weightF1': 0.9645614373561286, 'subsetAcc': 0.9620932698895365, 'IoU': 0.6968062540595539}\n"
     ]
    },
    {
     "name": "stderr",
     "output_type": "stream",
     "text": [
      "epoch 154/160: 100%|██████████| 22/22 [00:21<00:00,  1.00it/s, loss=0.304] \n"
     ]
    },
    {
     "name": "stdout",
     "output_type": "stream",
     "text": [
      "{'macroPrec': 0.7691358461716039, 'microPrec': 0.9603476269579826, 'weightPrec': 0.9737251843138397, 'macroRec': 0.8276043435497236, 'microRec': 0.9603476269579826, 'weightRec': 0.9603476269579826, 'macroF1': 0.7766637194683544, 'microF1': 0.9603476269579826, 'weightF1': 0.9653467644663511, 'subsetAcc': 0.9603476269579826, 'IoU': 0.6855220964832417}\n"
     ]
    },
    {
     "name": "stderr",
     "output_type": "stream",
     "text": [
      "epoch 155/160: 100%|██████████| 22/22 [00:21<00:00,  1.00it/s, loss=0.355] \n"
     ]
    },
    {
     "name": "stdout",
     "output_type": "stream",
     "text": [
      "{'macroPrec': 0.8160091189458626, 'microPrec': 0.961849255286201, 'weightPrec': 0.9665315848011302, 'macroRec': 0.8459950811288448, 'microRec': 0.961849255286201, 'weightRec': 0.961849255286201, 'macroF1': 0.8278808915670052, 'microF1': 0.961849255286201, 'weightF1': 0.9627872160657146, 'subsetAcc': 0.961849255286201, 'IoU': 0.7398259991295018}\n"
     ]
    },
    {
     "name": "stderr",
     "output_type": "stream",
     "text": [
      "epoch 156/160: 100%|██████████| 22/22 [00:21<00:00,  1.00it/s, loss=0.143]\n"
     ]
    },
    {
     "name": "stdout",
     "output_type": "stream",
     "text": [
      "{'macroPrec': 0.8202563557907889, 'microPrec': 0.9611359818302972, 'weightPrec': 0.9656335411954332, 'macroRec': 0.8374125349713786, 'microRec': 0.9611359818302972, 'weightRec': 0.9611359818302972, 'macroF1': 0.8254954593330431, 'microF1': 0.9611359818302974, 'weightF1': 0.9620265523573266, 'subsetAcc': 0.9611359818302972, 'IoU': 0.7339145550856313}\n"
     ]
    },
    {
     "name": "stderr",
     "output_type": "stream",
     "text": [
      "epoch 157/160: 100%|██████████| 22/22 [00:21<00:00,  1.01it/s, loss=0.344] \n"
     ]
    },
    {
     "name": "stdout",
     "output_type": "stream",
     "text": [
      "{'macroPrec': 0.8150133798194209, 'microPrec': 0.9700847481487739, 'weightPrec': 0.9717188683415293, 'macroRec': 0.8257613503788225, 'microRec': 0.9700847481487739, 'weightRec': 0.9700847481487739, 'macroF1': 0.8172892629958902, 'microF1': 0.9700847481487739, 'weightF1': 0.9704610154132332, 'subsetAcc': 0.9700847481487739, 'IoU': 0.7256050321182882}\n"
     ]
    },
    {
     "name": "stderr",
     "output_type": "stream",
     "text": [
      "epoch 158/160: 100%|██████████| 22/22 [00:21<00:00,  1.01it/s, loss=0.103] \n"
     ]
    },
    {
     "name": "stdout",
     "output_type": "stream",
     "text": [
      "{'macroPrec': 0.7787390807401017, 'microPrec': 0.9634822760931385, 'weightPrec': 0.9749645206597927, 'macroRec': 0.8393817246707941, 'microRec': 0.9634822760931385, 'weightRec': 0.9634822760931385, 'macroF1': 0.7903571401728761, 'microF1': 0.9634822760931385, 'weightF1': 0.9680094789319618, 'subsetAcc': 0.9634822760931385, 'IoU': 0.7059558676757532}\n"
     ]
    },
    {
     "name": "stderr",
     "output_type": "stream",
     "text": [
      "epoch 159/160: 100%|██████████| 22/22 [00:21<00:00,  1.00it/s, loss=0.19]  \n"
     ]
    },
    {
     "name": "stdout",
     "output_type": "stream",
     "text": [
      "{'macroPrec': 0.7741951351428042, 'microPrec': 0.9590571651134199, 'weightPrec': 0.9732205666080511, 'macroRec': 0.8331800622106097, 'microRec': 0.9590571651134199, 'weightRec': 0.9590571651134199, 'macroF1': 0.7825546217571837, 'microF1': 0.9590571651134199, 'weightF1': 0.9644150381686963, 'subsetAcc': 0.9590571651134199, 'IoU': 0.6932280669228477}\n"
     ]
    },
    {
     "name": "stderr",
     "output_type": "stream",
     "text": [
      "epoch 160/160: 100%|██████████| 22/22 [00:22<00:00,  1.00s/it, loss=0.0858]\n"
     ]
    },
    {
     "name": "stdout",
     "output_type": "stream",
     "text": [
      "{'macroPrec': 0.8645190486917859, 'microPrec': 0.9540092032826284, 'weightPrec': 0.9544440325954648, 'macroRec': 0.8963173580246551, 'microRec': 0.9540092032826284, 'weightRec': 0.9540092032826284, 'macroF1': 0.8775310175201606, 'microF1': 0.9540092032826284, 'weightF1': 0.9541154965557018, 'subsetAcc': 0.9540092032826284, 'IoU': 0.7926797300827197}\n",
      "{'macroPrec': 0.7982900714638343, 'microPrec': 0.9731771639871987, 'weightPrec': 0.974949127343406, 'macroRec': 0.8394420265747445, 'microRec': 0.9731771639871987, 'weightRec': 0.9731771639871987, 'macroF1': 0.8138103610502234, 'microF1': 0.9731771639871987, 'weightF1': 0.9737532443861577, 'subsetAcc': 0.9731771639871987, 'IoU': 0.721373018646708}\n"
     ]
    }
   ],
   "source": [
    "metrics_history = []\n",
    "epochs = 160\n",
    "for epoch in range(1, epochs+1):\n",
    "    model.train()\n",
    "    pb = tqdm(trainLoader, desc=f\"epoch {epoch}/{epochs}: \")\n",
    "    yTrue = []\n",
    "    yPredicted = []\n",
    "\n",
    "    bg_yTrue = []\n",
    "    bg_yPredicted = []\n",
    "    for image, target in pb:\n",
    "        image, target = image.to(device), target.to(device)\n",
    "        optimizer.zero_grad()\n",
    "\n",
    "        logits = model(image)\n",
    "        \n",
    "        loss = criterion(logits, target)\n",
    "\n",
    "        loss.backward()\n",
    "        optimizer.step()\n",
    "        pb.set_postfix(loss=loss.item())\n",
    "\n",
    "        if epoch % 10 == 0:\n",
    "            with torch.no_grad():\n",
    "                logits = logits.detach()\n",
    "                logits = torch.movedim(logits, (0,1,2,3), (0,3,1,2))\n",
    "                logits = logits.reshape((-1,11))\n",
    "                target = target.reshape(-1)\n",
    "                ###################################################################################\n",
    "                mask = target != -1\n",
    "                ###################################################################################\n",
    "                \n",
    "                # bg_logits = logits[~mask]\n",
    "                # bg_target = target[~mask]\n",
    "    \n",
    "                # only considering annotated pixels\n",
    "                logits = logits[mask]\n",
    "                target = target[mask]\n",
    "    \n",
    "                probs = F.softmax(logits, dim=1).cpu().numpy()\n",
    "                target = target.cpu().numpy()\n",
    "                yPredicted += probs.argmax(1).tolist()\n",
    "                yTrue += target.tolist()\n",
    "        \n",
    "                \n",
    "                # bg_probs = torch.nn.functional.softmax(bg_logits, dim=1).cpu().numpy()\n",
    "                # bg_target = bg_target.cpu().numpy()\n",
    "                \n",
    "                # bg_yPredicted += bg_probs.argmax(1).tolist()\n",
    "                # bg_yTrue += bg_target.tolist()\n",
    "\n",
    "\n",
    "    if epoch % 10 == 0:\n",
    "        yPredicted = np.asarray(yPredicted)\n",
    "        yTrue = np.asarray(yTrue)\n",
    "        acc = Evaluation(yPredicted, yTrue)\n",
    "        print(acc)\n",
    "    \n",
    "        # bg_yPredicted = np.asarray(bg_yPredicted)\n",
    "        # bg_yTrue = np.asarray(bg_yTrue)\n",
    "        # bg_acc = Evaluation(bg_yPredicted, bg_yTrue)\n",
    "        # print(\"background:\", bg_acc)\n",
    "\n",
    "\n",
    "    model.eval()\n",
    "    yTrue = []\n",
    "    yPredicted = []\n",
    "    testLossF = []\n",
    "    \n",
    "    # bg_yTrue = []\n",
    "    # bg_yPredicted = []\n",
    "    with torch.no_grad():\n",
    "        for image, target in testLoader:\n",
    "            image, target = image.to(device), target.to(device)\n",
    "            logits = model(image)\n",
    "            loss = criterion(logits, target)\n",
    "\n",
    "            logits = torch.movedim(logits, (0,1,2,3), (0,3,1,2))\n",
    "            logits = logits.reshape((-1,11))\n",
    "            target = target.reshape(-1)\n",
    "            ###################################################################################\n",
    "            mask = target != -1\n",
    "            ###################################################################################\n",
    "            \n",
    "            # bg_logits = logits[~mask]\n",
    "            # bg_target = target[~mask]\n",
    "            \n",
    "            logits = logits[mask]\n",
    "            target = target[mask]\n",
    "            \n",
    "\n",
    "            probs = F.softmax(logits, dim=1).cpu().numpy()\n",
    "            target = target.cpu().numpy()\n",
    "            # testBatches += target.shape[0]\n",
    "            testLossF.append((loss.data*target.shape[0]).tolist())\n",
    "            yPredicted += probs.argmax(1).tolist()\n",
    "            yTrue += target.tolist()\n",
    "\n",
    "\n",
    "            # bg_probs = torch.nn.functional.softmax(bg_logits, dim=1).cpu().numpy()\n",
    "            # bg_target = bg_target.cpu().numpy()\n",
    "\n",
    "            # bg_yPredicted += bg_probs.argmax(1).tolist()\n",
    "            # bg_yTrue += bg_target.tolist()\n",
    "        \n",
    "        yPredicted = np.asarray(yPredicted)\n",
    "        yTrue = np.asarray(yTrue)\n",
    "        acc = Evaluation(yPredicted, yTrue)\n",
    "        metrics_history.append(acc)\n",
    "\n",
    "        # bg_yPredicted = np.asarray(bg_yPredicted)\n",
    "        # bg_yTrue = np.asarray(bg_yTrue)\n",
    "        # bg_acc = Evaluation(bg_yPredicted, bg_yTrue)\n",
    "        print(acc)\n",
    "        # print(\"background:\", bg_acc)\n",
    "    scheduler.step(sum(testLossF) / len(testLoader.dataset))"
   ]
  },
  {
   "cell_type": "code",
   "execution_count": 14,
   "metadata": {
    "execution": {
     "iopub.execute_input": "2025-05-12T12:32:38.608774Z",
     "iopub.status.busy": "2025-05-12T12:32:38.608366Z",
     "iopub.status.idle": "2025-05-12T12:32:41.177486Z",
     "shell.execute_reply": "2025-05-12T12:32:41.176654Z",
     "shell.execute_reply.started": "2025-05-12T12:32:38.608719Z"
    },
    "trusted": true
   },
   "outputs": [
    {
     "name": "stderr",
     "output_type": "stream",
     "text": [
      "Loading test samples: 100%|██████████| 359/359 [00:02<00:00, 140.26it/s]\n"
     ]
    }
   ],
   "source": [
    "test_dataset = MARIDA('test', transform=transformTest, standardization = standardization)\n",
    "\n",
    "test_loader = DataLoader(test_dataset,\n",
    "                        batch_size=batch_size,\n",
    "                        shuffle=False\n",
    "                        )"
   ]
  },
  {
   "cell_type": "code",
   "execution_count": 16,
   "metadata": {
    "execution": {
     "iopub.execute_input": "2025-05-12T12:34:24.227941Z",
     "iopub.status.busy": "2025-05-12T12:34:24.227493Z",
     "iopub.status.idle": "2025-05-12T12:34:24.233297Z",
     "shell.execute_reply": "2025-05-12T12:34:24.232436Z",
     "shell.execute_reply.started": "2025-05-12T12:34:24.227897Z"
    },
    "trusted": true
   },
   "outputs": [
    {
     "data": {
      "text/plain": [
       "torch.Size([11, 256, 256])"
      ]
     },
     "execution_count": 16,
     "metadata": {},
     "output_type": "execute_result"
    }
   ],
   "source": [
    "image.size()"
   ]
  },
  {
   "cell_type": "code",
   "execution_count": 17,
   "metadata": {
    "execution": {
     "iopub.execute_input": "2025-05-12T12:34:46.216171Z",
     "iopub.status.busy": "2025-05-12T12:34:46.215888Z",
     "iopub.status.idle": "2025-05-12T12:34:51.915464Z",
     "shell.execute_reply": "2025-05-12T12:34:51.914756Z",
     "shell.execute_reply.started": "2025-05-12T12:34:46.216150Z"
    },
    "trusted": true
   },
   "outputs": [
    {
     "name": "stdout",
     "output_type": "stream",
     "text": [
      "{'macroPrec': 0.8308193508991121, 'microPrec': 0.9449767272391373, 'weightPrec': 0.9499374229685424, 'macroRec': 0.8138374287642378, 'microRec': 0.9449767272391373, 'weightRec': 0.9449767272391373, 'macroF1': 0.8133310501555545, 'microF1': 0.9449767272391373, 'weightF1': 0.9456891538974435, 'subsetAcc': 0.9449767272391373, 'IoU': 0.7062209203051165}\n"
     ]
    }
   ],
   "source": [
    "model.eval()\n",
    "yTrue = []\n",
    "yPredicted = []\n",
    "testLossF = []\n",
    "\n",
    "with torch.no_grad():\n",
    "    for image, target in test_loader:\n",
    "        image, target = image.to(device), target.to(device)\n",
    "        logits = model(image)\n",
    "        loss = criterion(logits, target)\n",
    "\n",
    "        logits = torch.movedim(logits, (0,1,2,3), (0,3,1,2))\n",
    "        logits = logits.reshape((-1,11))\n",
    "        target = target.reshape(-1)\n",
    "        ###################################################################################\n",
    "        mask = target != -1\n",
    "        ###################################################################################\n",
    "        \n",
    "        logits = logits[mask]\n",
    "        target = target[mask]\n",
    "        \n",
    "\n",
    "        probs = F.softmax(logits, dim=1).cpu().numpy()\n",
    "        target = target.cpu().numpy()\n",
    "        testLossF.append((loss.data*target.shape[0]).tolist())\n",
    "        yPredicted += probs.argmax(1).tolist()\n",
    "        yTrue += target.tolist()\n",
    "    \n",
    "    yPredicted = np.asarray(yPredicted)\n",
    "    yTrue = np.asarray(yTrue)\n",
    "    acc = Evaluation(yPredicted, yTrue)\n",
    "    print(acc)"
   ]
  },
  {
   "cell_type": "code",
   "execution_count": 19,
   "metadata": {
    "execution": {
     "iopub.execute_input": "2025-05-12T12:37:49.404495Z",
     "iopub.status.busy": "2025-05-12T12:37:49.404211Z",
     "iopub.status.idle": "2025-05-12T12:37:49.427752Z",
     "shell.execute_reply": "2025-05-12T12:37:49.426931Z",
     "shell.execute_reply.started": "2025-05-12T12:37:49.404474Z"
    },
    "trusted": true
   },
   "outputs": [
    {
     "data": {
      "text/html": [
       "<div>\n",
       "<style scoped>\n",
       "    .dataframe tbody tr th:only-of-type {\n",
       "        vertical-align: middle;\n",
       "    }\n",
       "\n",
       "    .dataframe tbody tr th {\n",
       "        vertical-align: top;\n",
       "    }\n",
       "\n",
       "    .dataframe thead th {\n",
       "        text-align: right;\n",
       "    }\n",
       "</style>\n",
       "<table border=\"1\" class=\"dataframe\">\n",
       "  <thead>\n",
       "    <tr style=\"text-align: right;\">\n",
       "      <th></th>\n",
       "      <th>Metric</th>\n",
       "      <th>Value</th>\n",
       "    </tr>\n",
       "  </thead>\n",
       "  <tbody>\n",
       "    <tr>\n",
       "      <th>0</th>\n",
       "      <td>macroPrec</td>\n",
       "      <td>0.830819</td>\n",
       "    </tr>\n",
       "    <tr>\n",
       "      <th>1</th>\n",
       "      <td>microPrec</td>\n",
       "      <td>0.944977</td>\n",
       "    </tr>\n",
       "    <tr>\n",
       "      <th>2</th>\n",
       "      <td>weightPrec</td>\n",
       "      <td>0.949937</td>\n",
       "    </tr>\n",
       "    <tr>\n",
       "      <th>3</th>\n",
       "      <td>macroRec</td>\n",
       "      <td>0.813837</td>\n",
       "    </tr>\n",
       "    <tr>\n",
       "      <th>4</th>\n",
       "      <td>microRec</td>\n",
       "      <td>0.944977</td>\n",
       "    </tr>\n",
       "    <tr>\n",
       "      <th>5</th>\n",
       "      <td>weightRec</td>\n",
       "      <td>0.944977</td>\n",
       "    </tr>\n",
       "    <tr>\n",
       "      <th>6</th>\n",
       "      <td>macroF1</td>\n",
       "      <td>0.813331</td>\n",
       "    </tr>\n",
       "    <tr>\n",
       "      <th>7</th>\n",
       "      <td>microF1</td>\n",
       "      <td>0.944977</td>\n",
       "    </tr>\n",
       "    <tr>\n",
       "      <th>8</th>\n",
       "      <td>weightF1</td>\n",
       "      <td>0.945689</td>\n",
       "    </tr>\n",
       "    <tr>\n",
       "      <th>9</th>\n",
       "      <td>subsetAcc</td>\n",
       "      <td>0.944977</td>\n",
       "    </tr>\n",
       "    <tr>\n",
       "      <th>10</th>\n",
       "      <td>IoU</td>\n",
       "      <td>0.706221</td>\n",
       "    </tr>\n",
       "  </tbody>\n",
       "</table>\n",
       "</div>"
      ],
      "text/plain": [
       "        Metric     Value\n",
       "0    macroPrec  0.830819\n",
       "1    microPrec  0.944977\n",
       "2   weightPrec  0.949937\n",
       "3     macroRec  0.813837\n",
       "4     microRec  0.944977\n",
       "5    weightRec  0.944977\n",
       "6      macroF1  0.813331\n",
       "7      microF1  0.944977\n",
       "8     weightF1  0.945689\n",
       "9    subsetAcc  0.944977\n",
       "10         IoU  0.706221"
      ]
     },
     "execution_count": 19,
     "metadata": {},
     "output_type": "execute_result"
    }
   ],
   "source": [
    "pd.DataFrame(acc.items(), columns=['Metric', 'Value'])"
   ]
  }
 ],
 "metadata": {
  "kaggle": {
   "accelerator": "nvidiaTeslaT4",
   "dataSources": [],
   "dockerImageVersionId": 30919,
   "isGpuEnabled": true,
   "isInternetEnabled": true,
   "language": "python",
   "sourceType": "notebook"
  },
  "kernelspec": {
   "display_name": "Python 3",
   "language": "python",
   "name": "python3"
  },
  "language_info": {
   "codemirror_mode": {
    "name": "ipython",
    "version": 3
   },
   "file_extension": ".py",
   "mimetype": "text/x-python",
   "name": "python",
   "nbconvert_exporter": "python",
   "pygments_lexer": "ipython3",
   "version": "3.10.12"
  }
 },
 "nbformat": 4,
 "nbformat_minor": 4
}
