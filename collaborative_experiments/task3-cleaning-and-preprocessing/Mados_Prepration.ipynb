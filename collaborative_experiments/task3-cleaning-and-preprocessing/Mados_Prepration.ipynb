{
  "cells": [
    {
      "cell_type": "markdown",
      "metadata": {
        "id": "view-in-github",
        "colab_type": "text"
      },
      "source": [
        "<a href=\"https://colab.research.google.com/github/elena-andreini/TriesteItalyChapter_PlasticDebrisDetection/blob/main/task3-cleaning-and-preprocessing/Mados_Prepration.ipynb\" target=\"_parent\"><img src=\"https://colab.research.google.com/assets/colab-badge.svg\" alt=\"Open In Colab\"/></a>"
      ]
    },
    {
      "cell_type": "code",
      "execution_count": 4,
      "metadata": {
        "id": "21ymhrLe44fZ"
      },
      "outputs": [],
      "source": [
        "pip install -q rasterio folium geopandas shapely plotly kagglehub #necessary imports, some not present in colab"
      ]
    },
    {
      "cell_type": "code",
      "execution_count": 5,
      "metadata": {
        "id": "RcY-3uhfAsz7"
      },
      "outputs": [],
      "source": [
        "import os\n",
        "import numpy as np\n",
        "import pandas as pd\n",
        "import matplotlib.pyplot as plt\n",
        "import seaborn as sns\n",
        "from tqdm.notebook import tqdm\n",
        "import rasterio\n",
        "from rasterio.plot import show\n",
        "import folium\n",
        "from folium.plugins import MarkerCluster\n",
        "import geopandas as gpd\n",
        "from shapely.geometry import Point\n",
        "import glob\n",
        "import cv2\n",
        "from sklearn.preprocessing import StandardScaler\n",
        "import plotly.express as px\n",
        "import plotly.graph_objects as go\n",
        "from sklearn.decomposition import PCA\n",
        "from sklearn.manifold import TSNE\n",
        "import kagglehub\n",
        "import zipfile\n",
        "import shutil\n",
        "from datetime import datetime\n",
        "import re"
      ]
    },
    {
      "cell_type": "markdown",
      "metadata": {
        "id": "eq6YBiZ2PtV5"
      },
      "source": [
        "Driver Connection"
      ]
    },
    {
      "cell_type": "code",
      "execution_count": 6,
      "metadata": {
        "colab": {
          "base_uri": "https://localhost:8080/"
        },
        "id": "jo0nX6DBz5Sq",
        "outputId": "b0c76e6b-dc70-43f8-9e80-21b74e2843c5"
      },
      "outputs": [
        {
          "output_type": "stream",
          "name": "stdout",
          "text": [
            "Mounted at /content/drive\n"
          ]
        }
      ],
      "source": [
        "from google.colab import drive\n",
        "drive.mount('/content/drive')"
      ]
    },
    {
      "cell_type": "code",
      "execution_count": 7,
      "metadata": {
        "colab": {
          "base_uri": "https://localhost:8080/"
        },
        "id": "4usv5ANe0QNq",
        "outputId": "644caf48-f08d-4d34-e2b4-16233159ef33"
      },
      "outputs": [
        {
          "output_type": "stream",
          "name": "stdout",
          "text": [
            "MyDrive\n"
          ]
        }
      ],
      "source": [
        "!ls /content/drive"
      ]
    },
    {
      "cell_type": "code",
      "execution_count": 7,
      "metadata": {
        "id": "3LbbiQxDMB7V"
      },
      "outputs": [],
      "source": []
    },
    {
      "cell_type": "code",
      "execution_count": 7,
      "metadata": {
        "id": "lJTgKgF_MB3Y"
      },
      "outputs": [],
      "source": []
    },
    {
      "cell_type": "markdown",
      "metadata": {
        "id": "_A36ZI7LPy5h"
      },
      "source": [
        "Download Mados Data from Driver"
      ]
    },
    {
      "cell_type": "markdown",
      "metadata": {
        "id": "4zVYvBjAeP6H"
      },
      "source": [
        "###Mados Data"
      ]
    },
    {
      "cell_type": "code",
      "execution_count": 8,
      "metadata": {
        "colab": {
          "base_uri": "https://localhost:8080/"
        },
        "id": "i_pGDraE2ViR",
        "outputId": "fc892718-d09b-47ec-d6cd-0f7d475b84c7"
      },
      "outputs": [
        {
          "output_type": "stream",
          "name": "stdout",
          "text": [
            "Files extracted to: /content\n"
          ]
        }
      ],
      "source": [
        "import zipfile\n",
        "import os\n",
        "\n",
        "# Path to the ZIP file\n",
        "zip_path =\"/content/drive/MyDrive/MADOS.zip\"\n",
        "\n",
        "# Directory to extract the files\n",
        "extract_path = \"/content\"\n",
        "os.makedirs(extract_path, exist_ok=True)\n",
        "\n",
        "# Extract the ZIP file\n",
        "with zipfile.ZipFile(zip_path, 'r') as zip_ref:\n",
        "    zip_ref.extractall(extract_path)\n",
        "\n",
        "print(f\"Files extracted to: {extract_path}\")"
      ]
    },
    {
      "cell_type": "code",
      "execution_count": 9,
      "metadata": {
        "colab": {
          "base_uri": "https://localhost:8080/"
        },
        "id": "131KP6E29jDN",
        "outputId": "25e533ff-ccf7-4d05-cd80-18c229bfd5c1"
      },
      "outputs": [
        {
          "output_type": "stream",
          "name": "stdout",
          "text": [
            "Dataset downloaded to: /content\n",
            "Contents of the path: ['.config', 'drive', 'MADOS', 'sample_data']\n"
          ]
        }
      ],
      "source": [
        "print(\"Dataset downloaded to:\", extract_path)\n",
        "print(\"Contents of the path:\", os.listdir(extract_path))"
      ]
    },
    {
      "cell_type": "code",
      "execution_count": 10,
      "metadata": {
        "colab": {
          "base_uri": "https://localhost:8080/"
        },
        "id": "Tl22zRDJo_Gl",
        "outputId": "d37f975a-49bd-47be-e70e-49116a0012cd"
      },
      "outputs": [
        {
          "output_type": "stream",
          "name": "stdout",
          "text": [
            "Size of folder '/content/MADOS': 5.36 GB\n"
          ]
        }
      ],
      "source": [
        "import os\n",
        "\n",
        "def get_folder_size_gb(folder_path):\n",
        "    total_size = 0\n",
        "    for dirpath, dirnames, filenames in os.walk(folder_path):\n",
        "        for filename in filenames:\n",
        "            file_path = os.path.join(dirpath, filename)\n",
        "            total_size += os.path.getsize(file_path)\n",
        "\n",
        "    # Convert bytes to gigabytes (1 GB = 1024 * 1024 * 1024 bytes)\n",
        "    size_gb = total_size / (1024 ** 3)\n",
        "    return size_gb\n",
        "\n",
        "# Example usage:\n",
        "folder_path = '/content/MADOS'\n",
        "size_gb = get_folder_size_gb(folder_path)\n",
        "print(f\"Size of folder '{folder_path}': {size_gb:.2f} GB\")"
      ]
    },
    {
      "cell_type": "code",
      "execution_count": 11,
      "metadata": {
        "colab": {
          "base_uri": "https://localhost:8080/"
        },
        "id": "-UV8_Utoezan",
        "outputId": "cec6b2ce-9c2f-43de-88c9-43ab2cb672b4"
      },
      "outputs": [
        {
          "output_type": "stream",
          "name": "stdout",
          "text": [
            "Contents of MADOS directory: ['val_X.txt', 'test_X.txt', 'train_X.txt']\n"
          ]
        }
      ],
      "source": [
        "mados_path = \"/content/MADOS/splits\"\n",
        "print(\"Contents of MADOS directory:\", os.listdir(mados_path))\n",
        "\n"
      ]
    },
    {
      "cell_type": "code",
      "execution_count": 12,
      "metadata": {
        "colab": {
          "base_uri": "https://localhost:8080/"
        },
        "id": "TlAnrxmb5O4X",
        "outputId": "90461bba-fd17-4f63-c56d-c6906711b5be"
      },
      "outputs": [
        {
          "output_type": "stream",
          "name": "stdout",
          "text": [
            "Contents of the extracted directory:\n",
            "['Scene_2', 'Scene_162', 'Scene_7', 'Scene_8', 'Scene_64', 'Scene_154', 'Scene_40', 'Scene_170', 'Scene_164', 'Scene_9', 'Scene_114', 'Scene_52', 'Scene_11', 'Scene_96', 'Scene_74', 'Scene_129', 'Scene_68', 'Scene_148', 'Scene_152', 'Scene_4', 'Scene_34', 'Scene_169', 'Scene_102', 'Scene_108', 'Scene_141', 'Scene_75', 'Scene_31', 'Scene_71', 'Scene_49', 'Scene_19', 'Scene_113', 'Scene_90', 'Scene_58', 'Scene_43', 'Scene_147', 'Scene_100', 'Scene_99', 'Scene_107', 'Scene_48', 'Scene_24', 'Scene_105', 'Scene_28', 'Scene_171', 'Scene_72', 'splits', 'Scene_81', 'Scene_138', 'Scene_56', 'Scene_146', 'Scene_130', 'Scene_115', 'Scene_172', 'Scene_155', 'Scene_16', 'Scene_32', 'Scene_153', 'Scene_39', 'Scene_22', 'Scene_118', 'Scene_10', 'Scene_33', 'Scene_14', 'Scene_149', 'Scene_167', 'Scene_124', 'Scene_161', 'Scene_67', 'Scene_59', 'Scene_0', 'Scene_77', 'Scene_132', 'Scene_112', 'Scene_61', 'Scene_54', 'Scene_136', 'Scene_13', 'Scene_116', 'Scene_3', 'Scene_65', 'Scene_103', 'Scene_101', 'Scene_17', 'Scene_66', 'Scene_29', 'Scene_50', 'Scene_25', 'Scene_41', 'Scene_134', 'Scene_98', 'Scene_163', 'Scene_20', 'Scene_23', 'Scene_46', 'Scene_95', 'Scene_88', 'Scene_27', 'Scene_109', 'Scene_159', 'Scene_144', 'Scene_168', 'Scene_117', 'Scene_97', 'Scene_131', 'Scene_135', 'Scene_78', 'Scene_6', 'Scene_120', 'Scene_111', 'Scene_76', 'Scene_160', 'Scene_12', 'Scene_119', 'Scene_173', 'Scene_62', 'Scene_63', 'Scene_57', 'Scene_53', 'Scene_158', 'Scene_151', 'Scene_5', 'Scene_18', 'Scene_84', 'Scene_166', 'Scene_82', 'Scene_133', 'Scene_142', 'Scene_85', 'Scene_83', 'Scene_91', 'Scene_38', 'Scene_36', 'Scene_69', 'Scene_51', 'Scene_143', 'Scene_80', 'Scene_106', 'Scene_140', 'Scene_93', 'Scene_145', 'Scene_15', 'Scene_126', 'Scene_121', 'Scene_70', 'Scene_104', 'Scene_122', 'Scene_125', 'Scene_165', 'Scene_137', 'Scene_86', 'Scene_21', 'Scene_37', 'Scene_1', 'Scene_35', 'Scene_150', 'Scene_92', 'Scene_139', 'Scene_55', 'Scene_47', 'Scene_123', 'Scene_42', 'Scene_73', 'Scene_128', 'Scene_94', 'Scene_44', 'Scene_127', 'Scene_79', 'Scene_110', 'Scene_60', 'Scene_30', 'Scene_87', 'Scene_45', 'Scene_156', 'Scene_89', 'Scene_26', 'Scene_157']\n"
          ]
        }
      ],
      "source": [
        "import os\n",
        "\n",
        "extract_path = \"/content/MADOS\"  # Replace with the actual path\n",
        "print(\"Contents of the extracted directory:\")\n",
        "print(os.listdir(extract_path))"
      ]
    },
    {
      "cell_type": "code",
      "execution_count": 13,
      "metadata": {
        "id": "ON3MjWBfitB6"
      },
      "outputs": [],
      "source": [
        "# Set up the environment\n",
        "import warnings\n",
        "warnings.filterwarnings('ignore')"
      ]
    },
    {
      "cell_type": "markdown",
      "metadata": {
        "id": "sbOGGZiadeS-"
      },
      "source": [
        "Delete DataBase"
      ]
    },
    {
      "cell_type": "code",
      "execution_count": 61,
      "metadata": {
        "colab": {
          "base_uri": "https://localhost:8080/"
        },
        "id": "2ixgVSZ9igrl",
        "outputId": "e0b05561-245c-416e-a2c5-c1fa24c9a739"
      },
      "outputs": [
        {
          "output_type": "stream",
          "name": "stdout",
          "text": [
            "MADOS dataset deleted successfully.\n"
          ]
        }
      ],
      "source": [
        "#import shutil\n",
        "\n",
        "dataset_path = \"/content/merged_marida_mados \" # Adjust if needed\n",
        "\n",
        "if os.path.exists(\"/content/merged_marida_mados\"):\n",
        "    shutil.rmtree(\"/content/merged_marida_mados\")\n",
        "\n",
        "    print(\"MADOS dataset deleted successfully.\")\n",
        "else:\n",
        "    print(\"Dataset not found, nothing to delete.\")\n"
      ]
    },
    {
      "cell_type": "markdown",
      "metadata": {
        "id": "NPkZoRKsS2rO"
      },
      "source": [
        "Download Marida Database"
      ]
    },
    {
      "cell_type": "code",
      "execution_count": 15,
      "metadata": {
        "colab": {
          "base_uri": "https://localhost:8080/"
        },
        "id": "-0CY-v3xgZLL",
        "outputId": "e8cbeada-ddea-44e6-c5f6-e178e9cf6da1"
      },
      "outputs": [
        {
          "output_type": "stream",
          "name": "stdout",
          "text": [
            "Files extracted to: /content/marida_data\n"
          ]
        }
      ],
      "source": [
        "import zipfile\n",
        "import os\n",
        "\n",
        "# Path to the ZIP file\n",
        "zip_path1 =\"/content/drive/MyDrive/MARIDA.zip\"\n",
        "\n",
        "# Directory to extract the files\n",
        "extract_path1 = \"/content/marida_data\"\n",
        "os.makedirs(extract_path, exist_ok=True)\n",
        "\n",
        "# Extract the ZIP file\n",
        "with zipfile.ZipFile(zip_path1, 'r') as zip_ref:\n",
        "    zip_ref.extractall(extract_path1)\n",
        "\n",
        "print(f\"Files extracted to: {extract_path1}\")"
      ]
    },
    {
      "cell_type": "code",
      "execution_count": 16,
      "metadata": {
        "colab": {
          "base_uri": "https://localhost:8080/"
        },
        "id": "XRAP_qvEdChQ",
        "outputId": "5d2dcdab-53c1-42a8-9e6c-20c08aad126d"
      },
      "outputs": [
        {
          "output_type": "stream",
          "name": "stdout",
          "text": [
            "Dataset downloaded to: /content/marida_data\n",
            "Contents of the path: ['labels_mapping.txt', 'splits', 'patches', 'shapefiles']\n"
          ]
        }
      ],
      "source": [
        "print(\"Dataset downloaded to:\", extract_path1)\n",
        "print(\"Contents of the path:\", os.listdir(extract_path1))\n"
      ]
    },
    {
      "cell_type": "markdown",
      "metadata": {
        "id": "4d1lnWJzuyot"
      },
      "source": [
        "To Visualize images and content"
      ]
    },
    {
      "cell_type": "code",
      "execution_count": 17,
      "metadata": {
        "colab": {
          "base_uri": "https://localhost:8080/",
          "height": 545
        },
        "id": "oxulk71y3D98",
        "outputId": "ac1fb845-1b8e-4e1f-b572-f77462651896"
      },
      "outputs": [
        {
          "output_type": "stream",
          "name": "stdout",
          "text": [
            "Metadata: {'driver': 'GTiff', 'dtype': 'float32', 'nodata': None, 'width': 240, 'height': 240, 'count': 1, 'crs': CRS.from_wkt('GEOGCS[\"WGS 84\",DATUM[\"WGS_1984\",SPHEROID[\"WGS 84\",6378137,298.257223563,AUTHORITY[\"EPSG\",\"7030\"]],AUTHORITY[\"EPSG\",\"6326\"]],PRIMEM[\"Greenwich\",0,AUTHORITY[\"EPSG\",\"8901\"]],UNIT[\"degree\",0.0174532925199433,AUTHORITY[\"EPSG\",\"9122\"]],AXIS[\"Latitude\",NORTH],AXIS[\"Longitude\",EAST],AUTHORITY[\"EPSG\",\"4326\"]]'), 'transform': Affine(1.0, 0.0, 0.0,\n",
            "       0.0, 1.0, 0.0)}\n",
            "Unique values: [0.16726452 0.1886762  0.25073877 ... 2.3032045  2.3139286  2.358803  ]\n",
            "Min/Max: 0.16726452 2.358803\n"
          ]
        },
        {
          "output_type": "display_data",
          "data": {
            "text/plain": [
              "<Figure size 640x480 with 2 Axes>"
            ],
            "image/png": "[encoded data removed]"
          },
          "metadata": {}
        }
      ],
      "source": [
        "import rasterio\n",
        "import numpy as np\n",
        "import matplotlib.pyplot as plt\n",
        "\n",
        "# Open the file\n",
        "file_path = \"/content/MADOS/Scene_104/10/Scene_104_L2W_TUR_Nechad2016_665_9.tif\"\n",
        "with rasterio.open(file_path) as src:\n",
        "    conf_data = src.read(1)  # Read the first band\n",
        "    print(\"Metadata:\", src.meta)  # Check dtype, shape, etc.\n",
        "    print(\"Unique values:\", np.unique(conf_data))\n",
        "    print(\"Min/Max:\", np.min(conf_data), np.max(conf_data))\n",
        "\n",
        "    # Visualize\n",
        "    plt.imshow(conf_data, cmap='gray', vmin=0, vmax=1)\n",
        "    plt.colorbar(label='Confidence (0=low, 1=high)')\n",
        "    plt.title(\"Confidence Mask\")\n",
        "    plt.show()"
      ]
    },
    {
      "cell_type": "code",
      "execution_count": 18,
      "metadata": {
        "colab": {
          "base_uri": "https://localhost:8080/"
        },
        "id": "w5TDT21YU0fk",
        "outputId": "66501c6a-edf8-421d-9ab7-75bbf7b3aeb8"
      },
      "outputs": [
        {
          "output_type": "stream",
          "name": "stdout",
          "text": [
            "Number of bands: 1\n"
          ]
        }
      ],
      "source": [
        "import rasterio\n",
        "\n",
        "with rasterio.open('/content/MADOS/Scene_0/10/Scene_0_L2R_cl_9.tif') as src:\n",
        "        num_bands = src.count\n",
        "        print(\"Number of bands:\", num_bands)"
      ]
    },
    {
      "cell_type": "code",
      "execution_count": 19,
      "metadata": {
        "colab": {
          "base_uri": "https://localhost:8080/"
        },
        "id": "7yZD0TFE5r4e",
        "outputId": "62014033-393d-47aa-838b-c4828b3d4d51"
      },
      "outputs": [
        {
          "output_type": "stream",
          "name": "stdout",
          "text": [
            "Label metadata: {'driver': 'GTiff', 'dtype': 'uint8', 'nodata': None, 'width': 240, 'height': 240, 'count': 1, 'crs': CRS.from_wkt('GEOGCS[\"WGS 84\",DATUM[\"WGS_1984\",SPHEROID[\"WGS 84\",6378137,298.257223563,AUTHORITY[\"EPSG\",\"7030\"]],AUTHORITY[\"EPSG\",\"6326\"]],PRIMEM[\"Greenwich\",0,AUTHORITY[\"EPSG\",\"8901\"]],UNIT[\"degree\",0.0174532925199433,AUTHORITY[\"EPSG\",\"9122\"]],AXIS[\"Latitude\",NORTH],AXIS[\"Longitude\",EAST],AUTHORITY[\"EPSG\",\"4326\"]]'), 'transform': Affine(1.0, 0.0, 0.0,\n",
            "       0.0, 1.0, 0.0)}\n",
            "Unique label values: [0 6]\n"
          ]
        }
      ],
      "source": [
        "import rasterio\n",
        "import numpy as np\n",
        "from matplotlib import pyplot as plt\n",
        "\n",
        "# Open the classification label file\n",
        "cl_file = \"/content/MADOS/Scene_0/10/Scene_0_L2R_cl_1.tif\"\n",
        "with rasterio.open(cl_file) as src:\n",
        "    cl_data = src.read(1)\n",
        "    print(\"Label metadata:\", src.meta)\n",
        "    print(\"Unique label values:\", np.unique(cl_data))"
      ]
    },
    {
      "cell_type": "code",
      "execution_count": 20,
      "metadata": {
        "colab": {
          "base_uri": "https://localhost:8080/",
          "height": 545
        },
        "id": "RDG_tydp51M_",
        "outputId": "3297505e-73d7-461d-95ce-da2e3f592871"
      },
      "outputs": [
        {
          "output_type": "display_data",
          "data": {
            "text/plain": [
              "<Figure size 800x600 with 2 Axes>"
            ],
            "image/png": "[encoded data removed]"
          },
          "metadata": {}
        }
      ],
      "source": [
        "# Create a color map for visualization (adjust colors to match your classes)\n",
        "from matplotlib.colors import ListedColormap\n",
        "class_colors = ['black', 'green', 'blue', 'red', 'yellow', 'purple']  # Example for 6 classes\n",
        "cmap = ListedColormap(class_colors)\n",
        "\n",
        "plt.figure(figsize=(8, 6))\n",
        "plt.imshow(cl_data, cmap=cmap, interpolation='none')\n",
        "plt.colorbar(ticks=np.unique(cl_data), label='Class Labels')\n",
        "plt.title(\"Classification Label Mask (_cl.tif)\")\n",
        "plt.show()"
      ]
    },
    {
      "cell_type": "code",
      "execution_count": 21,
      "metadata": {
        "colab": {
          "base_uri": "https://localhost:8080/"
        },
        "id": "vbQNLE7N2PYz",
        "outputId": "9d8f1347-cf18-480d-d171-72d2ed93784b"
      },
      "outputs": [
        {
          "output_type": "stream",
          "name": "stdout",
          "text": [
            "0\n"
          ]
        }
      ],
      "source": [
        "import rasterio\n",
        "conf_data = rasterio.open(\"/content/MADOS/Scene_0/10/Scene_0_L2R_cl_1.tif\").read(1)  # Reads the first band\n",
        "print(conf_data[10, 20])  # Prints confidence at pixel (10, 20), e.g., `0.7`"
      ]
    },
    {
      "cell_type": "code",
      "execution_count": 22,
      "metadata": {
        "colab": {
          "base_uri": "https://localhost:8080/"
        },
        "id": "OR68ksAfWudD",
        "outputId": "22f2348e-47ff-4240-9cf3-44bb99d22c32"
      },
      "outputs": [
        {
          "output_type": "stream",
          "name": "stderr",
          "text": [
            "Processing Scenes: 100%|██████████| 174/174 [00:18<00:00,  9.32it/s]"
          ]
        },
        {
          "output_type": "stream",
          "name": "stdout",
          "text": [
            "\n",
            "Extraction complete!\n",
            "Files organized in:\n",
            "/content/extracted_data_Mados/\n",
            "├── images/  (All *_rgb_*.png and *_rgb_*.tif files)\n",
            "├── conf/    (All *_conf_*.tif files)\n",
            "└── cl/      (All *_cl_*.tif files)\n"
          ]
        },
        {
          "output_type": "stream",
          "name": "stderr",
          "text": [
            "\n"
          ]
        }
      ],
      "source": [
        "import os\n",
        "from pathlib import Path\n",
        "import shutil\n",
        "from tqdm import tqdm\n",
        "\n",
        "# Base directory\n",
        "base_dir = Path(\"/content/MADOS\")\n",
        "output_dir = Path(\"/content/extracted_data_Mados\")\n",
        "\n",
        "# Create main output subfolders\n",
        "(output_dir / \"images\").mkdir(parents=True, exist_ok=True)\n",
        "(output_dir / \"conf\").mkdir(parents=True, exist_ok=True)\n",
        "(output_dir / \"cl\").mkdir(parents=True, exist_ok=True)\n",
        "\n",
        "def process_scene(scene_path):\n",
        "    \"\"\"Copy files to organized subfolders without renaming\"\"\"\n",
        "    for file_path in scene_path.glob(\"*\"):\n",
        "        # Handle both .png and .tif RGB files\n",
        "        if \"_rgb_\" in file_path.name.lower() and file_path.suffix.lower() in ('.png', '.tif'):\n",
        "            shutil.copy2(file_path, output_dir / \"images\" / file_path.name)\n",
        "        elif \"_conf_\" in file_path.name.lower() and file_path.suffix.lower() == '.tif':\n",
        "            shutil.copy2(file_path, output_dir / \"conf\" / file_path.name)\n",
        "        elif \"_cl_\" in file_path.name.lower() and file_path.suffix.lower() == '.tif':\n",
        "            shutil.copy2(file_path, output_dir / \"cl\" / file_path.name)\n",
        "\n",
        "# Process all scenes from 0 to 173\n",
        "for scene_num in tqdm(range(174), desc=\"Processing Scenes\"):\n",
        "    scene_path = base_dir / f\"Scene_{scene_num}\"\n",
        "\n",
        "    if scene_path.exists():\n",
        "        # Process each subdirectory (10, 20, etc.) within the scene\n",
        "        for subdir in scene_path.glob(\"*/\"):\n",
        "            if subdir.is_dir():\n",
        "                process_scene(subdir)\n",
        "    else:\n",
        "        print(f\"Scene {scene_num} not found, skipping...\")\n",
        "\n",
        "print(\"\\nExtraction complete!\")\n",
        "print(f\"Files organized in:\\n{output_dir}/\")\n",
        "print(\"├── images/  (All *_rgb_*.png and *_rgb_*.tif files)\")\n",
        "print(\"├── conf/    (All *_conf_*.tif files)\")\n",
        "print(\"└── cl/      (All *_cl_*.tif files)\")"
      ]
    },
    {
      "cell_type": "markdown",
      "metadata": {
        "id": "LO8C3sH64Wqc"
      },
      "source": []
    },
    {
      "cell_type": "code",
      "execution_count": 23,
      "metadata": {
        "colab": {
          "base_uri": "https://localhost:8080/"
        },
        "id": "jzsEzyEzIYBh",
        "outputId": "5bf82cda-4b99-44df-d186-f6000c7b6c9a"
      },
      "outputs": [
        {
          "output_type": "stream",
          "name": "stdout",
          "text": [
            "Found 63 patch subfolders\n"
          ]
        },
        {
          "output_type": "stream",
          "name": "stderr",
          "text": [
            "Processing patches: 100%|██████████| 63/63 [00:45<00:00,  1.38it/s]"
          ]
        },
        {
          "output_type": "stream",
          "name": "stdout",
          "text": [
            "\n",
            "Final Classification:\n",
            "Images:      1381 files\n",
            "Confidence:  1381 files\n",
            "CL maps:     1381 files\n",
            "\n",
            "Sample images files:\n",
            " - S2_18-9-20_16PDC_10.tif\n",
            " - S2_9-10-17_16PEC_4.tif\n",
            " - S2_12-1-19_16PEC_52.tif\n",
            "\n",
            "Sample conf files:\n",
            " - S2_8-3-18_16PEC_0_conf.tif\n",
            " - S2_15-11-20_16PCC_6_conf.tif\n",
            " - S2_19-9-18_16PDC_16_conf.tif\n",
            "\n",
            "Sample cl files:\n",
            " - S2_9-10-17_16PEC_19_cl.tif\n",
            " - S2_16-2-18_16PEC_0_cl.tif\n",
            " - S2_24-10-18_16PDC_21_cl.tif\n"
          ]
        },
        {
          "output_type": "stream",
          "name": "stderr",
          "text": [
            "\n"
          ]
        }
      ],
      "source": [
        "import os\n",
        "from pathlib import Path\n",
        "import shutil\n",
        "from tqdm import tqdm\n",
        "\n",
        "# Base directories\n",
        "base_dir = Path(\"/content/marida_data\")\n",
        "patches_dir = base_dir / \"patches\"  # Note: Changed from 'patches' to 'patches'\n",
        "output_dir = Path(\"/content/extracted_data_Marida\")\n",
        "\n",
        "# Create output folders\n",
        "(output_dir / \"images\").mkdir(parents=True, exist_ok=True)\n",
        "(output_dir / \"conf\").mkdir(parents=True, exist_ok=True)\n",
        "(output_dir / \"cl\").mkdir(parents=True, exist_ok=True)\n",
        "\n",
        "def classify_and_copy(file_path):\n",
        "    \"\"\"Strict classification and copying of files\"\"\"\n",
        "    filename = file_path.name.lower()\n",
        "\n",
        "    # Confidence maps (must contain '_conf')\n",
        "    if '_conf' in filename:\n",
        "        dest = output_dir / \"conf\"\n",
        "        shutil.copy2(file_path, dest / file_path.name)\n",
        "        return \"conf\"\n",
        "\n",
        "    # CL maps (must contain '_cl')\n",
        "    elif '_cl' in filename:\n",
        "        dest = output_dir / \"cl\"\n",
        "        shutil.copy2(file_path, dest / file_path.name)\n",
        "        return \"cl\"\n",
        "\n",
        "    # All other files go to images\n",
        "    else:\n",
        "        dest = output_dir / \"images\"\n",
        "        shutil.copy2(file_path, dest / file_path.name)\n",
        "        return \"image\"\n",
        "\n",
        "# Process each patch subfolder\n",
        "patch_subfolders = [d for d in patches_dir.iterdir() if d.is_dir()]\n",
        "print(f\"Found {len(patch_subfolders)} patch subfolders\")\n",
        "\n",
        "classification_counts = {\"image\": 0, \"conf\": 0, \"cl\": 0}\n",
        "\n",
        "for patch_folder in tqdm(patch_subfolders, desc=\"Processing patches\"):\n",
        "    for file_path in patch_folder.glob(\"*\"):\n",
        "        if file_path.is_file():\n",
        "            result = classify_and_copy(file_path)\n",
        "            classification_counts[result] += 1\n",
        "\n",
        "# Verification\n",
        "print(\"\\nFinal Classification:\")\n",
        "print(f\"Images:      {classification_counts['image']} files\")\n",
        "print(f\"Confidence:  {classification_counts['conf']} files\")\n",
        "print(f\"CL maps:     {classification_counts['cl']} files\")\n",
        "\n",
        "# Show 3 samples from each folder\n",
        "def show_samples(folder, count=3):\n",
        "    files = list((output_dir / folder).glob(\"*\"))\n",
        "    print(f\"\\nSample {folder} files:\")\n",
        "    for f in files[:count]:\n",
        "        print(f\" - {f.name}\")\n",
        "\n",
        "show_samples(\"images\")\n",
        "show_samples(\"conf\")\n",
        "show_samples(\"cl\")"
      ]
    },
    {
      "cell_type": "markdown",
      "metadata": {
        "id": "Oy8mgPZRK2ZS"
      },
      "source": [
        "Now we will explora how many images contain debris in marida and mados ."
      ]
    },
    {
      "cell_type": "markdown",
      "metadata": {
        "id": "l8NhiS9nTOkP"
      },
      "source": [
        "Mados"
      ]
    },
    {
      "cell_type": "code",
      "execution_count": 24,
      "metadata": {
        "colab": {
          "base_uri": "https://localhost:8080/"
        },
        "id": "V2_SESja9u39",
        "outputId": "17f9c13c-10d4-47f4-fd1c-54bb65f20578"
      },
      "outputs": [
        {
          "output_type": "stream",
          "name": "stdout",
          "text": [
            "\n",
            "Total images with marine debris detected: 472\n"
          ]
        }
      ],
      "source": [
        "import rasterio\n",
        "import numpy as np\n",
        "import os\n",
        "\n",
        "# Define path to the directory containing the files\n",
        "input_dir = \"/content/extracted_data_Mados/cl\"\n",
        "\n",
        "# Define the class number for marine debris (assuming class 1 represents marine debris)\n",
        "marine_debris_class = 1\n",
        "\n",
        "# Initialize counter for images with marine debris\n",
        "images_with_debris = 0\n",
        "\n",
        "# Function to read and process a single file\n",
        "def process_scene(file_path):\n",
        "    global images_with_debris\n",
        "\n",
        "    with rasterio.open(file_path) as src:\n",
        "        image = src.read(1)  # Read the first band (assuming it's the class layer)\n",
        "\n",
        "        # Count the number of marine debris pixels (class number 1)\n",
        "        marine_debris_pixels = np.sum(image == marine_debris_class)\n",
        "\n",
        "        # Only print and count if marine debris is detected\n",
        "        if marine_debris_pixels > 0:\n",
        "            images_with_debris += 1\n",
        "           # print(f\"{os.path.basename(file_path)}: {marine_debris_pixels} marine debris pixels\")\n",
        "\n",
        "# Process all files in the directory\n",
        "for file_name in os.listdir(input_dir):\n",
        "    if file_name.endswith('.tif'):\n",
        "        file_path = os.path.join(input_dir, file_name)\n",
        "        process_scene(file_path)\n",
        "\n",
        "# Print total count of images with debris\n",
        "print(f\"\\nTotal images with marine debris detected: {images_with_debris}\")\n"
      ]
    },
    {
      "cell_type": "markdown",
      "metadata": {
        "id": "BhntJNEnpLwN"
      },
      "source": [
        "Input: /content/MADOS\n",
        "\n",
        "Scene_0/10\n",
        "\n",
        "Scene_0/20\n",
        "\n",
        "Scene_0/60\n",
        "\n",
        "... up to Scene_173\n",
        "\n",
        "Output:\n",
        "\n",
        "/content/mados_resized_bilinear/ → All crops resized to 256×256 using bilinear interpolation\n",
        "\n",
        "/content/mados_resized_padding/ → All crops resized to 256×256 using zero padding\n",
        "\n",
        "/content/mados_stacked_bilinear/ → 11 bands stacked after bilinear resized\n",
        "\n",
        "/content/mados_stacked_padding/ → 11 bands stacked after zero padded"
      ]
    },
    {
      "cell_type": "markdown",
      "metadata": {
        "id": "sIddH-bXTVDj"
      },
      "source": [
        "Marida"
      ]
    },
    {
      "cell_type": "code",
      "execution_count": 25,
      "metadata": {
        "id": "j3Yk3jPVLL-h",
        "colab": {
          "base_uri": "https://localhost:8080/"
        },
        "outputId": "332d69ef-49a6-482e-aae0-f225d16a3d96"
      },
      "outputs": [
        {
          "output_type": "stream",
          "name": "stdout",
          "text": [
            "\n",
            "Total images with marine debris detected: 373\n"
          ]
        }
      ],
      "source": [
        "import rasterio\n",
        "import numpy as np\n",
        "import os\n",
        "\n",
        "# Define path to the directory containing the files\n",
        "input_dir = \"/content/extracted_data_Marida/cl\"\n",
        "\n",
        "# Define the class number for marine debris (assuming class 1 represents marine debris)\n",
        "marine_debris_class = 1\n",
        "\n",
        "# Initialize counter for images with marine debris\n",
        "images_with_debris = 0\n",
        "\n",
        "# Function to read and process a single file\n",
        "def process_scene(file_path):\n",
        "    global images_with_debris\n",
        "\n",
        "    with rasterio.open(file_path) as src:\n",
        "        image = src.read(1)  # Read the first band (assuming it's the class layer)\n",
        "\n",
        "        # Count the number of marine debris pixels (class number 1)\n",
        "        marine_debris_pixels = np.sum(image == marine_debris_class)\n",
        "\n",
        "        # Only print and count if marine debris is detected\n",
        "        if marine_debris_pixels > 0:\n",
        "            images_with_debris += 1\n",
        "           # print(f\"{os.path.basename(file_path)}: {marine_debris_pixels} marine debris pixels\")\n",
        "\n",
        "# Process all files in the directory\n",
        "for file_name in os.listdir(input_dir):\n",
        "    if file_name.endswith('.tif'):\n",
        "        file_path = os.path.join(input_dir, file_name)\n",
        "        process_scene(file_path)\n",
        "\n",
        "# Print total count of images with debris\n",
        "print(f\"\\nTotal images with marine debris detected: {images_with_debris}\")"
      ]
    },
    {
      "cell_type": "markdown",
      "source": [
        "\n"
      ],
      "metadata": {
        "id": "k0x94TlscX65"
      }
    },
    {
      "cell_type": "code",
      "source": [
        "# Install needed libraries if not installed\n",
        "!pip install mlflow albumentations rasterio opencv-python\n",
        "\n",
        "import os\n",
        "import glob\n",
        "import numpy as np\n",
        "import cv2\n",
        "import rasterio\n",
        "import mlflow\n",
        "from rasterio.enums import Resampling"
      ],
      "metadata": {
        "colab": {
          "base_uri": "https://localhost:8080/"
        },
        "id": "PrtoemtJcgB6",
        "outputId": "f0a5cd0e-ecc4-4352-fa07-51cd086065dd"
      },
      "execution_count": 27,
      "outputs": [
        {
          "output_type": "stream",
          "name": "stdout",
          "text": [
            "Collecting mlflow\n",
            "  Downloading mlflow-2.21.3-py3-none-any.whl.metadata (30 kB)\n",
            "Requirement already satisfied: albumentations in /usr/local/lib/python3.11/dist-packages (2.0.5)\n",
            "Requirement already satisfied: rasterio in /usr/local/lib/python3.11/dist-packages (1.4.3)\n",
            "Requirement already satisfied: opencv-python in /usr/local/lib/python3.11/dist-packages (4.11.0.86)\n",
            "Collecting mlflow-skinny==2.21.3 (from mlflow)\n",
            "  Downloading mlflow_skinny-2.21.3-py3-none-any.whl.metadata (31 kB)\n",
            "Requirement already satisfied: Flask<4 in /usr/local/lib/python3.11/dist-packages (from mlflow) (3.1.0)\n",
            "Requirement already satisfied: Jinja2<4,>=2.11 in /usr/local/lib/python3.11/dist-packages (from mlflow) (3.1.6)\n",
            "Collecting alembic!=1.10.0,<2 (from mlflow)\n",
            "  Downloading alembic-1.15.2-py3-none-any.whl.metadata (7.3 kB)\n",
            "Collecting docker<8,>=4.0.0 (from mlflow)\n",
            "  Downloading docker-7.1.0-py3-none-any.whl.metadata (3.8 kB)\n",
            "Collecting graphene<4 (from mlflow)\n",
            "  Downloading graphene-3.4.3-py2.py3-none-any.whl.metadata (6.9 kB)\n",
            "Collecting gunicorn<24 (from mlflow)\n",
            "  Downloading gunicorn-23.0.0-py3-none-any.whl.metadata (4.4 kB)\n",
            "Requirement already satisfied: markdown<4,>=3.3 in /usr/local/lib/python3.11/dist-packages (from mlflow) (3.8)\n",
            "Requirement already satisfied: matplotlib<4 in /usr/local/lib/python3.11/dist-packages (from mlflow) (3.10.0)\n",
            "Requirement already satisfied: numpy<3 in /usr/local/lib/python3.11/dist-packages (from mlflow) (2.0.2)\n",
            "Requirement already satisfied: pandas<3 in /usr/local/lib/python3.11/dist-packages (from mlflow) (2.2.2)\n",
            "Requirement already satisfied: pyarrow<20,>=4.0.0 in /usr/local/lib/python3.11/dist-packages (from mlflow) (18.1.0)\n",
            "Requirement already satisfied: scikit-learn<2 in /usr/local/lib/python3.11/dist-packages (from mlflow) (1.6.1)\n",
            "Requirement already satisfied: scipy<2 in /usr/local/lib/python3.11/dist-packages (from mlflow) (1.14.1)\n",
            "Requirement already satisfied: sqlalchemy<3,>=1.4.0 in /usr/local/lib/python3.11/dist-packages (from mlflow) (2.0.40)\n",
            "Requirement already satisfied: cachetools<6,>=5.0.0 in /usr/local/lib/python3.11/dist-packages (from mlflow-skinny==2.21.3->mlflow) (5.5.2)\n",
            "Requirement already satisfied: click<9,>=7.0 in /usr/local/lib/python3.11/dist-packages (from mlflow-skinny==2.21.3->mlflow) (8.1.8)\n",
            "Requirement already satisfied: cloudpickle<4 in /usr/local/lib/python3.11/dist-packages (from mlflow-skinny==2.21.3->mlflow) (3.1.1)\n",
            "Collecting databricks-sdk<1,>=0.20.0 (from mlflow-skinny==2.21.3->mlflow)\n",
            "  Downloading databricks_sdk-0.50.0-py3-none-any.whl.metadata (38 kB)\n",
            "Collecting fastapi<1 (from mlflow-skinny==2.21.3->mlflow)\n",
            "  Downloading fastapi-0.115.12-py3-none-any.whl.metadata (27 kB)\n",
            "Requirement already satisfied: gitpython<4,>=3.1.9 in /usr/local/lib/python3.11/dist-packages (from mlflow-skinny==2.21.3->mlflow) (3.1.44)\n",
            "Requirement already satisfied: importlib_metadata!=4.7.0,<9,>=3.7.0 in /usr/local/lib/python3.11/dist-packages (from mlflow-skinny==2.21.3->mlflow) (8.6.1)\n",
            "Requirement already satisfied: opentelemetry-api<3,>=1.9.0 in /usr/local/lib/python3.11/dist-packages (from mlflow-skinny==2.21.3->mlflow) (1.32.1)\n",
            "Requirement already satisfied: opentelemetry-sdk<3,>=1.9.0 in /usr/local/lib/python3.11/dist-packages (from mlflow-skinny==2.21.3->mlflow) (1.32.1)\n",
            "Requirement already satisfied: packaging<25 in /usr/local/lib/python3.11/dist-packages (from mlflow-skinny==2.21.3->mlflow) (24.2)\n",
            "Requirement already satisfied: protobuf<6,>=3.12.0 in /usr/local/lib/python3.11/dist-packages (from mlflow-skinny==2.21.3->mlflow) (5.29.4)\n",
            "Requirement already satisfied: pydantic<3,>=1.10.8 in /usr/local/lib/python3.11/dist-packages (from mlflow-skinny==2.21.3->mlflow) (2.11.3)\n",
            "Requirement already satisfied: pyyaml<7,>=5.1 in /usr/local/lib/python3.11/dist-packages (from mlflow-skinny==2.21.3->mlflow) (6.0.2)\n",
            "Requirement already satisfied: requests<3,>=2.17.3 in /usr/local/lib/python3.11/dist-packages (from mlflow-skinny==2.21.3->mlflow) (2.32.3)\n",
            "Requirement already satisfied: sqlparse<1,>=0.4.0 in /usr/local/lib/python3.11/dist-packages (from mlflow-skinny==2.21.3->mlflow) (0.5.3)\n",
            "Requirement already satisfied: typing-extensions<5,>=4.0.0 in /usr/local/lib/python3.11/dist-packages (from mlflow-skinny==2.21.3->mlflow) (4.13.2)\n",
            "Collecting uvicorn<1 (from mlflow-skinny==2.21.3->mlflow)\n",
            "  Downloading uvicorn-0.34.2-py3-none-any.whl.metadata (6.5 kB)\n",
            "Requirement already satisfied: albucore==0.0.23 in /usr/local/lib/python3.11/dist-packages (from albumentations) (0.0.23)\n",
            "Requirement already satisfied: opencv-python-headless>=4.9.0.80 in /usr/local/lib/python3.11/dist-packages (from albumentations) (4.11.0.86)\n",
            "Requirement already satisfied: stringzilla>=3.10.4 in /usr/local/lib/python3.11/dist-packages (from albucore==0.0.23->albumentations) (3.12.4)\n",
            "Requirement already satisfied: simsimd>=5.9.2 in /usr/local/lib/python3.11/dist-packages (from albucore==0.0.23->albumentations) (6.2.1)\n",
            "Requirement already satisfied: affine in /usr/local/lib/python3.11/dist-packages (from rasterio) (2.4.0)\n",
            "Requirement already satisfied: attrs in /usr/local/lib/python3.11/dist-packages (from rasterio) (25.3.0)\n",
            "Requirement already satisfied: certifi in /usr/local/lib/python3.11/dist-packages (from rasterio) (2025.1.31)\n",
            "Requirement already satisfied: cligj>=0.5 in /usr/local/lib/python3.11/dist-packages (from rasterio) (0.7.2)\n",
            "Requirement already satisfied: click-plugins in /usr/local/lib/python3.11/dist-packages (from rasterio) (1.1.1)\n",
            "Requirement already satisfied: pyparsing in /usr/local/lib/python3.11/dist-packages (from rasterio) (3.2.3)\n",
            "Requirement already satisfied: Mako in /usr/lib/python3/dist-packages (from alembic!=1.10.0,<2->mlflow) (1.1.3)\n",
            "Requirement already satisfied: urllib3>=1.26.0 in /usr/local/lib/python3.11/dist-packages (from docker<8,>=4.0.0->mlflow) (2.3.0)\n",
            "Requirement already satisfied: Werkzeug>=3.1 in /usr/local/lib/python3.11/dist-packages (from Flask<4->mlflow) (3.1.3)\n",
            "Requirement already satisfied: itsdangerous>=2.2 in /usr/local/lib/python3.11/dist-packages (from Flask<4->mlflow) (2.2.0)\n",
            "Requirement already satisfied: blinker>=1.9 in /usr/local/lib/python3.11/dist-packages (from Flask<4->mlflow) (1.9.0)\n",
            "Collecting graphql-core<3.3,>=3.1 (from graphene<4->mlflow)\n",
            "  Downloading graphql_core-3.2.6-py3-none-any.whl.metadata (11 kB)\n",
            "Collecting graphql-relay<3.3,>=3.1 (from graphene<4->mlflow)\n",
            "  Downloading graphql_relay-3.2.0-py3-none-any.whl.metadata (12 kB)\n",
            "Requirement already satisfied: python-dateutil<3,>=2.7.0 in /usr/local/lib/python3.11/dist-packages (from graphene<4->mlflow) (2.8.2)\n",
            "Requirement already satisfied: MarkupSafe>=2.0 in /usr/local/lib/python3.11/dist-packages (from Jinja2<4,>=2.11->mlflow) (3.0.2)\n",
            "Requirement already satisfied: contourpy>=1.0.1 in /usr/local/lib/python3.11/dist-packages (from matplotlib<4->mlflow) (1.3.2)\n",
            "Requirement already satisfied: cycler>=0.10 in /usr/local/lib/python3.11/dist-packages (from matplotlib<4->mlflow) (0.12.1)\n",
            "Requirement already satisfied: fonttools>=4.22.0 in /usr/local/lib/python3.11/dist-packages (from matplotlib<4->mlflow) (4.57.0)\n",
            "Requirement already satisfied: kiwisolver>=1.3.1 in /usr/local/lib/python3.11/dist-packages (from matplotlib<4->mlflow) (1.4.8)\n",
            "Requirement already satisfied: pillow>=8 in /usr/local/lib/python3.11/dist-packages (from matplotlib<4->mlflow) (11.1.0)\n",
            "Requirement already satisfied: pytz>=2020.1 in /usr/local/lib/python3.11/dist-packages (from pandas<3->mlflow) (2025.2)\n",
            "Requirement already satisfied: tzdata>=2022.7 in /usr/local/lib/python3.11/dist-packages (from pandas<3->mlflow) (2025.2)\n",
            "Requirement already satisfied: annotated-types>=0.6.0 in /usr/local/lib/python3.11/dist-packages (from pydantic<3,>=1.10.8->mlflow-skinny==2.21.3->mlflow) (0.7.0)\n",
            "Requirement already satisfied: pydantic-core==2.33.1 in /usr/local/lib/python3.11/dist-packages (from pydantic<3,>=1.10.8->mlflow-skinny==2.21.3->mlflow) (2.33.1)\n",
            "Requirement already satisfied: typing-inspection>=0.4.0 in /usr/local/lib/python3.11/dist-packages (from pydantic<3,>=1.10.8->mlflow-skinny==2.21.3->mlflow) (0.4.0)\n",
            "Requirement already satisfied: joblib>=1.2.0 in /usr/local/lib/python3.11/dist-packages (from scikit-learn<2->mlflow) (1.4.2)\n",
            "Requirement already satisfied: threadpoolctl>=3.1.0 in /usr/local/lib/python3.11/dist-packages (from scikit-learn<2->mlflow) (3.6.0)\n",
            "Requirement already satisfied: greenlet>=1 in /usr/local/lib/python3.11/dist-packages (from sqlalchemy<3,>=1.4.0->mlflow) (3.2.0)\n",
            "Requirement already satisfied: google-auth~=2.0 in /usr/local/lib/python3.11/dist-packages (from databricks-sdk<1,>=0.20.0->mlflow-skinny==2.21.3->mlflow) (2.38.0)\n",
            "Collecting starlette<0.47.0,>=0.40.0 (from fastapi<1->mlflow-skinny==2.21.3->mlflow)\n",
            "  Downloading starlette-0.46.2-py3-none-any.whl.metadata (6.2 kB)\n",
            "Requirement already satisfied: gitdb<5,>=4.0.1 in /usr/local/lib/python3.11/dist-packages (from gitpython<4,>=3.1.9->mlflow-skinny==2.21.3->mlflow) (4.0.12)\n",
            "Requirement already satisfied: zipp>=3.20 in /usr/local/lib/python3.11/dist-packages (from importlib_metadata!=4.7.0,<9,>=3.7.0->mlflow-skinny==2.21.3->mlflow) (3.21.0)\n",
            "Requirement already satisfied: deprecated>=1.2.6 in /usr/local/lib/python3.11/dist-packages (from opentelemetry-api<3,>=1.9.0->mlflow-skinny==2.21.3->mlflow) (1.2.18)\n",
            "Requirement already satisfied: opentelemetry-semantic-conventions==0.53b1 in /usr/local/lib/python3.11/dist-packages (from opentelemetry-sdk<3,>=1.9.0->mlflow-skinny==2.21.3->mlflow) (0.53b1)\n",
            "Requirement already satisfied: six>=1.5 in /usr/local/lib/python3.11/dist-packages (from python-dateutil<3,>=2.7.0->graphene<4->mlflow) (1.17.0)\n",
            "Requirement already satisfied: charset-normalizer<4,>=2 in /usr/local/lib/python3.11/dist-packages (from requests<3,>=2.17.3->mlflow-skinny==2.21.3->mlflow) (3.4.1)\n",
            "Requirement already satisfied: idna<4,>=2.5 in /usr/local/lib/python3.11/dist-packages (from requests<3,>=2.17.3->mlflow-skinny==2.21.3->mlflow) (3.10)\n",
            "Requirement already satisfied: h11>=0.8 in /usr/local/lib/python3.11/dist-packages (from uvicorn<1->mlflow-skinny==2.21.3->mlflow) (0.14.0)\n",
            "Requirement already satisfied: wrapt<2,>=1.10 in /usr/local/lib/python3.11/dist-packages (from deprecated>=1.2.6->opentelemetry-api<3,>=1.9.0->mlflow-skinny==2.21.3->mlflow) (1.17.2)\n",
            "Requirement already satisfied: smmap<6,>=3.0.1 in /usr/local/lib/python3.11/dist-packages (from gitdb<5,>=4.0.1->gitpython<4,>=3.1.9->mlflow-skinny==2.21.3->mlflow) (5.0.2)\n",
            "Requirement already satisfied: pyasn1-modules>=0.2.1 in /usr/local/lib/python3.11/dist-packages (from google-auth~=2.0->databricks-sdk<1,>=0.20.0->mlflow-skinny==2.21.3->mlflow) (0.4.2)\n",
            "Requirement already satisfied: rsa<5,>=3.1.4 in /usr/local/lib/python3.11/dist-packages (from google-auth~=2.0->databricks-sdk<1,>=0.20.0->mlflow-skinny==2.21.3->mlflow) (4.9.1)\n",
            "Requirement already satisfied: anyio<5,>=3.6.2 in /usr/local/lib/python3.11/dist-packages (from starlette<0.47.0,>=0.40.0->fastapi<1->mlflow-skinny==2.21.3->mlflow) (4.9.0)\n",
            "Requirement already satisfied: sniffio>=1.1 in /usr/local/lib/python3.11/dist-packages (from anyio<5,>=3.6.2->starlette<0.47.0,>=0.40.0->fastapi<1->mlflow-skinny==2.21.3->mlflow) (1.3.1)\n",
            "Requirement already satisfied: pyasn1<0.7.0,>=0.6.1 in /usr/local/lib/python3.11/dist-packages (from pyasn1-modules>=0.2.1->google-auth~=2.0->databricks-sdk<1,>=0.20.0->mlflow-skinny==2.21.3->mlflow) (0.6.1)\n",
            "Downloading mlflow-2.21.3-py3-none-any.whl (28.2 MB)\n",
            "\u001b[2K   \u001b[90m━━━━━━━━━━━━━━━━━━━━━━━━━━━━━━━━━━━━━━━━\u001b[0m \u001b[32m28.2/28.2 MB\u001b[0m \u001b[31m64.3 MB/s\u001b[0m eta \u001b[36m0:00:00\u001b[0m\n",
            "\u001b[?25hDownloading mlflow_skinny-2.21.3-py3-none-any.whl (6.1 MB)\n",
            "\u001b[2K   \u001b[90m━━━━━━━━━━━━━━━━━━━━━━━━━━━━━━━━━━━━━━━━\u001b[0m \u001b[32m6.1/6.1 MB\u001b[0m \u001b[31m83.2 MB/s\u001b[0m eta \u001b[36m0:00:00\u001b[0m\n",
            "\u001b[?25hDownloading alembic-1.15.2-py3-none-any.whl (231 kB)\n",
            "\u001b[2K   \u001b[90m━━━━━━━━━━━━━━━━━━━━━━━━━━━━━━━━━━━━━━━━\u001b[0m \u001b[32m231.9/231.9 kB\u001b[0m \u001b[31m14.1 MB/s\u001b[0m eta \u001b[36m0:00:00\u001b[0m\n",
            "\u001b[?25hDownloading docker-7.1.0-py3-none-any.whl (147 kB)\n",
            "\u001b[2K   \u001b[90m━━━━━━━━━━━━━━━━━━━━━━━━━━━━━━━━━━━━━━━━\u001b[0m \u001b[32m147.8/147.8 kB\u001b[0m \u001b[31m10.9 MB/s\u001b[0m eta \u001b[36m0:00:00\u001b[0m\n",
            "\u001b[?25hDownloading graphene-3.4.3-py2.py3-none-any.whl (114 kB)\n",
            "\u001b[2K   \u001b[90m━━━━━━━━━━━━━━━━━━━━━━━━━━━━━━━━━━━━━━━━\u001b[0m \u001b[32m114.9/114.9 kB\u001b[0m \u001b[31m8.0 MB/s\u001b[0m eta \u001b[36m0:00:00\u001b[0m\n",
            "\u001b[?25hDownloading gunicorn-23.0.0-py3-none-any.whl (85 kB)\n",
            "\u001b[2K   \u001b[90m━━━━━━━━━━━━━━━━━━━━━━━━━━━━━━━━━━━━━━━━\u001b[0m \u001b[32m85.0/85.0 kB\u001b[0m \u001b[31m5.8 MB/s\u001b[0m eta \u001b[36m0:00:00\u001b[0m\n",
            "\u001b[?25hDownloading databricks_sdk-0.50.0-py3-none-any.whl (692 kB)\n",
            "\u001b[2K   \u001b[90m━━━━━━━━━━━━━━━━━━━━━━━━━━━━━━━━━━━━━━━━\u001b[0m \u001b[32m692.3/692.3 kB\u001b[0m \u001b[31m30.5 MB/s\u001b[0m eta \u001b[36m0:00:00\u001b[0m\n",
            "\u001b[?25hDownloading fastapi-0.115.12-py3-none-any.whl (95 kB)\n",
            "\u001b[2K   \u001b[90m━━━━━━━━━━━━━━━━━━━━━━━━━━━━━━━━━━━━━━━━\u001b[0m \u001b[32m95.2/95.2 kB\u001b[0m \u001b[31m6.5 MB/s\u001b[0m eta \u001b[36m0:00:00\u001b[0m\n",
            "\u001b[?25hDownloading graphql_core-3.2.6-py3-none-any.whl (203 kB)\n",
            "\u001b[2K   \u001b[90m━━━━━━━━━━━━━━━━━━━━━━━━━━━━━━━━━━━━━━━━\u001b[0m \u001b[32m203.4/203.4 kB\u001b[0m \u001b[31m12.9 MB/s\u001b[0m eta \u001b[36m0:00:00\u001b[0m\n",
            "\u001b[?25hDownloading graphql_relay-3.2.0-py3-none-any.whl (16 kB)\n",
            "Downloading uvicorn-0.34.2-py3-none-any.whl (62 kB)\n",
            "\u001b[2K   \u001b[90m━━━━━━━━━━━━━━━━━━━━━━━━━━━━━━━━━━━━━━━━\u001b[0m \u001b[32m62.5/62.5 kB\u001b[0m \u001b[31m4.3 MB/s\u001b[0m eta \u001b[36m0:00:00\u001b[0m\n",
            "\u001b[?25hDownloading starlette-0.46.2-py3-none-any.whl (72 kB)\n",
            "\u001b[2K   \u001b[90m━━━━━━━━━━━━━━━━━━━━━━━━━━━━━━━━━━━━━━━━\u001b[0m \u001b[32m72.0/72.0 kB\u001b[0m \u001b[31m4.7 MB/s\u001b[0m eta \u001b[36m0:00:00\u001b[0m\n",
            "\u001b[?25hInstalling collected packages: uvicorn, gunicorn, graphql-core, starlette, graphql-relay, docker, alembic, graphene, fastapi, databricks-sdk, mlflow-skinny, mlflow\n",
            "Successfully installed alembic-1.15.2 databricks-sdk-0.50.0 docker-7.1.0 fastapi-0.115.12 graphene-3.4.3 graphql-core-3.2.6 graphql-relay-3.2.0 gunicorn-23.0.0 mlflow-2.21.3 mlflow-skinny-2.21.3 starlette-0.46.2 uvicorn-0.34.2\n"
          ]
        }
      ]
    },
    {
      "cell_type": "code",
      "source": [
        "# Set experiment name\n",
        "mlflow.set_experiment(\"MADOS_MARIDA_Preprocessing\")\n"
      ],
      "metadata": {
        "colab": {
          "base_uri": "https://localhost:8080/"
        },
        "id": "C3YGxKjyckyQ",
        "outputId": "9a3df181-f399-42cd-9492-859a4f8f8520"
      },
      "execution_count": 28,
      "outputs": [
        {
          "output_type": "stream",
          "name": "stderr",
          "text": [
            "2025/04/19 19:06:55 INFO mlflow.tracking.fluent: Experiment with name 'MADOS_MARIDA_Preprocessing' does not exist. Creating a new experiment.\n"
          ]
        },
        {
          "output_type": "execute_result",
          "data": {
            "text/plain": [
              "<Experiment: artifact_location='file:///content/mlruns/826749822164499006', creation_time=1745089615308, experiment_id='826749822164499006', last_update_time=1745089615308, lifecycle_stage='active', name='MADOS_MARIDA_Preprocessing', tags={}>"
            ]
          },
          "metadata": {},
          "execution_count": 28
        }
      ]
    },
    {
      "cell_type": "code",
      "source": [
        "# Set paths\n",
        "MARIDA_PATH = '/content/marida_data'\n",
        "MADOS_PATH = '/content/MADOS'\n",
        "\n",
        "# Create output folders\n",
        "os.makedirs('/content/processed_MADOS_padding', exist_ok=True)\n"
      ],
      "metadata": {
        "id": "sM9rfAslcvBh"
      },
      "execution_count": 29,
      "outputs": []
    },
    {
      "cell_type": "markdown",
      "source": [
        "1-Extract_Marine_Debrise"
      ],
      "metadata": {
        "id": "kWOBlb0jeK9z"
      }
    },
    {
      "cell_type": "code",
      "source": [
        "import os\n",
        "import shutil\n",
        "import rasterio\n",
        "import numpy as np\n",
        "from glob import glob\n",
        "\n",
        "# Input MADOS path\n",
        "MADOS_PATH = '/content/MADOS'\n",
        "\n",
        "# Output path for extracted marine debris scenes\n",
        "OUTPUT_PATH = '/content/extracted_marine_debris'\n",
        "\n",
        "# Create output folder\n",
        "os.makedirs(OUTPUT_PATH, exist_ok=True)\n",
        "\n",
        "# Define marine debris class\n",
        "marine_debris_class = 1\n",
        "\n",
        "# List all scenes\n",
        "scene_paths = sorted(glob(os.path.join(MADOS_PATH, 'Scene_*')))\n",
        "\n",
        "for scene_path in scene_paths:\n",
        "    scene_id = os.path.basename(scene_path)\n",
        "    found_marine_debris = False\n",
        "\n",
        "    for resolution in ['10', '20', '60']:\n",
        "        resolution_path = os.path.join(scene_path, resolution)\n",
        "        if not os.path.exists(resolution_path):\n",
        "            continue\n",
        "\n",
        "        # Find classification (cl) files\n",
        "        cl_files = glob(os.path.join(resolution_path, '*_cl_*.tif'))\n",
        "\n",
        "        for cl_file in cl_files:\n",
        "            with rasterio.open(cl_file) as src:\n",
        "                cl_array = src.read(1)\n",
        "\n",
        "            if marine_debris_class in np.unique(cl_array):\n",
        "                found_marine_debris = True\n",
        "                break  # Found in this scene, no need to check more\n",
        "\n",
        "        if found_marine_debris:\n",
        "            break  # Found in this scene, no need to check more\n",
        "\n",
        "    # If marine debris found, copy all 10, 20, 60 folders\n",
        "    if found_marine_debris:\n",
        "        for resolution in ['10', '20', '60']:\n",
        "            source_path = os.path.join(scene_path, resolution)\n",
        "            if os.path.exists(source_path):\n",
        "                dest_path = os.path.join(OUTPUT_PATH, scene_id, resolution)\n",
        "                os.makedirs(dest_path, exist_ok=True)\n",
        "\n",
        "                for file_name in os.listdir(source_path):\n",
        "                    source_file = os.path.join(source_path, file_name)\n",
        "                    dest_file = os.path.join(dest_path, file_name)\n",
        "                    shutil.copy2(source_file, dest_file)\n",
        "\n",
        "print(\"Extraction complete.\")\n"
      ],
      "metadata": {
        "colab": {
          "base_uri": "https://localhost:8080/"
        },
        "id": "AwJcTFiseITa",
        "outputId": "a0cfe63d-7108-4467-bb56-da5b08c68651"
      },
      "execution_count": 30,
      "outputs": [
        {
          "output_type": "stream",
          "name": "stdout",
          "text": [
            "Extraction complete.\n"
          ]
        }
      ]
    },
    {
      "cell_type": "markdown",
      "source": [
        "2-Resize"
      ],
      "metadata": {
        "id": "nGIaj101eQZY"
      }
    },
    {
      "cell_type": "code",
      "source": [
        "import os\n",
        "import rasterio\n",
        "from rasterio.enums import Resampling\n",
        "from glob import glob\n",
        "\n",
        "# Paths\n",
        "EXTRACTED_PATH = '/content/extracted_marine_debris'\n",
        "RESIZED_PATH = '/content/step2_resize_mados_debris'\n",
        "os.makedirs(RESIZED_PATH, exist_ok=True)\n",
        "\n",
        "# Target size\n",
        "TARGET_SIZE = (256, 256)\n",
        "\n",
        "# Function to resize and save\n",
        "def resize_and_save(input_path, output_path, resampling_method):\n",
        "    with rasterio.open(input_path) as src:\n",
        "        data = src.read(\n",
        "            out_shape=(src.count, TARGET_SIZE[0], TARGET_SIZE[1]),\n",
        "            resampling=resampling_method\n",
        "        )\n",
        "        profile = src.profile\n",
        "        profile.update({\n",
        "            'height': TARGET_SIZE[0],\n",
        "            'width': TARGET_SIZE[1],\n",
        "            'transform': rasterio.transform.from_origin(\n",
        "                src.bounds.left,\n",
        "                src.bounds.top,\n",
        "                (src.bounds.right - src.bounds.left) / TARGET_SIZE[1],\n",
        "                (src.bounds.bottom - src.bounds.top) / TARGET_SIZE[0]\n",
        "            )\n",
        "        })\n",
        "\n",
        "        with rasterio.open(output_path, 'w', **profile) as dst:\n",
        "            dst.write(data)\n",
        "\n",
        "# Process each scene\n",
        "scene_paths = sorted(glob(os.path.join(EXTRACTED_PATH, 'Scene_*')))\n",
        "\n",
        "for scene_path in scene_paths:\n",
        "    scene_id = os.path.basename(scene_path)\n",
        "\n",
        "    for res in ['10', '20', '60']:\n",
        "        res_input_path = os.path.join(scene_path, res)\n",
        "        if not os.path.exists(res_input_path):\n",
        "            continue\n",
        "\n",
        "        res_output_path = os.path.join(RESIZED_PATH, scene_id, res)\n",
        "        os.makedirs(res_output_path, exist_ok=True)\n",
        "\n",
        "        # Process each file inside resolution folder\n",
        "        tif_files = sorted(glob(os.path.join(res_input_path, '*.tif')))\n",
        "\n",
        "        for tif_file in tif_files:\n",
        "            filename = os.path.basename(tif_file)\n",
        "            if 'cl' in filename or 'conf' in filename:\n",
        "                resampling_method = Resampling.nearest\n",
        "            else:\n",
        "                resampling_method = Resampling.bilinear\n",
        "\n",
        "            output_file_path = os.path.join(res_output_path, filename)\n",
        "\n",
        "            resize_and_save(tif_file, output_file_path, resampling_method)\n",
        "\n",
        "print(\"Finished resizing all files into step2_resize_mados_debris with original names.\")\n"
      ],
      "metadata": {
        "colab": {
          "base_uri": "https://localhost:8080/"
        },
        "id": "ByI6UBZIetRU",
        "outputId": "09280428-5e41-47ce-ade9-c19275b4c629"
      },
      "execution_count": 31,
      "outputs": [
        {
          "output_type": "stream",
          "name": "stdout",
          "text": [
            "Finished resizing all files into step2_resize_mados_debris with original names.\n"
          ]
        }
      ]
    },
    {
      "cell_type": "markdown",
      "source": [
        "3-Stuck Bands"
      ],
      "metadata": {
        "id": "q5DWlH-Pe1ZA"
      }
    },
    {
      "cell_type": "code",
      "source": [
        "import os\n",
        "import numpy as np\n",
        "from PIL import Image\n",
        "\n",
        "def save_tif(image_array, save_path):\n",
        "    # Ensure the image is in uint16 format and within the valid range\n",
        "    image_array = np.clip(image_array, 0, 65535).astype(np.uint16)\n",
        "\n",
        "    # Convert to image and save\n",
        "    image = Image.fromarray(image_array[0])  # This works if the image is only single channel\n",
        "    image.save(save_path, format='TIFF')\n",
        "\n",
        "# Paths\n",
        "input_root = '/content/step2_resize_mados_debris'\n",
        "output_root = '/content/step3_ready_mados_debris'\n",
        "\n",
        "os.makedirs(output_root, exist_ok=True)\n",
        "\n",
        "# Iterate scenes\n",
        "for scene_name in sorted(os.listdir(input_root)):\n",
        "    scene_path = os.path.join(input_root, scene_name)\n",
        "    if not os.path.isdir(scene_path):\n",
        "        continue\n",
        "\n",
        "    print(f\"Processing {scene_name}...\")\n",
        "\n",
        "    # Prepare paths\n",
        "    res10_path = os.path.join(scene_path, '10')\n",
        "    res20_path = os.path.join(scene_path, '20')\n",
        "    res60_path = os.path.join(scene_path, '60')\n",
        "\n",
        "    # Collect 10m rhorc bands\n",
        "    rhorc_10_files = sorted([f for f in os.listdir(res10_path) if 'rhorc' in f and f.endswith('.tif')])[:4]\n",
        "    cl_file = next((f for f in os.listdir(res10_path) if '_cl_' in f and f.endswith('.tif')), None)\n",
        "    conf_file = next((f for f in os.listdir(res10_path) if '_conf_' in f and f.endswith('.tif')), None)\n",
        "\n",
        "    # Collect 20m rhorc bands\n",
        "    rhorc_20_files = sorted([f for f in os.listdir(res20_path) if 'rhorc' in f and f.endswith('.tif')])[:6]\n",
        "\n",
        "    # Collect 60m rhorc band\n",
        "    rhorc_60_files = sorted([f for f in os.listdir(res60_path) if 'rhorc' in f and f.endswith('.tif')])[:1]\n",
        "\n",
        "    # Check if enough bands exist\n",
        "    if len(rhorc_10_files) < 4 or len(rhorc_20_files) < 6 or len(rhorc_60_files) < 1 or cl_file is None:\n",
        "        print(f\"Scene {scene_name} is missing files, skipping...\")\n",
        "        continue\n",
        "\n",
        "    # Load bands\n",
        "    bands = []\n",
        "    for f in rhorc_10_files:\n",
        "        bands.append(np.array(Image.open(os.path.join(res10_path, f))))\n",
        "    for f in rhorc_20_files:\n",
        "        bands.append(np.array(Image.open(os.path.join(res20_path, f))))\n",
        "    for f in rhorc_60_files:\n",
        "        bands.append(np.array(Image.open(os.path.join(res60_path, f))))\n",
        "\n",
        "    # Stack bands to shape (11, 256, 256)\n",
        "    image = np.stack(bands, axis=0)\n",
        "\n",
        "    # Check if image has 11 bands and shape (11, 256, 256)\n",
        "    if image.shape == (11, 256, 256):\n",
        "        print(f\"Image from {scene_name} has the expected shape: {image.shape}\")\n",
        "    else:\n",
        "        print(f\"Warning: Image from {scene_name} does not have 11 bands, shape is {image.shape}\")\n",
        "\n",
        "    # Load mask and confidence, ensure uint16 type\n",
        "    mask = np.array(Image.open(os.path.join(res10_path, cl_file)), dtype=np.uint16)\n",
        "    conf = np.array(Image.open(os.path.join(res10_path, conf_file)), dtype=np.uint16) if conf_file else np.zeros_like(mask, dtype=np.uint16)\n",
        "\n",
        "    # Extract scene number (e.g., \"Scene_1\")\n",
        "    scene_number = scene_name.split('_')[-1]  # Assuming the scene name format is like \"Scene_1\"\n",
        "\n",
        "    # Create output scene folder\n",
        "    output_scene_path = os.path.join(output_root, scene_name)\n",
        "    os.makedirs(output_scene_path, exist_ok=True)\n",
        "\n",
        "    # Save stacked image as .tif\n",
        "    stacked_image_path = os.path.join(output_scene_path, f'{scene_name}_{scene_number}_rhodc.tif')\n",
        "    save_tif(image, stacked_image_path)\n",
        "\n",
        "    # Save classification mask as .tif\n",
        "    cl_mask_path = os.path.join(output_scene_path, f'{scene_name}_{scene_number}_rhodc_cl.tif')\n",
        "    save_tif(mask, cl_mask_path)\n",
        "\n",
        "    # Save confidence mask as .tif\n",
        "    conf_mask_path = os.path.join(output_scene_path, f'{scene_name}_{scene_number}_rhodc_conf.tif')\n",
        "    save_tif(conf, conf_mask_path)\n",
        "\n",
        "print(\"Stacking and saving as .tif finished successfully.\")\n"
      ],
      "metadata": {
        "colab": {
          "base_uri": "https://localhost:8080/"
        },
        "id": "jNXjwStABZts",
        "outputId": "8a93223b-7f1c-47d3-825f-9889beb34467"
      },
      "execution_count": 54,
      "outputs": [
        {
          "output_type": "stream",
          "name": "stdout",
          "text": [
            "Processing Scene_1...\n",
            "Image from Scene_1 has the expected shape: (11, 256, 256)\n",
            "Processing Scene_10...\n",
            "Image from Scene_10 has the expected shape: (11, 256, 256)\n",
            "Processing Scene_101...\n",
            "Image from Scene_101 has the expected shape: (11, 256, 256)\n",
            "Processing Scene_102...\n",
            "Image from Scene_102 has the expected shape: (11, 256, 256)\n",
            "Processing Scene_107...\n",
            "Image from Scene_107 has the expected shape: (11, 256, 256)\n",
            "Processing Scene_108...\n",
            "Image from Scene_108 has the expected shape: (11, 256, 256)\n",
            "Processing Scene_113...\n",
            "Image from Scene_113 has the expected shape: (11, 256, 256)\n",
            "Processing Scene_117...\n",
            "Image from Scene_117 has the expected shape: (11, 256, 256)\n",
            "Processing Scene_12...\n",
            "Image from Scene_12 has the expected shape: (11, 256, 256)\n",
            "Processing Scene_120...\n",
            "Image from Scene_120 has the expected shape: (11, 256, 256)\n",
            "Processing Scene_125...\n",
            "Image from Scene_125 has the expected shape: (11, 256, 256)\n",
            "Processing Scene_127...\n",
            "Image from Scene_127 has the expected shape: (11, 256, 256)\n",
            "Processing Scene_128...\n",
            "Image from Scene_128 has the expected shape: (11, 256, 256)\n",
            "Processing Scene_129...\n",
            "Image from Scene_129 has the expected shape: (11, 256, 256)\n",
            "Processing Scene_13...\n",
            "Image from Scene_13 has the expected shape: (11, 256, 256)\n",
            "Processing Scene_133...\n",
            "Image from Scene_133 has the expected shape: (11, 256, 256)\n",
            "Processing Scene_135...\n",
            "Image from Scene_135 has the expected shape: (11, 256, 256)\n",
            "Processing Scene_139...\n",
            "Image from Scene_139 has the expected shape: (11, 256, 256)\n",
            "Processing Scene_14...\n",
            "Image from Scene_14 has the expected shape: (11, 256, 256)\n",
            "Processing Scene_140...\n",
            "Image from Scene_140 has the expected shape: (11, 256, 256)\n",
            "Processing Scene_141...\n",
            "Image from Scene_141 has the expected shape: (11, 256, 256)\n",
            "Processing Scene_143...\n",
            "Image from Scene_143 has the expected shape: (11, 256, 256)\n",
            "Processing Scene_147...\n",
            "Image from Scene_147 has the expected shape: (11, 256, 256)\n",
            "Processing Scene_148...\n",
            "Image from Scene_148 has the expected shape: (11, 256, 256)\n",
            "Processing Scene_15...\n",
            "Image from Scene_15 has the expected shape: (11, 256, 256)\n",
            "Processing Scene_157...\n",
            "Image from Scene_157 has the expected shape: (11, 256, 256)\n",
            "Processing Scene_16...\n",
            "Image from Scene_16 has the expected shape: (11, 256, 256)\n",
            "Processing Scene_160...\n",
            "Image from Scene_160 has the expected shape: (11, 256, 256)\n",
            "Processing Scene_161...\n",
            "Image from Scene_161 has the expected shape: (11, 256, 256)\n",
            "Processing Scene_162...\n",
            "Image from Scene_162 has the expected shape: (11, 256, 256)\n",
            "Processing Scene_163...\n",
            "Image from Scene_163 has the expected shape: (11, 256, 256)\n",
            "Processing Scene_164...\n",
            "Image from Scene_164 has the expected shape: (11, 256, 256)\n",
            "Processing Scene_166...\n",
            "Image from Scene_166 has the expected shape: (11, 256, 256)\n",
            "Processing Scene_167...\n",
            "Image from Scene_167 has the expected shape: (11, 256, 256)\n",
            "Processing Scene_169...\n",
            "Image from Scene_169 has the expected shape: (11, 256, 256)\n",
            "Processing Scene_170...\n",
            "Image from Scene_170 has the expected shape: (11, 256, 256)\n",
            "Processing Scene_18...\n",
            "Image from Scene_18 has the expected shape: (11, 256, 256)\n",
            "Processing Scene_19...\n",
            "Image from Scene_19 has the expected shape: (11, 256, 256)\n",
            "Processing Scene_2...\n",
            "Image from Scene_2 has the expected shape: (11, 256, 256)\n",
            "Processing Scene_20...\n",
            "Image from Scene_20 has the expected shape: (11, 256, 256)\n",
            "Processing Scene_21...\n",
            "Image from Scene_21 has the expected shape: (11, 256, 256)\n",
            "Processing Scene_22...\n",
            "Image from Scene_22 has the expected shape: (11, 256, 256)\n",
            "Processing Scene_25...\n",
            "Image from Scene_25 has the expected shape: (11, 256, 256)\n",
            "Processing Scene_26...\n",
            "Image from Scene_26 has the expected shape: (11, 256, 256)\n",
            "Processing Scene_28...\n",
            "Image from Scene_28 has the expected shape: (11, 256, 256)\n",
            "Processing Scene_29...\n",
            "Image from Scene_29 has the expected shape: (11, 256, 256)\n",
            "Processing Scene_3...\n",
            "Image from Scene_3 has the expected shape: (11, 256, 256)\n",
            "Processing Scene_35...\n",
            "Image from Scene_35 has the expected shape: (11, 256, 256)\n",
            "Processing Scene_36...\n",
            "Image from Scene_36 has the expected shape: (11, 256, 256)\n",
            "Processing Scene_4...\n",
            "Image from Scene_4 has the expected shape: (11, 256, 256)\n",
            "Processing Scene_42...\n",
            "Image from Scene_42 has the expected shape: (11, 256, 256)\n",
            "Processing Scene_43...\n",
            "Image from Scene_43 has the expected shape: (11, 256, 256)\n",
            "Processing Scene_44...\n",
            "Image from Scene_44 has the expected shape: (11, 256, 256)\n",
            "Processing Scene_50...\n",
            "Image from Scene_50 has the expected shape: (11, 256, 256)\n",
            "Processing Scene_51...\n",
            "Image from Scene_51 has the expected shape: (11, 256, 256)\n",
            "Processing Scene_54...\n",
            "Image from Scene_54 has the expected shape: (11, 256, 256)\n",
            "Processing Scene_55...\n",
            "Image from Scene_55 has the expected shape: (11, 256, 256)\n",
            "Processing Scene_64...\n",
            "Image from Scene_64 has the expected shape: (11, 256, 256)\n",
            "Processing Scene_65...\n",
            "Image from Scene_65 has the expected shape: (11, 256, 256)\n",
            "Processing Scene_66...\n",
            "Image from Scene_66 has the expected shape: (11, 256, 256)\n",
            "Processing Scene_68...\n",
            "Image from Scene_68 has the expected shape: (11, 256, 256)\n",
            "Processing Scene_71...\n",
            "Image from Scene_71 has the expected shape: (11, 256, 256)\n",
            "Processing Scene_73...\n",
            "Image from Scene_73 has the expected shape: (11, 256, 256)\n",
            "Processing Scene_74...\n",
            "Image from Scene_74 has the expected shape: (11, 256, 256)\n",
            "Processing Scene_75...\n",
            "Image from Scene_75 has the expected shape: (11, 256, 256)\n",
            "Processing Scene_76...\n",
            "Image from Scene_76 has the expected shape: (11, 256, 256)\n",
            "Processing Scene_77...\n",
            "Image from Scene_77 has the expected shape: (11, 256, 256)\n",
            "Processing Scene_8...\n",
            "Image from Scene_8 has the expected shape: (11, 256, 256)\n",
            "Processing Scene_80...\n",
            "Image from Scene_80 has the expected shape: (11, 256, 256)\n",
            "Processing Scene_82...\n",
            "Image from Scene_82 has the expected shape: (11, 256, 256)\n",
            "Processing Scene_84...\n",
            "Image from Scene_84 has the expected shape: (11, 256, 256)\n",
            "Processing Scene_85...\n",
            "Image from Scene_85 has the expected shape: (11, 256, 256)\n",
            "Processing Scene_9...\n",
            "Image from Scene_9 has the expected shape: (11, 256, 256)\n",
            "Processing Scene_90...\n",
            "Image from Scene_90 has the expected shape: (11, 256, 256)\n",
            "Processing Scene_93...\n",
            "Image from Scene_93 has the expected shape: (11, 256, 256)\n",
            "Processing Scene_98...\n",
            "Image from Scene_98 has the expected shape: (11, 256, 256)\n",
            "Processing Scene_99...\n",
            "Image from Scene_99 has the expected shape: (11, 256, 256)\n",
            "Stacking and saving as .tif finished successfully.\n"
          ]
        }
      ]
    },
    {
      "cell_type": "code",
      "source": [],
      "metadata": {
        "id": "eEi8rIUQJAFC"
      },
      "execution_count": null,
      "outputs": []
    },
    {
      "cell_type": "markdown",
      "source": [
        "Step4 Merge Marida and Mados"
      ],
      "metadata": {
        "id": "uIJENVHvC3Uw"
      }
    },
    {
      "cell_type": "code",
      "source": [
        "import os\n",
        "import shutil\n",
        "\n",
        "# Define source paths\n",
        "marida_cl_root = '/content/extracted_data_Marida/cl'\n",
        "marida_image_root = '/content/extracted_data_Marida/images'\n",
        "marida_conf_root = '/content/extracted_data_Marida/conf'\n",
        "mados_root = '/content/step3_ready_mados_debris'\n",
        "\n",
        "# Define destination paths\n",
        "merged_root = '/content/merged_marida_mados'\n",
        "merged_cl_folder = os.path.join(merged_root, 'cl')\n",
        "merged_image_folder = os.path.join(merged_root, 'image')\n",
        "merged_conf_folder = os.path.join(merged_root, 'conf')\n",
        "\n",
        "# Create destination folders\n",
        "os.makedirs(merged_cl_folder, exist_ok=True)\n",
        "os.makedirs(merged_image_folder, exist_ok=True)\n",
        "os.makedirs(merged_conf_folder, exist_ok=True)\n",
        "\n",
        "# Move all MARIDA files (no checks, just move all)\n",
        "for file_name in os.listdir(marida_cl_root):\n",
        "    src = os.path.join(marida_cl_root, file_name)\n",
        "    dst = os.path.join(merged_cl_folder, file_name)\n",
        "    shutil.copy(src, dst)\n",
        "\n",
        "for file_name in os.listdir(marida_image_root):\n",
        "    src = os.path.join(marida_image_root, file_name)\n",
        "    dst = os.path.join(merged_image_folder, file_name)\n",
        "    shutil.copy(src, dst)\n",
        "\n",
        "for file_name in os.listdir(marida_conf_root):\n",
        "    src = os.path.join(marida_conf_root, file_name)\n",
        "    dst = os.path.join(merged_conf_folder, file_name)\n",
        "    shutil.copy(src, dst)\n",
        "\n",
        "# Move all MADOS files (from each scene folder)\n",
        "for scene_name in sorted(os.listdir(mados_root)):\n",
        "    scene_path = os.path.join(mados_root, scene_name)\n",
        "    if not os.path.isdir(scene_path):\n",
        "        continue\n",
        "\n",
        "    # Move cl files\n",
        "    cl_file = os.path.join(scene_path, f'{scene_name}_rhodc_cl.tif')\n",
        "    if os.path.exists(cl_file):\n",
        "        shutil.copy(cl_file, merged_cl_folder)\n",
        "\n",
        "    # Move image files\n",
        "    image_file = os.path.join(scene_path, f'{scene_name}_rhodc.tif')\n",
        "    if os.path.exists(image_file):\n",
        "        shutil.copy(image_file, merged_image_folder)\n",
        "\n",
        "    # Move conf files\n",
        "    conf_file = os.path.join(scene_path, f'{scene_name}_rhodc_conf.tif')\n",
        "    if os.path.exists(conf_file):\n",
        "        shutil.copy(conf_file, merged_conf_folder)\n",
        "\n",
        "print(\"All files moved successfully without renaming.\")\n"
      ],
      "metadata": {
        "colab": {
          "base_uri": "https://localhost:8080/"
        },
        "id": "cPcSZcfyGjJr",
        "outputId": "fc18824e-0110-41a8-98c6-f88913fc4459"
      },
      "execution_count": 63,
      "outputs": [
        {
          "output_type": "stream",
          "name": "stdout",
          "text": [
            "All files moved successfully without renaming.\n"
          ]
        }
      ]
    },
    {
      "cell_type": "markdown",
      "source": [
        "Model Unet"
      ],
      "metadata": {
        "id": "dEvWom45IEEJ"
      }
    },
    {
      "cell_type": "code",
      "source": [
        "import os\n",
        "import numpy as np\n",
        "import rasterio\n",
        "from tqdm import tqdm\n",
        "import torch\n",
        "from torch.utils.data import Dataset, DataLoader\n",
        "import torchvision.transforms as transforms\n",
        "import albumentations as A\n",
        "from albumentations.pytorch import ToTensorV2\n",
        "from sklearn.model_selection import train_test_split\n",
        "import pickle\n",
        "\n",
        "# Set your paths\n",
        "base_dir = '/content/merged_marida_mados'\n",
        "image_dir = os.path.join(base_dir, 'image')\n",
        "mask_dir = os.path.join(base_dir, 'cl')\n",
        "processed_dir = os.path.join(base_dir, 'processed')\n",
        "\n",
        "# Define class mapping (you need to define it based on your classes)\n",
        "class_mapping = {\n",
        "    1: 'Marine debris',\n",
        "    2: 'Other class 2',\n",
        "    3: 'Other class 3',\n",
        "    # ... up to 15\n",
        "}\n",
        "\n",
        "def preprocess_data_for_training():\n",
        "    os.makedirs(processed_dir, exist_ok=True)\n",
        "\n",
        "    image_files = [f for f in os.listdir(image_dir) if f.endswith('.tif')]\n",
        "\n",
        "    all_image_paths = []\n",
        "    for img_file in image_files:\n",
        "        mask_file = img_file.replace('.tif', '_cl.tif')\n",
        "        mask_path = os.path.join(mask_dir, mask_file)\n",
        "        if os.path.exists(mask_path):\n",
        "            all_image_paths.append(img_file)\n",
        "\n",
        "    train_val_paths, test_paths = train_test_split(all_image_paths, test_size=0.2, random_state=42)\n",
        "    train_paths, val_paths = train_test_split(train_val_paths, test_size=0.2, random_state=42)\n",
        "\n",
        "    split_paths = {\n",
        "        'train': train_paths,\n",
        "        'val': val_paths,\n",
        "        'test': test_paths\n",
        "    }\n",
        "\n",
        "    with open(os.path.join(processed_dir, \"split_paths.pkl\"), 'wb') as f:\n",
        "        pickle.dump(split_paths, f)\n",
        "\n",
        "    analyze_split_class_distribution(train_paths, 'train')\n",
        "    analyze_split_class_distribution(val_paths, 'val')\n",
        "    analyze_split_class_distribution(test_paths, 'test')\n",
        "\n",
        "    print(f\"Train: {len(train_paths)} images\")\n",
        "    print(f\"Val: {len(val_paths)} images\")\n",
        "    print(f\"Test: {len(test_paths)} images\")\n",
        "    return split_paths\n",
        "\n",
        "def analyze_split_class_distribution(paths, split_name):\n",
        "    class_counts = {i: 0 for i in range(1, 16)}\n",
        "    total_pixels = 0\n",
        "    has_debris_count = 0\n",
        "\n",
        "    for img_file in tqdm(paths, desc=f\"Analyzing {split_name}\"):\n",
        "        mask_file = img_file.replace('.tif', '_cl.tif')\n",
        "        mask_path = os.path.join(mask_dir, mask_file)\n",
        "\n",
        "        with rasterio.open(mask_path) as src:\n",
        "            mask = src.read(1)\n",
        "\n",
        "        has_debris = False\n",
        "        for class_id in range(1, 16):\n",
        "            count = np.sum(mask == class_id)\n",
        "            class_counts[class_id] += count\n",
        "            if class_id == 1 and count > 0:\n",
        "                has_debris = True\n",
        "\n",
        "        if has_debris:\n",
        "            has_debris_count += 1\n",
        "\n",
        "        total_pixels += mask.size\n",
        "\n",
        "    class_percentages = {class_id: (count / total_pixels * 100)\n",
        "                         for class_id, count in class_counts.items()}\n",
        "\n",
        "    with open(os.path.join(processed_dir, f\"{split_name}_class_distribution.txt\"), 'w') as f:\n",
        "        f.write(f\"Class distribution for {split_name}:\\n\")\n",
        "        f.write(f\"Total images: {len(paths)}\\n\")\n",
        "        f.write(f\"Images with debris: {has_debris_count} ({has_debris_count/len(paths)*100:.2f}%)\\n\\n\")\n",
        "        for class_id, percentage in sorted(class_percentages.items(), key=lambda x: x[1], reverse=True):\n",
        "            f.write(f\"{class_id}: {class_mapping.get(class_id, 'Unknown')} - {percentage:.2f}%\\n\")\n",
        "\n",
        "    class_weights = {class_id: (total_pixels / (count + 1))\n",
        "                     for class_id, count in class_counts.items()}\n",
        "    sum_weights = sum(class_weights.values())\n",
        "    normalized_weights = {class_id: weight / sum_weights for class_id, weight in class_weights.items()}\n",
        "\n",
        "    np.save(os.path.join(processed_dir, f\"{split_name}_class_weights.npy\"),\n",
        "            np.array([normalized_weights[i] for i in range(1, 16)]))\n",
        "\n",
        "    return class_percentages\n",
        "\n",
        "class MARIDADataset(Dataset):\n",
        "    def __init__(self, paths, image_dir, mask_dir, transform=None, use_multispectral=True):\n",
        "        self.paths = paths\n",
        "        self.image_dir = image_dir\n",
        "        self.mask_dir = mask_dir\n",
        "        self.transform = transform\n",
        "        self.use_multispectral = use_multispectral\n",
        "        self.rgb_bands = [2, 1, 0]\n",
        "\n",
        "    def __len__(self):\n",
        "        return len(self.paths)\n",
        "\n",
        "    def __getitem__(self, idx):\n",
        "        try:\n",
        "            img_name = self.paths[idx]\n",
        "            img_path = os.path.join(self.image_dir, img_name)\n",
        "            mask_name = img_name.replace('.tif', '_cl.tif')\n",
        "            mask_path = os.path.join(self.mask_dir, mask_name)\n",
        "\n",
        "            with rasterio.open(img_path) as src:\n",
        "                image = src.read()\n",
        "\n",
        "            with rasterio.open(mask_path) as src:\n",
        "                mask = src.read(1)\n",
        "\n",
        "            if not self.use_multispectral:\n",
        "                image = image[self.rgb_bands]\n",
        "\n",
        "            image = image.astype(np.float32)\n",
        "\n",
        "            if self.use_multispectral:\n",
        "                nir_band = 3\n",
        "                red_band = 2\n",
        "                ndvi = (image[nir_band] - image[red_band]) / (image[nir_band] + image[red_band] + 1e-7)\n",
        "                image = np.vstack([image, ndvi.reshape(1, image.shape[1], image.shape[2])])\n",
        "\n",
        "            for i in range(image.shape[0]):\n",
        "                band_min, band_max = np.nanmin(image[i]), np.nanmax(image[i])\n",
        "                if np.isnan(band_min) or np.isnan(band_max):\n",
        "                    image[i] = np.nan_to_num(image[i], nan=0.0)\n",
        "                    band_min, band_max = 0, 1\n",
        "                if band_max > band_min:\n",
        "                    image[i] = (image[i] - band_min) / (band_max - band_min)\n",
        "                else:\n",
        "                    image[i] = np.zeros_like(image[i])\n",
        "\n",
        "            image = np.nan_to_num(image, nan=0.0, posinf=1.0, neginf=0.0)\n",
        "            binary_mask = (mask == 1).astype(np.float32)\n",
        "\n",
        "            if self.transform:\n",
        "                transformed = self.transform(image=np.transpose(image, (1, 2, 0)), mask=binary_mask)\n",
        "                image = transformed['image']\n",
        "                binary_mask = transformed['mask']\n",
        "\n",
        "                if not torch.is_tensor(image):\n",
        "                    image = torch.from_numpy(image.transpose(2, 0, 1))\n",
        "                if not torch.is_tensor(binary_mask):\n",
        "                    binary_mask = torch.from_numpy(binary_mask).unsqueeze(0)\n",
        "            else:\n",
        "                image = torch.from_numpy(image)\n",
        "                binary_mask = torch.from_numpy(binary_mask).unsqueeze(0)\n",
        "\n",
        "            return image, binary_mask\n",
        "\n",
        "        except Exception as e:\n",
        "            print(f\"Error loading {img_name}: {e}\")\n",
        "            dummy_img = torch.zeros((12, 256, 256), dtype=torch.float32) if self.use_multispectral else torch.zeros((3, 256, 256), dtype=torch.float32)\n",
        "            dummy_mask = torch.zeros((1, 256, 256), dtype=torch.float32)\n",
        "            return dummy_img, dummy_mask\n",
        "\n",
        "# Define transforms\n",
        "train_transform = A.Compose([\n",
        "    A.RandomRotate90(p=0.5),\n",
        "    A.HorizontalFlip(p=0.5),\n",
        "    A.VerticalFlip(p=0.5),\n",
        "    A.ElasticTransform(p=0.3),\n",
        "    A.GridDistortion(p=0.2),\n",
        "    A.OpticalDistortion(p=0.2),\n",
        "    A.RandomBrightnessContrast(brightness_limit=0.3, contrast_limit=0.3, p=0.5),\n",
        "    A.GaussNoise(var_limit=(10.0, 50.0), p=0.3),\n",
        "    A.OneOf([\n",
        "        A.RandomGamma(p=1.0),\n",
        "        A.ChannelShuffle(p=1.0),\n",
        "        A.ChannelDropout(p=1.0),\n",
        "    ], p=0.3),\n",
        "    ToTensorV2()\n",
        "])\n",
        "\n",
        "val_transform = A.Compose([\n",
        "    ToTensorV2()\n",
        "])\n",
        "\n",
        "def prepare_data_loaders(split_paths, image_dir, mask_dir, batch_size=8, num_workers=4, use_multispectral=True):\n",
        "    sample_weights = []\n",
        "    for img_file in split_paths['train']:\n",
        "        mask_file = img_file.replace('.tif', '_cl.tif')\n",
        "        mask_path = os.path.join(mask_dir, mask_file)\n",
        "\n",
        "        with rasterio.open(mask_path) as src:\n",
        "            mask = src.read(1)\n",
        "            has_debris = (mask == 1).any()\n",
        "            weight = 3.0 if has_debris else 1.0\n",
        "            sample_weights.append(weight)\n",
        "\n",
        "    sampler = torch.utils.data.WeightedRandomSampler(\n",
        "        weights=sample_weights,\n",
        "        num_samples=len(split_paths['train']),\n",
        "        replacement=True\n",
        "    )\n",
        "\n",
        "    train_dataset = MARIDADataset(split_paths['train'], image_dir, mask_dir, transform=train_transform, use_multispectral=use_multispectral)\n",
        "    val_dataset = MARIDADataset(split_paths['val'], image_dir, mask_dir, transform=val_transform, use_multispectral=use_multispectral)\n",
        "    test_dataset = MARIDADataset(split_paths['test'], image_dir, mask_dir, transform=val_transform, use_multispectral=use_multispectral)\n",
        "\n",
        "    train_loader = DataLoader(train_dataset, batch_size=batch_size, sampler=sampler, num_workers=num_workers, pin_memory=True)\n",
        "    val_loader = DataLoader(val_dataset, batch_size=batch_size, shuffle=False, num_workers=num_workers, pin_memory=True)\n",
        "    test_loader = DataLoader(test_dataset, batch_size=batch_size, shuffle=False, num_workers=num_workers, pin_memory=True)\n",
        "\n",
        "    print(f\"Train samples: {len(train_dataset)}\")\n",
        "    print(f\"Val samples: {len(val_dataset)}\")\n",
        "    print(f\"Test samples: {len(test_dataset)}\")\n",
        "    sample_img, _ = train_dataset[0]\n",
        "    print(f\"Input shape: {sample_img.shape}\")\n",
        "    print(f\"Using {'multispectral' if use_multispectral else 'RGB'} data\")\n",
        "\n",
        "    return train_loader, val_loader, test_loader\n",
        "\n",
        "# Preprocess and prepare loaders\n",
        "split_paths = preprocess_data_for_training()\n",
        "train_loader, val_loader, test_loader = prepare_data_loaders(\n",
        "    split_paths,\n",
        "    image_dir,\n",
        "    mask_dir,\n",
        "    batch_size=8,\n",
        "    use_multispectral=True\n",
        ")\n"
      ],
      "metadata": {
        "colab": {
          "base_uri": "https://localhost:8080/"
        },
        "id": "cZQRFs9EJwPo",
        "outputId": "e46b8a6c-1989-4432-d054-b8cf1b9be90e"
      },
      "execution_count": 64,
      "outputs": [
        {
          "output_type": "stream",
          "name": "stderr",
          "text": [
            "Analyzing train: 100%|██████████| 883/883 [00:09<00:00, 92.78it/s]\n",
            "Analyzing val: 100%|██████████| 221/221 [00:02<00:00, 101.25it/s]\n",
            "Analyzing test: 100%|██████████| 277/277 [00:02<00:00, 94.58it/s]\n"
          ]
        },
        {
          "output_type": "stream",
          "name": "stdout",
          "text": [
            "Train: 883 images\n",
            "Val: 221 images\n",
            "Test: 277 images\n",
            "Train samples: 883\n",
            "Val samples: 221\n",
            "Test samples: 277\n",
            "Input shape: torch.Size([12, 256, 256])\n",
            "Using multispectral data\n"
          ]
        }
      ]
    }
  ],
  "metadata": {
    "colab": {
      "provenance": [],
      "mount_file_id": "1S8IwF_C2A_dLekrTJ6KQJr_pdB5PLdjt",
      "authorship_tag": "ABX9TyPaJ3h7NyIS+iJZUhGoll5n",
      "include_colab_link": true
    },
    "kernelspec": {
      "display_name": "Python 3",
      "name": "python3"
    },
    "language_info": {
      "name": "python"
    }
  },
  "nbformat": 4,
  "nbformat_minor": 0
}