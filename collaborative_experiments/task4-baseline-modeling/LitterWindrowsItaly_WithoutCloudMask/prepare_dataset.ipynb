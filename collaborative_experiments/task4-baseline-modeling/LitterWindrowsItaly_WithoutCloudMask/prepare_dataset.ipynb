{
  "cells": [
    {
      "cell_type": "code",
      "execution_count": null,
      "metadata": {},
      "outputs": [],
      "source": [
        "# !pip install scikit-learn"
      ]
    },
    {
      "cell_type": "code",
      "execution_count": null,
      "metadata": {},
      "outputs": [],
      "source": [
        "import os\n",
        "import glob\n",
        "from sklearn.model_selection import train_test_split"
      ]
    },
    {
      "cell_type": "code",
      "execution_count": 7,
      "metadata": {},
      "outputs": [
        {
          "name": "stdout",
          "output_type": "stream",
          "text": [
            "Looking for patches in directory: /Users/nouri/repos/my-projects/plastic_detection/TriesteItalyChapter_PlasticDebrisDetection/task3-cleaning-and-preprocessing/notebooks/S2_L1C_SAFE_ACOLITE_complete_pipeline/output_batches/patches\n",
            "📊 Dataset Split: Train=1221, Val=153, Test=153\n",
            "✅ Successfully split and saved data paths!\n"
          ]
        }
      ],
      "source": [
        "# Constants\n",
        "BASE_DIR = \"./data\"\n",
        "PATCHES_DIR = \"./output_batches\"\n",
        "\n",
        "def create_directory(path):\n",
        "    \"\"\"\n",
        "    Creates a directory if it doesn't already exist.\n",
        "\n",
        "    Args:\n",
        "        path (str): Path to the directory.\n",
        "    \"\"\"\n",
        "    os.makedirs(path, exist_ok=True)\n",
        "\n",
        "def get_image_and_mask_paths(dataset_path):\n",
        "    \"\"\"\n",
        "    Scans the dataset directory for image and corresponding mask file paths.\n",
        "\n",
        "    Args:\n",
        "        dataset_path (str): Root directory containing patch subdirectories.\n",
        "\n",
        "    Returns:\n",
        "        tuple: Lists of image paths and corresponding mask paths.\n",
        "    \"\"\"\n",
        "    patches_dir = os.path.join(dataset_path, \"patches\")\n",
        "    print(f\"🔍 Searching for patches in: {os.path.abspath(patches_dir)}\")\n",
        "    \n",
        "    image_paths = []\n",
        "    mask_paths = []\n",
        "\n",
        "    for subfolder in os.listdir(patches_dir):\n",
        "        subfolder_path = os.path.join(patches_dir, subfolder)\n",
        "        if os.path.isdir(subfolder_path):\n",
        "            images = sorted(glob.glob(os.path.join(subfolder_path, \"*.tif\")))\n",
        "            for img_path in images:\n",
        "                if \"_cl.tif\" in img_path:\n",
        "                    continue\n",
        "                mask_path = img_path.replace(\".tif\", \"_cl.tif\")\n",
        "                if os.path.exists(mask_path):\n",
        "                    image_paths.append(img_path)\n",
        "                    mask_paths.append(mask_path)\n",
        "\n",
        "    return image_paths, mask_paths\n",
        "\n",
        "def split_and_save_data(image_paths, mask_paths, output_dir):\n",
        "    \"\"\"\n",
        "    Splits data into training, validation, and test sets, and saves paths to text files.\n",
        "\n",
        "    Args:\n",
        "        image_paths (list): List of image file paths.\n",
        "        mask_paths (list): List of corresponding mask file paths.\n",
        "        output_dir (str): Directory where split path files will be saved.\n",
        "    \"\"\"\n",
        "    # Split into 80% train and 20% temp (val + test)\n",
        "    train_imgs, temp_imgs, train_masks, temp_masks = train_test_split(\n",
        "        image_paths, mask_paths, test_size=0.2, random_state=42\n",
        "    )\n",
        "    # Split temp into 50% val and 50% test (10% each of total)\n",
        "    val_imgs, test_imgs, val_masks, test_masks = train_test_split(\n",
        "        temp_imgs, temp_masks, test_size=0.5, random_state=42\n",
        "    )\n",
        "\n",
        "    print(f\"📊 Dataset Split - Train: {len(train_imgs)}, Val: {len(val_imgs)}, Test: {len(test_imgs)}\")\n",
        "\n",
        "    # Save split data\n",
        "    splits_dir = os.path.join(output_dir, \"splits\")\n",
        "    os.makedirs(splits_dir, exist_ok=True)\n",
        "\n",
        "    def save_paths(file_path, paths):\n",
        "        with open(file_path, \"w\") as f:\n",
        "            for path in paths:\n",
        "                f.write(os.path.abspath(path) + \"\\n\")\n",
        "\n",
        "    # Save image paths\n",
        "    save_paths(os.path.join(splits_dir, \"train_X.txt\"), train_imgs)\n",
        "    save_paths(os.path.join(splits_dir, \"val_X.txt\"), val_imgs)\n",
        "    save_paths(os.path.join(splits_dir, \"test_X.txt\"), test_imgs)\n",
        "\n",
        "    # Save mask paths\n",
        "    save_paths(os.path.join(splits_dir, \"train_masks.txt\"), train_masks)\n",
        "    save_paths(os.path.join(splits_dir, \"val_masks.txt\"), val_masks)\n",
        "    save_paths(os.path.join(splits_dir, \"test_masks.txt\"), test_masks)\n",
        "\n",
        "    print(\"✅ Data paths successfully saved!\")\n",
        "\n",
        "def main():\n",
        "    \"\"\"\n",
        "    Main function to prepare dataset directories and split image/mask paths.\n",
        "    \"\"\"\n",
        "    create_directory(BASE_DIR)\n",
        "    image_paths, mask_paths = get_image_and_mask_paths(PATCHES_DIR)\n",
        "    split_and_save_data(image_paths, mask_paths, BASE_DIR)\n",
        "\n",
        "if __name__ == \"__main__\":\n",
        "    main()"
      ]
    }
  ],
  "metadata": {
    "accelerator": "GPU",
    "colab": {
      "gpuType": "T4",
      "provenance": []
    },
    "kernelspec": {
      "display_name": ".venv_tensorflow",
      "language": "python",
      "name": "python3"
    },
    "language_info": {
      "codemirror_mode": {
        "name": "ipython",
        "version": 3
      },
      "file_extension": ".py",
      "mimetype": "text/x-python",
      "name": "python",
      "nbconvert_exporter": "python",
      "pygments_lexer": "ipython3",
      "version": "3.11.5"
    }
  },
  "nbformat": 4,
  "nbformat_minor": 0
}
